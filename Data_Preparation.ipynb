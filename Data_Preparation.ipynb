{
 "cells": [
  {
   "cell_type": "markdown",
   "metadata": {},
   "source": [
    "# Navigation\n",
    "\n",
    "1. Delete all unnecessary columns\n",
    "\n",
    "2. Delete all entries with a neutral rating (overall = 3)\n",
    "\n",
    "3. Binary Class \"good\" for \"Positive\" and \"Negative\" sentiment\n",
    "\n",
    "4. Resample to obtain balanced dataset\n",
    "\n",
    "5. Data Merging for Genre Attributes (dummy variables)\n",
    "\n",
    "6. Add Personality & Grammar Features\n",
    "\n",
    "7. Normalizing numerical features\n",
    "\n",
    "8. Create interaction terms between movie genre and personality\n",
    "\n",
    "9. Show descriptive statistics for variables\n",
    "\n",
    "10. Use all features for a prediction model (Ridge Classifier, Neural Net)"
   ]
  },
  {
   "cell_type": "code",
   "execution_count": 9,
   "metadata": {},
   "outputs": [
    {
     "name": "stderr",
     "output_type": "stream",
     "text": [
      "[nltk_data] Downloading package stopwords to\n",
      "[nltk_data]     C:\\Users\\MAHAM\\AppData\\Roaming\\nltk_data...\n",
      "[nltk_data]   Package stopwords is already up-to-date!\n"
     ]
    }
   ],
   "source": [
    "import pandas as pd\n",
    "import os as os\n",
    "import json as js\n",
    "import gzip\n",
    "import numpy as np\n",
    "import matplotlib.pyplot as plt\n",
    "import pickle\n",
    "\n",
    "#importing libraries for NLP\n",
    "import re\n",
    "import nltk\n",
    "nltk.download('stopwords')\n",
    "from nltk.corpus import stopwords\n",
    "from nltk.stem.porter import PorterStemmer\n",
    "from collections import Counter\n",
    "\n",
    "#Text Classification Material\n",
    "from sklearn.feature_extraction.text import CountVectorizer\n",
    "from sklearn.feature_extraction.text import TfidfTransformer\n",
    "from sklearn.pipeline import Pipeline\n",
    "from sklearn.model_selection import train_test_split\n",
    "from sklearn.metrics import accuracy_score\n",
    "from sklearn.naive_bayes import GaussianNB\n",
    "from sklearn.naive_bayes import MultinomialNB\n",
    "from sklearn.naive_bayes import BernoulliNB\n",
    "from sklearn.metrics import confusion_matrix"
   ]
  },
  {
   "cell_type": "code",
   "execution_count": 2,
   "metadata": {},
   "outputs": [
    {
     "data": {
      "text/plain": [
       "'C:\\\\Users\\\\MAHAM\\\\Desktop\\\\Studium\\\\Capstone Project\\\\master__thesis'"
      ]
     },
     "execution_count": 2,
     "metadata": {},
     "output_type": "execute_result"
    }
   ],
   "source": [
    "os.chdir(\"C:/Users/MAHAM/Desktop/Studium/Capstone Project/master__thesis\")\n",
    "os.getcwd()"
   ]
  },
  {
   "cell_type": "markdown",
   "metadata": {},
   "source": [
    "# Data Preparation\n",
    "### Merging Genre Data with Review Data"
   ]
  },
  {
   "cell_type": "markdown",
   "metadata": {},
   "source": [
    "#### Review Data"
   ]
  },
  {
   "cell_type": "code",
   "execution_count": 16,
   "metadata": {},
   "outputs": [],
   "source": [
    "with open ('movies_data', 'rb') as fr:\n",
    "    full_df = pickle.load(fr)"
   ]
  },
  {
   "cell_type": "code",
   "execution_count": 25,
   "metadata": {},
   "outputs": [
    {
     "data": {
      "text/plain": [
       "(1697533, 9)"
      ]
     },
     "execution_count": 25,
     "metadata": {},
     "output_type": "execute_result"
    }
   ],
   "source": [
    "full_df.shape"
   ]
  },
  {
   "cell_type": "markdown",
   "metadata": {},
   "source": [
    "#### Genre Labels Data"
   ]
  },
  {
   "cell_type": "code",
   "execution_count": 17,
   "metadata": {},
   "outputs": [
    {
     "name": "stderr",
     "output_type": "stream",
     "text": [
      "C:\\Users\\Pegah\\Anaconda3\\lib\\site-packages\\ipykernel_launcher.py:1: FutureWarning: from_csv is deprecated. Please use read_csv(...) instead. Note that some of the default arguments are different, so please refer to the documentation for from_csv when changing your function calls\n",
      "  \"\"\"Entry point for launching an IPython kernel.\n"
     ]
    }
   ],
   "source": [
    "dfg = pd.DataFrame.from_csv(\"labels.csv\",index_col=None)"
   ]
  },
  {
   "cell_type": "code",
   "execution_count": 18,
   "metadata": {},
   "outputs": [],
   "source": [
    "dfg = pd.DataFrame(dfg)"
   ]
  },
  {
   "cell_type": "code",
   "execution_count": 19,
   "metadata": {},
   "outputs": [
    {
     "data": {
      "text/html": [
       "<div>\n",
       "<style scoped>\n",
       "    .dataframe tbody tr th:only-of-type {\n",
       "        vertical-align: middle;\n",
       "    }\n",
       "\n",
       "    .dataframe tbody tr th {\n",
       "        vertical-align: top;\n",
       "    }\n",
       "\n",
       "    .dataframe thead th {\n",
       "        text-align: right;\n",
       "    }\n",
       "</style>\n",
       "<table border=\"1\" class=\"dataframe\">\n",
       "  <thead>\n",
       "    <tr style=\"text-align: right;\">\n",
       "      <th></th>\n",
       "      <th>ASIN</th>\n",
       "      <th>Categories</th>\n",
       "    </tr>\n",
       "  </thead>\n",
       "  <tbody>\n",
       "    <tr>\n",
       "      <th>0</th>\n",
       "      <td>B0029Z8KCY</td>\n",
       "      <td>['Movies &amp; TV', 'Boxed Sets', 'Anime']</td>\n",
       "    </tr>\n",
       "    <tr>\n",
       "      <th>1</th>\n",
       "      <td>B00004CQT3</td>\n",
       "      <td>['Movies &amp; TV', 'Genre for Featured Categories...</td>\n",
       "    </tr>\n",
       "    <tr>\n",
       "      <th>2</th>\n",
       "      <td>B00004CQT4</td>\n",
       "      <td>['Movies &amp; TV', 'Genre for Featured Categories...</td>\n",
       "    </tr>\n",
       "    <tr>\n",
       "      <th>3</th>\n",
       "      <td>B006JIUN2W</td>\n",
       "      <td>[]</td>\n",
       "    </tr>\n",
       "    <tr>\n",
       "      <th>4</th>\n",
       "      <td>B004MPGBHK</td>\n",
       "      <td>[]</td>\n",
       "    </tr>\n",
       "  </tbody>\n",
       "</table>\n",
       "</div>"
      ],
      "text/plain": [
       "         ASIN                                         Categories\n",
       "0  B0029Z8KCY             ['Movies & TV', 'Boxed Sets', 'Anime']\n",
       "1  B00004CQT3  ['Movies & TV', 'Genre for Featured Categories...\n",
       "2  B00004CQT4  ['Movies & TV', 'Genre for Featured Categories...\n",
       "3  B006JIUN2W                                                 []\n",
       "4  B004MPGBHK                                                 []"
      ]
     },
     "execution_count": 19,
     "metadata": {},
     "output_type": "execute_result"
    }
   ],
   "source": [
    "dfg.head()"
   ]
  },
  {
   "cell_type": "code",
   "execution_count": 20,
   "metadata": {},
   "outputs": [
    {
     "data": {
      "text/plain": [
       "(253059, 2)"
      ]
     },
     "execution_count": 20,
     "metadata": {},
     "output_type": "execute_result"
    }
   ],
   "source": [
    "dfg.shape"
   ]
  },
  {
   "cell_type": "markdown",
   "metadata": {},
   "source": [
    "##### Deleting all rows where \"Categories\" is empty"
   ]
  },
  {
   "cell_type": "code",
   "execution_count": 21,
   "metadata": {},
   "outputs": [],
   "source": [
    "dfg = dfg[dfg[\"Categories\"].map(len)!=2]"
   ]
  },
  {
   "cell_type": "code",
   "execution_count": 22,
   "metadata": {},
   "outputs": [
    {
     "data": {
      "text/plain": [
       "(217740, 2)"
      ]
     },
     "execution_count": 22,
     "metadata": {},
     "output_type": "execute_result"
    }
   ],
   "source": [
    "dfg.shape"
   ]
  },
  {
   "cell_type": "markdown",
   "metadata": {},
   "source": [
    "##### Keeping all Movies with the following ten Genres\n",
    "- Comedy\n",
    "- Art house and international\n",
    "- Documentary\n",
    "- Drama\n",
    "- Action & Adventure\n",
    "- Horror\n",
    "- Science Fiction\n",
    "- Animation\n",
    "- Kids & Family\n",
    "- Musicals"
   ]
  },
  {
   "cell_type": "code",
   "execution_count": 23,
   "metadata": {},
   "outputs": [],
   "source": [
    "dfg=dfg[dfg['Categories'].str.contains(\"Comedy|Art House and International|Documentary|Drama|Action & Adventure|Horror|Science Fiction|Animation|Kids & Family|Musicals\")]"
   ]
  },
  {
   "cell_type": "code",
   "execution_count": 27,
   "metadata": {},
   "outputs": [
    {
     "data": {
      "text/html": [
       "<div>\n",
       "<style scoped>\n",
       "    .dataframe tbody tr th:only-of-type {\n",
       "        vertical-align: middle;\n",
       "    }\n",
       "\n",
       "    .dataframe tbody tr th {\n",
       "        vertical-align: top;\n",
       "    }\n",
       "\n",
       "    .dataframe thead th {\n",
       "        text-align: right;\n",
       "    }\n",
       "</style>\n",
       "<table border=\"1\" class=\"dataframe\">\n",
       "  <thead>\n",
       "    <tr style=\"text-align: right;\">\n",
       "      <th></th>\n",
       "      <th>ASIN</th>\n",
       "      <th>Categories</th>\n",
       "    </tr>\n",
       "  </thead>\n",
       "  <tbody>\n",
       "    <tr>\n",
       "      <th>1</th>\n",
       "      <td>B00004CQT3</td>\n",
       "      <td>['Movies &amp; TV', 'Genre for Featured Categories...</td>\n",
       "    </tr>\n",
       "    <tr>\n",
       "      <th>2</th>\n",
       "      <td>B00004CQT4</td>\n",
       "      <td>['Movies &amp; TV', 'Genre for Featured Categories...</td>\n",
       "    </tr>\n",
       "    <tr>\n",
       "      <th>8</th>\n",
       "      <td>B000NDFLWG</td>\n",
       "      <td>['Movies &amp; TV', 'Independently Distributed', '...</td>\n",
       "    </tr>\n",
       "    <tr>\n",
       "      <th>10</th>\n",
       "      <td>B008FPU7AA</td>\n",
       "      <td>['Movies &amp; TV', 'Genre for Featured Categories...</td>\n",
       "    </tr>\n",
       "    <tr>\n",
       "      <th>11</th>\n",
       "      <td>0790747324</td>\n",
       "      <td>['Movies &amp; TV', 'Science Fiction &amp; Fantasy', '...</td>\n",
       "    </tr>\n",
       "  </tbody>\n",
       "</table>\n",
       "</div>"
      ],
      "text/plain": [
       "          ASIN                                         Categories\n",
       "1   B00004CQT3  ['Movies & TV', 'Genre for Featured Categories...\n",
       "2   B00004CQT4  ['Movies & TV', 'Genre for Featured Categories...\n",
       "8   B000NDFLWG  ['Movies & TV', 'Independently Distributed', '...\n",
       "10  B008FPU7AA  ['Movies & TV', 'Genre for Featured Categories...\n",
       "11  0790747324  ['Movies & TV', 'Science Fiction & Fantasy', '..."
      ]
     },
     "execution_count": 27,
     "metadata": {},
     "output_type": "execute_result"
    }
   ],
   "source": [
    "dfg.head()"
   ]
  },
  {
   "cell_type": "markdown",
   "metadata": {},
   "source": [
    "### Balancing the Genres by Undersampling"
   ]
  },
  {
   "cell_type": "code",
   "execution_count": 49,
   "metadata": {},
   "outputs": [
    {
     "name": "stdout",
     "output_type": "stream",
     "text": [
      "Comedy 17304\n",
      "Art House & International 1436\n",
      "Documentary 14186\n",
      "Drama 21229\n",
      "Action & Adventure 20057\n",
      "Horror 5562\n",
      "Science Fiction 12565\n",
      "Animation 6949\n",
      "Kids & Family 10890\n",
      "Musicals 8243\n"
     ]
    }
   ],
   "source": [
    "genres=[\"Comedy\",\"Art House & International\",\"Documentary\",\"Drama\",\"Action & Adventure\",\"Horror\",\"Science Fiction\",\"Animation\",\"Kids & Family\",\"Musicals\"]\n",
    "for genre in genres:\n",
    "    count=len(dfg[dfg['Categories'].str.contains(genre)])\n",
    "    print(genre,str(count))"
   ]
  },
  {
   "cell_type": "markdown",
   "metadata": {},
   "source": [
    "##### As we can see, the rarest category here is Art House & International"
   ]
  },
  {
   "cell_type": "code",
   "execution_count": 44,
   "metadata": {},
   "outputs": [
    {
     "data": {
      "text/plain": [
       "1436"
      ]
     },
     "execution_count": 44,
     "metadata": {},
     "output_type": "execute_result"
    }
   ],
   "source": [
    "smallest_count=len(dfg[dfg['Categories'].str.contains(\"Art House & International\")])\n",
    "smallest_count"
   ]
  },
  {
   "cell_type": "code",
   "execution_count": 50,
   "metadata": {},
   "outputs": [],
   "source": [
    "genres_wo_art = [\"Comedy\",\"Documentary\",\"Drama\",\"Action & Adventure\",\"Horror\",\"Science Fiction\",\"Animation\",\"Kids & Family\",\"Musicals\"]\n"
   ]
  },
  {
   "cell_type": "code",
   "execution_count": 51,
   "metadata": {},
   "outputs": [],
   "source": [
    "# Divide by class\n",
    "dfg_art = dfg[dfg['Categories'].str.contains(\"Art House & International\")]\n",
    "n=0\n",
    "for genre in genres_wo_art:\n",
    "    df_class_pos = dfg[dfg['Categories'].str.contains(genre)]\n",
    "    df_class_pos_under = df_class_pos.sample(smallest_count, random_state=123)\n",
    "    if n==0:\n",
    "        df2= pd.concat([df_class_pos_under, dfg_art], axis=0)\n",
    "    else:\n",
    "        df2= pd.concat([df_class_pos_under, df2], axis=0)\n",
    "    n+=1"
   ]
  },
  {
   "cell_type": "markdown",
   "metadata": {},
   "source": [
    "#### Approximately equally large groups"
   ]
  },
  {
   "cell_type": "code",
   "execution_count": 52,
   "metadata": {},
   "outputs": [
    {
     "name": "stdout",
     "output_type": "stream",
     "text": [
      "Comedy 1951\n",
      "Art House & International 1534\n",
      "Documentary 1463\n",
      "Drama 2059\n",
      "Action & Adventure 1697\n",
      "Horror 1436\n",
      "Science Fiction 2794\n",
      "Animation 2183\n",
      "Kids & Family 1436\n",
      "Musicals 1497\n"
     ]
    }
   ],
   "source": [
    "for genre in genres:\n",
    "    count=len(df2[df2['Categories'].str.contains(genre)])\n",
    "    print(genre,str(count))"
   ]
  },
  {
   "cell_type": "code",
   "execution_count": 54,
   "metadata": {},
   "outputs": [
    {
     "data": {
      "text/html": [
       "<div>\n",
       "<style scoped>\n",
       "    .dataframe tbody tr th:only-of-type {\n",
       "        vertical-align: middle;\n",
       "    }\n",
       "\n",
       "    .dataframe tbody tr th {\n",
       "        vertical-align: top;\n",
       "    }\n",
       "\n",
       "    .dataframe thead th {\n",
       "        text-align: right;\n",
       "    }\n",
       "</style>\n",
       "<table border=\"1\" class=\"dataframe\">\n",
       "  <thead>\n",
       "    <tr style=\"text-align: right;\">\n",
       "      <th></th>\n",
       "      <th>ASIN</th>\n",
       "      <th>Categories</th>\n",
       "    </tr>\n",
       "  </thead>\n",
       "  <tbody>\n",
       "    <tr>\n",
       "      <th>131967</th>\n",
       "      <td>B004V2S4TC</td>\n",
       "      <td>['Movies &amp; TV', 'Musicals &amp; Performing Arts', ...</td>\n",
       "    </tr>\n",
       "    <tr>\n",
       "      <th>242178</th>\n",
       "      <td>B002JP9HIU</td>\n",
       "      <td>['Movies &amp; TV', 'Musicals &amp; Performing Arts', ...</td>\n",
       "    </tr>\n",
       "    <tr>\n",
       "      <th>158056</th>\n",
       "      <td>6302985935</td>\n",
       "      <td>['Movies &amp; TV', 'Studio Specials', '20th Centu...</td>\n",
       "    </tr>\n",
       "  </tbody>\n",
       "</table>\n",
       "</div>"
      ],
      "text/plain": [
       "              ASIN                                         Categories\n",
       "131967  B004V2S4TC  ['Movies & TV', 'Musicals & Performing Arts', ...\n",
       "242178  B002JP9HIU  ['Movies & TV', 'Musicals & Performing Arts', ...\n",
       "158056  6302985935  ['Movies & TV', 'Studio Specials', '20th Centu..."
      ]
     },
     "execution_count": 54,
     "metadata": {},
     "output_type": "execute_result"
    }
   ],
   "source": [
    "df2.head(3)"
   ]
  },
  {
   "cell_type": "code",
   "execution_count": 55,
   "metadata": {},
   "outputs": [
    {
     "data": {
      "text/plain": [
       "(14360, 2)"
      ]
     },
     "execution_count": 55,
     "metadata": {},
     "output_type": "execute_result"
    }
   ],
   "source": [
    "df2.shape"
   ]
  },
  {
   "cell_type": "markdown",
   "metadata": {},
   "source": [
    "##### Create list of 14360 selected movies "
   ]
  },
  {
   "cell_type": "code",
   "execution_count": 62,
   "metadata": {},
   "outputs": [
    {
     "data": {
      "text/plain": [
       "14360"
      ]
     },
     "execution_count": 62,
     "metadata": {},
     "output_type": "execute_result"
    }
   ],
   "source": [
    "selected_movies=df2[\"ASIN\"].values\n",
    "len(selected_movies)"
   ]
  },
  {
   "cell_type": "markdown",
   "metadata": {},
   "source": [
    "##### Reduces the number of entries from 1.7 million to around 78,000 "
   ]
  },
  {
   "cell_type": "code",
   "execution_count": 60,
   "metadata": {},
   "outputs": [
    {
     "data": {
      "text/plain": [
       "(1697533, 9)"
      ]
     },
     "execution_count": 60,
     "metadata": {},
     "output_type": "execute_result"
    }
   ],
   "source": [
    "full_df.shape"
   ]
  },
  {
   "cell_type": "code",
   "execution_count": 63,
   "metadata": {},
   "outputs": [
    {
     "data": {
      "text/plain": [
       "(78423, 9)"
      ]
     },
     "execution_count": 63,
     "metadata": {},
     "output_type": "execute_result"
    }
   ],
   "source": [
    "df=full_df[full_df[\"asin\"].isin(selected_movies)]\n",
    "df.shape"
   ]
  },
  {
   "cell_type": "markdown",
   "metadata": {},
   "source": [
    "#### Delete unused columns"
   ]
  },
  {
   "cell_type": "code",
   "execution_count": 64,
   "metadata": {},
   "outputs": [
    {
     "data": {
      "text/html": [
       "<div>\n",
       "<style scoped>\n",
       "    .dataframe tbody tr th:only-of-type {\n",
       "        vertical-align: middle;\n",
       "    }\n",
       "\n",
       "    .dataframe tbody tr th {\n",
       "        vertical-align: top;\n",
       "    }\n",
       "\n",
       "    .dataframe thead th {\n",
       "        text-align: right;\n",
       "    }\n",
       "</style>\n",
       "<table border=\"1\" class=\"dataframe\">\n",
       "  <thead>\n",
       "    <tr style=\"text-align: right;\">\n",
       "      <th></th>\n",
       "      <th>reviewerID</th>\n",
       "      <th>asin</th>\n",
       "      <th>reviewerName</th>\n",
       "      <th>helpful</th>\n",
       "      <th>reviewText</th>\n",
       "      <th>overall</th>\n",
       "      <th>summary</th>\n",
       "      <th>unixReviewTime</th>\n",
       "      <th>reviewTime</th>\n",
       "    </tr>\n",
       "  </thead>\n",
       "  <tbody>\n",
       "    <tr>\n",
       "      <th>1812</th>\n",
       "      <td>AOA7DLVR783CM</td>\n",
       "      <td>0738920339</td>\n",
       "      <td>2 princesses mom</td>\n",
       "      <td>[0, 0]</td>\n",
       "      <td>This one really makes ya want to get up and mo...</td>\n",
       "      <td>5.0</td>\n",
       "      <td>Awesome!</td>\n",
       "      <td>1109808000</td>\n",
       "      <td>03 3, 2005</td>\n",
       "    </tr>\n",
       "  </tbody>\n",
       "</table>\n",
       "</div>"
      ],
      "text/plain": [
       "         reviewerID        asin      reviewerName helpful  \\\n",
       "1812  AOA7DLVR783CM  0738920339  2 princesses mom  [0, 0]   \n",
       "\n",
       "                                             reviewText  overall   summary  \\\n",
       "1812  This one really makes ya want to get up and mo...      5.0  Awesome!   \n",
       "\n",
       "      unixReviewTime  reviewTime  \n",
       "1812      1109808000  03 3, 2005  "
      ]
     },
     "execution_count": 64,
     "metadata": {},
     "output_type": "execute_result"
    }
   ],
   "source": [
    "df.head(1)"
   ]
  },
  {
   "cell_type": "code",
   "execution_count": 65,
   "metadata": {},
   "outputs": [
    {
     "data": {
      "text/html": [
       "<div>\n",
       "<style scoped>\n",
       "    .dataframe tbody tr th:only-of-type {\n",
       "        vertical-align: middle;\n",
       "    }\n",
       "\n",
       "    .dataframe tbody tr th {\n",
       "        vertical-align: top;\n",
       "    }\n",
       "\n",
       "    .dataframe thead th {\n",
       "        text-align: right;\n",
       "    }\n",
       "</style>\n",
       "<table border=\"1\" class=\"dataframe\">\n",
       "  <thead>\n",
       "    <tr style=\"text-align: right;\">\n",
       "      <th></th>\n",
       "      <th>reviewerID</th>\n",
       "      <th>asin</th>\n",
       "      <th>reviewText</th>\n",
       "      <th>overall</th>\n",
       "    </tr>\n",
       "  </thead>\n",
       "  <tbody>\n",
       "    <tr>\n",
       "      <th>1812</th>\n",
       "      <td>AOA7DLVR783CM</td>\n",
       "      <td>0738920339</td>\n",
       "      <td>This one really makes ya want to get up and mo...</td>\n",
       "      <td>5.0</td>\n",
       "    </tr>\n",
       "  </tbody>\n",
       "</table>\n",
       "</div>"
      ],
      "text/plain": [
       "         reviewerID        asin  \\\n",
       "1812  AOA7DLVR783CM  0738920339   \n",
       "\n",
       "                                             reviewText  overall  \n",
       "1812  This one really makes ya want to get up and mo...      5.0  "
      ]
     },
     "execution_count": 65,
     "metadata": {},
     "output_type": "execute_result"
    }
   ],
   "source": [
    "drop_columns=[\"reviewerName\",\"helpful\",\"summary\",\"unixReviewTime\",\"reviewTime\"]\n",
    "df = df.drop(columns=drop_columns)\n",
    "df.head(1)"
   ]
  },
  {
   "cell_type": "markdown",
   "metadata": {},
   "source": [
    "#### Balanced Dataset"
   ]
  },
  {
   "cell_type": "markdown",
   "metadata": {},
   "source": [
    "##### Delete neutral reviews"
   ]
  },
  {
   "cell_type": "code",
   "execution_count": 66,
   "metadata": {},
   "outputs": [
    {
     "data": {
      "text/plain": [
       "(78423, 4)"
      ]
     },
     "execution_count": 66,
     "metadata": {},
     "output_type": "execute_result"
    }
   ],
   "source": [
    "df.shape"
   ]
  },
  {
   "cell_type": "code",
   "execution_count": 67,
   "metadata": {},
   "outputs": [],
   "source": [
    "df = df[df.overall != 3]"
   ]
  },
  {
   "cell_type": "code",
   "execution_count": 68,
   "metadata": {},
   "outputs": [
    {
     "data": {
      "text/plain": [
       "(68953, 4)"
      ]
     },
     "execution_count": 68,
     "metadata": {},
     "output_type": "execute_result"
    }
   ],
   "source": [
    "df.shape"
   ]
  },
  {
   "cell_type": "code",
   "execution_count": 69,
   "metadata": {},
   "outputs": [
    {
     "data": {
      "text/plain": [
       "(68953, 4)"
      ]
     },
     "execution_count": 69,
     "metadata": {},
     "output_type": "execute_result"
    }
   ],
   "source": [
    "df = df.reset_index()\n",
    "df = df.drop(columns=\"index\")\n",
    "df.shape"
   ]
  },
  {
   "cell_type": "markdown",
   "metadata": {},
   "source": [
    "##### Create Binary Target Variable"
   ]
  },
  {
   "cell_type": "code",
   "execution_count": 70,
   "metadata": {},
   "outputs": [],
   "source": [
    "df[\"good\"]=[1 if df.loc[i,\"overall\"]>=4 else 0 for i in range(len(df))]"
   ]
  },
  {
   "cell_type": "markdown",
   "metadata": {},
   "source": [
    "##### Resample using **Undersampling**"
   ]
  },
  {
   "cell_type": "code",
   "execution_count": 71,
   "metadata": {},
   "outputs": [
    {
     "data": {
      "text/plain": [
       "0.8636027438980175"
      ]
     },
     "execution_count": 71,
     "metadata": {},
     "output_type": "execute_result"
    }
   ],
   "source": [
    "# without resampling 87% of the reviews are positive\n",
    "df.good.mean()"
   ]
  },
  {
   "cell_type": "code",
   "execution_count": 72,
   "metadata": {},
   "outputs": [
    {
     "data": {
      "text/plain": [
       "(59548, 9405)"
      ]
     },
     "execution_count": 72,
     "metadata": {},
     "output_type": "execute_result"
    }
   ],
   "source": [
    "# Class count\n",
    "count_pos, count_neg = df.good.value_counts()\n",
    "count_pos,count_neg"
   ]
  },
  {
   "cell_type": "code",
   "execution_count": 73,
   "metadata": {},
   "outputs": [],
   "source": [
    "# Divide by class\n",
    "df_class_pos = df[df['good'] == 1]\n",
    "df_class_neg = df[df['good'] == 0]\n",
    "\n",
    "df_class_pos_under = df_class_pos.sample(count_neg, random_state=123)\n",
    "df= pd.concat([df_class_pos_under, df_class_neg], axis=0)"
   ]
  },
  {
   "cell_type": "code",
   "execution_count": 74,
   "metadata": {},
   "outputs": [
    {
     "data": {
      "image/png": "[encoded data removed]",
      "text/plain": [
       "<Figure size 432x288 with 1 Axes>"
      ]
     },
     "metadata": {
      "needs_background": "light"
     },
     "output_type": "display_data"
    }
   ],
   "source": [
    "# Balanced data set\n",
    "df.good.value_counts().plot(kind='bar', title='Count (target)');"
   ]
  },
  {
   "cell_type": "code",
   "execution_count": 76,
   "metadata": {},
   "outputs": [
    {
     "data": {
      "text/plain": [
       "(0.5, (18810, 5))"
      ]
     },
     "execution_count": 76,
     "metadata": {},
     "output_type": "execute_result"
    }
   ],
   "source": [
    "df.good.mean(), df.shape"
   ]
  },
  {
   "cell_type": "markdown",
   "metadata": {},
   "source": [
    "## Add Genre features to selected movies"
   ]
  },
  {
   "cell_type": "code",
   "execution_count": 80,
   "metadata": {},
   "outputs": [],
   "source": [
    "dfg=dfg.set_index(\"ASIN\")\n",
    "df = df.reset_index()\n",
    "df = df.drop(columns=\"index\")"
   ]
  },
  {
   "cell_type": "code",
   "execution_count": 81,
   "metadata": {},
   "outputs": [
    {
     "data": {
      "text/plain": [
       "(10,\n",
       " ['Comedy',\n",
       "  'Art House & International',\n",
       "  'Documentary',\n",
       "  'Drama',\n",
       "  'Action & Adventure',\n",
       "  'Horror',\n",
       "  'Science Fiction',\n",
       "  'Animation',\n",
       "  'Kids & Family',\n",
       "  'Musicals'])"
      ]
     },
     "execution_count": 81,
     "metadata": {},
     "output_type": "execute_result"
    }
   ],
   "source": [
    "len(genres), genres"
   ]
  },
  {
   "cell_type": "markdown",
   "metadata": {},
   "source": [
    "##### Produce ten dummy variables for each genre"
   ]
  },
  {
   "cell_type": "code",
   "execution_count": 82,
   "metadata": {},
   "outputs": [],
   "source": [
    "for genre in genres:\n",
    "    df[genre]=0\n",
    "    for row in range(len(df)):\n",
    "        movie_id = df.loc[row,\"asin\"]\n",
    "        if genre in dfg.loc[movie_id,\"Categories\"]:\n",
    "            df.loc[row,genre]=1"
   ]
  },
  {
   "cell_type": "code",
   "execution_count": 84,
   "metadata": {},
   "outputs": [
    {
     "data": {
      "text/html": [
       "<div>\n",
       "<style scoped>\n",
       "    .dataframe tbody tr th:only-of-type {\n",
       "        vertical-align: middle;\n",
       "    }\n",
       "\n",
       "    .dataframe tbody tr th {\n",
       "        vertical-align: top;\n",
       "    }\n",
       "\n",
       "    .dataframe thead th {\n",
       "        text-align: right;\n",
       "    }\n",
       "</style>\n",
       "<table border=\"1\" class=\"dataframe\">\n",
       "  <thead>\n",
       "    <tr style=\"text-align: right;\">\n",
       "      <th></th>\n",
       "      <th>reviewerID</th>\n",
       "      <th>asin</th>\n",
       "      <th>reviewText</th>\n",
       "      <th>overall</th>\n",
       "      <th>good</th>\n",
       "      <th>Comedy</th>\n",
       "      <th>Art House &amp; International</th>\n",
       "      <th>Documentary</th>\n",
       "      <th>Drama</th>\n",
       "      <th>Action &amp; Adventure</th>\n",
       "      <th>Horror</th>\n",
       "      <th>Science Fiction</th>\n",
       "      <th>Animation</th>\n",
       "      <th>Kids &amp; Family</th>\n",
       "      <th>Musicals</th>\n",
       "    </tr>\n",
       "  </thead>\n",
       "  <tbody>\n",
       "    <tr>\n",
       "      <th>0</th>\n",
       "      <td>A19JYLHD94K94D</td>\n",
       "      <td>6304239327</td>\n",
       "      <td>Jan Svankajer's feature film follow up to his ...</td>\n",
       "      <td>5.0</td>\n",
       "      <td>1</td>\n",
       "      <td>0</td>\n",
       "      <td>1</td>\n",
       "      <td>0</td>\n",
       "      <td>1</td>\n",
       "      <td>0</td>\n",
       "      <td>0</td>\n",
       "      <td>0</td>\n",
       "      <td>0</td>\n",
       "      <td>0</td>\n",
       "      <td>0</td>\n",
       "    </tr>\n",
       "    <tr>\n",
       "      <th>1</th>\n",
       "      <td>A144W50UYZG4YX</td>\n",
       "      <td>630339406X</td>\n",
       "      <td>Big-1988100mins/ColourTom HanksElizabeth Perki...</td>\n",
       "      <td>4.0</td>\n",
       "      <td>1</td>\n",
       "      <td>0</td>\n",
       "      <td>0</td>\n",
       "      <td>0</td>\n",
       "      <td>0</td>\n",
       "      <td>0</td>\n",
       "      <td>0</td>\n",
       "      <td>0</td>\n",
       "      <td>0</td>\n",
       "      <td>1</td>\n",
       "      <td>0</td>\n",
       "    </tr>\n",
       "    <tr>\n",
       "      <th>2</th>\n",
       "      <td>A16QODENBJVUI1</td>\n",
       "      <td>B0007PALGG</td>\n",
       "      <td>Of all the films coming out this holiday movie...</td>\n",
       "      <td>4.0</td>\n",
       "      <td>1</td>\n",
       "      <td>0</td>\n",
       "      <td>0</td>\n",
       "      <td>0</td>\n",
       "      <td>1</td>\n",
       "      <td>0</td>\n",
       "      <td>0</td>\n",
       "      <td>0</td>\n",
       "      <td>0</td>\n",
       "      <td>0</td>\n",
       "      <td>0</td>\n",
       "    </tr>\n",
       "    <tr>\n",
       "      <th>3</th>\n",
       "      <td>A3L2856DIMUXJY</td>\n",
       "      <td>B0001DCR0C</td>\n",
       "      <td>As noted by a number of reviewers, this starte...</td>\n",
       "      <td>4.0</td>\n",
       "      <td>1</td>\n",
       "      <td>0</td>\n",
       "      <td>1</td>\n",
       "      <td>0</td>\n",
       "      <td>1</td>\n",
       "      <td>0</td>\n",
       "      <td>0</td>\n",
       "      <td>0</td>\n",
       "      <td>0</td>\n",
       "      <td>0</td>\n",
       "      <td>0</td>\n",
       "    </tr>\n",
       "    <tr>\n",
       "      <th>4</th>\n",
       "      <td>A1Z54EM24Y40LL</td>\n",
       "      <td>B00004WI5C</td>\n",
       "      <td>This is really a cute video.  It's pretty long...</td>\n",
       "      <td>4.0</td>\n",
       "      <td>1</td>\n",
       "      <td>0</td>\n",
       "      <td>0</td>\n",
       "      <td>0</td>\n",
       "      <td>0</td>\n",
       "      <td>0</td>\n",
       "      <td>0</td>\n",
       "      <td>0</td>\n",
       "      <td>0</td>\n",
       "      <td>0</td>\n",
       "      <td>1</td>\n",
       "    </tr>\n",
       "  </tbody>\n",
       "</table>\n",
       "</div>"
      ],
      "text/plain": [
       "       reviewerID        asin  \\\n",
       "0  A19JYLHD94K94D  6304239327   \n",
       "1  A144W50UYZG4YX  630339406X   \n",
       "2  A16QODENBJVUI1  B0007PALGG   \n",
       "3  A3L2856DIMUXJY  B0001DCR0C   \n",
       "4  A1Z54EM24Y40LL  B00004WI5C   \n",
       "\n",
       "                                          reviewText  overall  good  Comedy  \\\n",
       "0  Jan Svankajer's feature film follow up to his ...      5.0     1       0   \n",
       "1  Big-1988100mins/ColourTom HanksElizabeth Perki...      4.0     1       0   \n",
       "2  Of all the films coming out this holiday movie...      4.0     1       0   \n",
       "3  As noted by a number of reviewers, this starte...      4.0     1       0   \n",
       "4  This is really a cute video.  It's pretty long...      4.0     1       0   \n",
       "\n",
       "   Art House & International  Documentary  Drama  Action & Adventure  Horror  \\\n",
       "0                          1            0      1                   0       0   \n",
       "1                          0            0      0                   0       0   \n",
       "2                          0            0      1                   0       0   \n",
       "3                          1            0      1                   0       0   \n",
       "4                          0            0      0                   0       0   \n",
       "\n",
       "   Science Fiction  Animation  Kids & Family  Musicals  \n",
       "0                0          0              0         0  \n",
       "1                0          0              1         0  \n",
       "2                0          0              0         0  \n",
       "3                0          0              0         0  \n",
       "4                0          0              0         1  "
      ]
     },
     "execution_count": 84,
     "metadata": {},
     "output_type": "execute_result"
    }
   ],
   "source": [
    "df.head()"
   ]
  },
  {
   "cell_type": "markdown",
   "metadata": {},
   "source": [
    "### Genre Descriptions"
   ]
  },
  {
   "cell_type": "code",
   "execution_count": 95,
   "metadata": {},
   "outputs": [
    {
     "name": "stdout",
     "output_type": "stream",
     "text": [
      "Comedy 0.15135566188197766\n",
      "Art House & International 0.20914407230196705\n",
      "Documentary 0.02227538543328017\n",
      "Drama 0.18771929824561404\n",
      "Action & Adventure 0.14019138755980862\n",
      "Horror 0.14545454545454545\n",
      "Science Fiction 0.25656565656565655\n",
      "Animation 0.16767676767676767\n",
      "Kids & Family 0.03487506645401382\n",
      "Musicals 0.06156299840510367\n"
     ]
    }
   ],
   "source": [
    "for genre in genres:\n",
    "    count=df[genre].mean()\n",
    "    print(genre,str(count))"
   ]
  },
  {
   "cell_type": "code",
   "execution_count": 96,
   "metadata": {},
   "outputs": [],
   "source": [
    "col_drop = [\"Documentary\",\"Musicals\", \"Kids & Family\"]\n",
    "df = df.drop(columns=col_drop)"
   ]
  },
  {
   "cell_type": "code",
   "execution_count": 99,
   "metadata": {},
   "outputs": [
    {
     "data": {
      "text/plain": [
       "(Index(['reviewerID', 'asin', 'reviewText', 'overall', 'good', 'Comedy',\n",
       "        'Art House & International', 'Drama', 'Action & Adventure', 'Horror',\n",
       "        'Science Fiction', 'Animation'],\n",
       "       dtype='object'), 0.5)"
      ]
     },
     "execution_count": 99,
     "metadata": {},
     "output_type": "execute_result"
    }
   ],
   "source": [
    "df.columns, df.good.mean()"
   ]
  },
  {
   "cell_type": "markdown",
   "metadata": {},
   "source": [
    "### Add features\n",
    "#### Grammar"
   ]
  },
  {
   "cell_type": "code",
   "execution_count": 100,
   "metadata": {},
   "outputs": [],
   "source": [
    "def feature_creator(feature, df):\n",
    "    df[feature] = [df.loc[i, \"reviewText\"].count(feature)/((len(df.loc[i, \"reviewText\"]))+0.0001) for i in range(len(df))]"
   ]
  },
  {
   "cell_type": "code",
   "execution_count": 101,
   "metadata": {},
   "outputs": [],
   "source": [
    "dataframes=[df]\n",
    "punc_marks = (\"!\",\"?\",\",\",\".\",\" \")\n",
    "for df in dataframes:\n",
    "    # ADD FEATURE 1: Length of comment\n",
    "    df[\"length\"] = [len(df.loc[i, \"reviewText\"]) for i in range(len(df))]\n",
    "    for f in punc_marks:\n",
    "        # ADD FEATURE 2,3,4: Punctuation marks, and average word length (represented by whitespace/length)\n",
    "        feature_creator(f, df)"
   ]
  },
  {
   "cell_type": "code",
   "execution_count": 5,
   "metadata": {},
   "outputs": [
    {
     "data": {
      "text/plain": [
       "Index(['reviewerID', 'asin', 'reviewText', 'overall', 'good', 'Comedy',\n",
       "       'Art House & International', 'Drama', 'Action & Adventure', 'Horror',\n",
       "       'Science Fiction', 'Animation', 'length', '!', '?', ',', '.', ' ',\n",
       "       'Extro', 'Agree', 'Neuro', 'Open', 'Consc', 'Extro_Comedy',\n",
       "       'Extro_Art House & International', 'Extro_Drama',\n",
       "       'Extro_Action & Adventure', 'Extro_Horror', 'Extro_Science Fiction',\n",
       "       'Extro_Animation', 'Agree_Comedy', 'Agree_Art House & International',\n",
       "       'Agree_Drama', 'Agree_Action & Adventure', 'Agree_Horror',\n",
       "       'Agree_Science Fiction', 'Agree_Animation', 'Neuro_Comedy',\n",
       "       'Neuro_Art House & International', 'Neuro_Drama',\n",
       "       'Neuro_Action & Adventure', 'Neuro_Horror', 'Neuro_Science Fiction',\n",
       "       'Neuro_Animation', 'Open_Comedy', 'Open_Art House & International',\n",
       "       'Open_Drama', 'Open_Action & Adventure', 'Open_Horror',\n",
       "       'Open_Science Fiction', 'Open_Animation', 'Consc_Comedy',\n",
       "       'Consc_Art House & International', 'Consc_Drama',\n",
       "       'Consc_Action & Adventure', 'Consc_Horror', 'Consc_Science Fiction',\n",
       "       'Consc_Animation', 'corpus'],\n",
       "      dtype='object')"
      ]
     },
     "execution_count": 5,
     "metadata": {},
     "output_type": "execute_result"
    }
   ],
   "source": [
    "df.columns"
   ]
  },
  {
   "cell_type": "code",
   "execution_count": 13,
   "metadata": {},
   "outputs": [
    {
     "name": "stderr",
     "output_type": "stream",
     "text": [
      "[nltk_data] Downloading package averaged_perceptron_tagger to\n",
      "[nltk_data]     C:\\Users\\MAHAM\\AppData\\Roaming\\nltk_data...\n",
      "[nltk_data]   Unzipping taggers\\averaged_perceptron_tagger.zip.\n"
     ]
    },
    {
     "data": {
      "text/plain": [
       "True"
      ]
     },
     "execution_count": 13,
     "metadata": {},
     "output_type": "execute_result"
    }
   ],
   "source": [
    "#import nltk\n",
    "#nltk.download('punkt')\n",
    "#nltk.download('averaged_perceptron_tagger')"
   ]
  },
  {
   "cell_type": "code",
   "execution_count": 14,
   "metadata": {},
   "outputs": [],
   "source": [
    "# Add feature of Relative amount of word types\n",
    "word_types=[\"noun\", \"adj\", \"verb (simple)\",\"verb (simple past)\", \"verb (past participle)\", \"verb (gerund)\", \"adverb\", \"preposition\"]\n",
    "word_types_abb=[\"NN\", \"JJ\",\"VB\",\"VBD\", \"VBN\", \"VBG\", \"RB\", \"IN\"]\n",
    "word_types_dictionary={\"noun\":\"NN\", \"adj\":\"JJ\", \"verb (simple)\":\"VB\",\"verb (simple past)\":\"VBD\", \"verb (past participle)\":\"VBN\", \"verb (gerund)\":\"VBG\", \"adverb\":\"RB\", \"preposition\":\"IN\"}\n",
    "for wt in word_types:\n",
    "    df[wt]=df[\"good\"]\n",
    "for i in range(len(df)):\n",
    "    text = df.loc[i, \"reviewText\"]\n",
    "    tokens = nltk.word_tokenize(text.lower())\n",
    "    text = nltk.Text(tokens)\n",
    "    tags = nltk.pos_tag(text)\n",
    "    counts = Counter(tag for word,tag in tags)\n",
    "    total = sum(counts.values())\n",
    "    count_dic = dict((word, float(count)/total) for word,count in counts.items())\n",
    "    for wt, abb in word_types_dictionary.items():\n",
    "        if abb in count_dic:\n",
    "            df.iloc[i, df.columns.get_loc(wt)] = count_dic[abb]\n",
    "        else:\n",
    "            df.iloc[i, df.columns.get_loc(wt)] = 0 "
   ]
  },
  {
   "cell_type": "code",
   "execution_count": 16,
   "metadata": {},
   "outputs": [],
   "source": [
    "# normalizing the values\n",
    "for col in word_types:\n",
    "    df[col]=(df[col]-df[col].mean())/df[col].std()"
   ]
  },
  {
   "cell_type": "markdown",
   "metadata": {},
   "source": [
    "#### Personality"
   ]
  },
  {
   "cell_type": "code",
   "execution_count": 102,
   "metadata": {},
   "outputs": [],
   "source": [
    "# Create column with text without puctuation for personality\n",
    "df[\"text_plain\"] = df['reviewText'].map(lambda x: re.sub('[^a-zA-Z]', ' ', x))"
   ]
  },
  {
   "cell_type": "code",
   "execution_count": 103,
   "metadata": {},
   "outputs": [],
   "source": [
    "import csv\n",
    "letters = [\"E\", \"A\", \"N\", \"O\", \"C\"]\n",
    "big5 = [\"Extro\", \"Agree\", \"Neuro\", \"Open\", \"Consc\"]\n",
    "for df in dataframes:\n",
    "    for column in big5:\n",
    "        df[column]=df[\"overall\"]\n",
    "    for j,letter in enumerate(letters):\n",
    "        reader = csv.reader(open('%s.top100.1to3grams.gender_age_controlled.rmatrix.csv'%(letter), 'r'))\n",
    "        dic = {}\n",
    "        for row in reader:\n",
    "            k, v, z= row\n",
    "            dic[k] = v\n",
    "        dic.pop(\"\")\n",
    "        for i in range(len(df)):\n",
    "            text = df.iloc[i, df.columns.get_loc(\"text_plain\")]\n",
    "            tokens = nltk.word_tokenize(text.lower())\n",
    "            text = nltk.Text(tokens)\n",
    "            word_value = 0\n",
    "            for word, value in dic.items():\n",
    "                counter = text.count(word)\n",
    "                word_value = word_value+(counter*float(value))\n",
    "            #current_length = len(df.columns)\n",
    "            personality_number = word_value/((df.iloc[i,df.columns.get_loc(\"length\")])+0.0001)\n",
    "            df.iloc[i, df.columns.get_loc(big5[j])] = personality_number"
   ]
  },
  {
   "cell_type": "code",
   "execution_count": 104,
   "metadata": {},
   "outputs": [],
   "source": [
    "df = df.drop(columns=\"text_plain\")"
   ]
  },
  {
   "cell_type": "code",
   "execution_count": 105,
   "metadata": {},
   "outputs": [
    {
     "data": {
      "image/png": "[encoded data removed]",
      "text/plain": [
       "<Figure size 1080x432 with 6 Axes>"
      ]
     },
     "metadata": {
      "needs_background": "light"
     },
     "output_type": "display_data"
    }
   ],
   "source": [
    "fig, axs = plt.subplots(2,3, figsize=(15,6))\n",
    "for i in range(3):\n",
    "    axs[0,i].hist(df[big5[i]], bins=100)\n",
    "    axs[0,i].set_title(big5[i])\n",
    "for i in range(3,5):\n",
    "    axs[1,i-3].hist(df[big5[i]], bins=100)\n",
    "    axs[1,i-3].set_title(big5[i])"
   ]
  },
  {
   "cell_type": "code",
   "execution_count": 106,
   "metadata": {},
   "outputs": [
    {
     "data": {
      "image/png": "[encoded data removed]",
      "text/plain": [
       "<Figure size 1080x1080 with 25 Axes>"
      ]
     },
     "metadata": {
      "needs_background": "light"
     },
     "output_type": "display_data"
    }
   ],
   "source": [
    "big5 = [\"Extro\", \"Agree\", \"Neuro\", \"Open\", \"Consc\"]\n",
    "het=pd.plotting.scatter_matrix(df[big5], c=df[\"overall\"], figsize=(15, 15), marker='o',\n",
    "                                 hist_kwds={'bins': 70}, s=60, alpha=.5)"
   ]
  },
  {
   "cell_type": "code",
   "execution_count": 107,
   "metadata": {},
   "outputs": [
    {
     "data": {
      "text/plain": [
       "Index(['reviewerID', 'asin', 'reviewText', 'overall', 'good', 'Comedy',\n",
       "       'Art House & International', 'Drama', 'Action & Adventure', 'Horror',\n",
       "       'Science Fiction', 'Animation', 'length', '!', '?', ',', '.', ' ',\n",
       "       'Extro', 'Agree', 'Neuro', 'Open', 'Consc'],\n",
       "      dtype='object')"
      ]
     },
     "execution_count": 107,
     "metadata": {},
     "output_type": "execute_result"
    }
   ],
   "source": [
    "df.columns"
   ]
  },
  {
   "cell_type": "code",
   "execution_count": 108,
   "metadata": {},
   "outputs": [
    {
     "data": {
      "text/plain": [
       "(18810, 13448, 2447)"
      ]
     },
     "execution_count": 108,
     "metadata": {},
     "output_type": "execute_result"
    }
   ],
   "source": [
    "# Check how many users review more than once in this dataset\n",
    "df.shape[0], len(set(df.reviewerID)),len(set(df.asin))"
   ]
  },
  {
   "cell_type": "markdown",
   "metadata": {},
   "source": [
    "### Normalization"
   ]
  },
  {
   "cell_type": "code",
   "execution_count": 109,
   "metadata": {},
   "outputs": [],
   "source": [
    "# word types were already normalized above\n",
    "numeric = ['Extro', 'Agree', 'Neuro', 'Open', 'Consc', 'length', '!', '?', ',','.', ' ']"
   ]
  },
  {
   "cell_type": "code",
   "execution_count": 110,
   "metadata": {},
   "outputs": [],
   "source": [
    "for col in numeric:\n",
    "    df[col]=(df[col]-df[col].mean())/df[col].std()"
   ]
  },
  {
   "cell_type": "markdown",
   "metadata": {},
   "source": [
    "## Interaction terms"
   ]
  },
  {
   "cell_type": "code",
   "execution_count": 111,
   "metadata": {},
   "outputs": [],
   "source": [
    "big5 = [\"Extro\", \"Agree\", \"Neuro\", \"Open\", \"Consc\"]\n",
    "genres=[\"Comedy\",\"Art House & International\",\"Drama\",\"Action & Adventure\",\"Horror\",\"Science Fiction\",\"Animation\"]\n",
    "def create_interaction_terms(df):\n",
    "    for personality in big5:\n",
    "        for genre in genres:\n",
    "            df[personality+\"_\"+genre]=df.apply(lambda x: x[personality]*x[genre], axis=1)"
   ]
  },
  {
   "cell_type": "code",
   "execution_count": 112,
   "metadata": {},
   "outputs": [],
   "source": [
    "create_interaction_terms(df)"
   ]
  },
  {
   "cell_type": "code",
   "execution_count": 113,
   "metadata": {},
   "outputs": [
    {
     "data": {
      "text/plain": [
       "(18810, 58)"
      ]
     },
     "execution_count": 113,
     "metadata": {},
     "output_type": "execute_result"
    }
   ],
   "source": [
    "df.shape"
   ]
  },
  {
   "cell_type": "code",
   "execution_count": 114,
   "metadata": {},
   "outputs": [],
   "source": [
    "with open ('data_25_07', 'wb') as fw:\n",
    "    pickle.dump(df, fw)"
   ]
  },
  {
   "cell_type": "markdown",
   "metadata": {},
   "source": [
    "### Pre-Trained Sentiment Analyser"
   ]
  },
  {
   "cell_type": "code",
   "execution_count": 18,
   "metadata": {},
   "outputs": [
    {
     "data": {
      "text/plain": [
       "Index(['reviewerID', 'asin', 'reviewText', 'overall', 'good', 'Comedy',\n",
       "       'Art House & International', 'Drama', 'Action & Adventure', 'Horror',\n",
       "       'Science Fiction', 'Animation', 'length', '!', '?', ',', '.', ' ',\n",
       "       'Extro', 'Agree', 'Neuro', 'Open', 'Consc', 'Extro_Comedy',\n",
       "       'Extro_Art House & International', 'Extro_Drama',\n",
       "       'Extro_Action & Adventure', 'Extro_Horror', 'Extro_Science Fiction',\n",
       "       'Extro_Animation', 'Agree_Comedy', 'Agree_Art House & International',\n",
       "       'Agree_Drama', 'Agree_Action & Adventure', 'Agree_Horror',\n",
       "       'Agree_Science Fiction', 'Agree_Animation', 'Neuro_Comedy',\n",
       "       'Neuro_Art House & International', 'Neuro_Drama',\n",
       "       'Neuro_Action & Adventure', 'Neuro_Horror', 'Neuro_Science Fiction',\n",
       "       'Neuro_Animation', 'Open_Comedy', 'Open_Art House & International',\n",
       "       'Open_Drama', 'Open_Action & Adventure', 'Open_Horror',\n",
       "       'Open_Science Fiction', 'Open_Animation', 'Consc_Comedy',\n",
       "       'Consc_Art House & International', 'Consc_Drama',\n",
       "       'Consc_Action & Adventure', 'Consc_Horror', 'Consc_Science Fiction',\n",
       "       'Consc_Animation', 'corpus', 'noun', 'adj', 'verb (simple)',\n",
       "       'verb (simple past)', 'verb (past participle)', 'verb (gerund)',\n",
       "       'adverb', 'preposition'],\n",
       "      dtype='object')"
      ]
     },
     "execution_count": 18,
     "metadata": {},
     "output_type": "execute_result"
    }
   ],
   "source": [
    "df.columns"
   ]
  },
  {
   "cell_type": "code",
   "execution_count": 21,
   "metadata": {},
   "outputs": [],
   "source": [
    "import vaderSentiment\n",
    "from vaderSentiment.vaderSentiment import SentimentIntensityAnalyzer\n",
    "\n",
    "analyser = SentimentIntensityAnalyzer()"
   ]
  },
  {
   "cell_type": "code",
   "execution_count": 22,
   "metadata": {},
   "outputs": [],
   "source": [
    "df[\"sentiment\"]=df[\"reviewText\"].map(lambda x :analyser.polarity_scores(x)[\"compound\"])"
   ]
  },
  {
   "cell_type": "code",
   "execution_count": 23,
   "metadata": {},
   "outputs": [
    {
     "data": {
      "text/html": [
       "<div>\n",
       "<style scoped>\n",
       "    .dataframe tbody tr th:only-of-type {\n",
       "        vertical-align: middle;\n",
       "    }\n",
       "\n",
       "    .dataframe tbody tr th {\n",
       "        vertical-align: top;\n",
       "    }\n",
       "\n",
       "    .dataframe thead th {\n",
       "        text-align: right;\n",
       "    }\n",
       "</style>\n",
       "<table border=\"1\" class=\"dataframe\">\n",
       "  <thead>\n",
       "    <tr style=\"text-align: right;\">\n",
       "      <th></th>\n",
       "      <th>reviewerID</th>\n",
       "      <th>asin</th>\n",
       "      <th>reviewText</th>\n",
       "      <th>overall</th>\n",
       "      <th>good</th>\n",
       "      <th>Comedy</th>\n",
       "      <th>Art House &amp; International</th>\n",
       "      <th>Drama</th>\n",
       "      <th>Action &amp; Adventure</th>\n",
       "      <th>Horror</th>\n",
       "      <th>...</th>\n",
       "      <th>corpus</th>\n",
       "      <th>noun</th>\n",
       "      <th>adj</th>\n",
       "      <th>verb (simple)</th>\n",
       "      <th>verb (simple past)</th>\n",
       "      <th>verb (past participle)</th>\n",
       "      <th>verb (gerund)</th>\n",
       "      <th>adverb</th>\n",
       "      <th>preposition</th>\n",
       "      <th>sentiment</th>\n",
       "    </tr>\n",
       "  </thead>\n",
       "  <tbody>\n",
       "    <tr>\n",
       "      <th>0</th>\n",
       "      <td>A19JYLHD94K94D</td>\n",
       "      <td>6304239327</td>\n",
       "      <td>Jan Svankajer's feature film follow up to his ...</td>\n",
       "      <td>5.0</td>\n",
       "      <td>1</td>\n",
       "      <td>0</td>\n",
       "      <td>1</td>\n",
       "      <td>1</td>\n",
       "      <td>0</td>\n",
       "      <td>0</td>\n",
       "      <td>...</td>\n",
       "      <td>jan svankaj featur film follow masterpiec alic...</td>\n",
       "      <td>0.589624</td>\n",
       "      <td>0.801433</td>\n",
       "      <td>-1.084828</td>\n",
       "      <td>-0.866063</td>\n",
       "      <td>-1.115746</td>\n",
       "      <td>0.020607</td>\n",
       "      <td>0.578095</td>\n",
       "      <td>0.141700</td>\n",
       "      <td>0.9904</td>\n",
       "    </tr>\n",
       "    <tr>\n",
       "      <th>1</th>\n",
       "      <td>A144W50UYZG4YX</td>\n",
       "      <td>630339406X</td>\n",
       "      <td>Big-1988100mins/ColourTom HanksElizabeth Perki...</td>\n",
       "      <td>4.0</td>\n",
       "      <td>1</td>\n",
       "      <td>0</td>\n",
       "      <td>0</td>\n",
       "      <td>0</td>\n",
       "      <td>0</td>\n",
       "      <td>0</td>\n",
       "      <td>...</td>\n",
       "      <td>big min colourtom hankselizabeth perkinsrobert...</td>\n",
       "      <td>0.923381</td>\n",
       "      <td>1.265269</td>\n",
       "      <td>-1.372903</td>\n",
       "      <td>-0.648728</td>\n",
       "      <td>0.800474</td>\n",
       "      <td>0.674204</td>\n",
       "      <td>-0.962428</td>\n",
       "      <td>0.004977</td>\n",
       "      <td>0.9934</td>\n",
       "    </tr>\n",
       "  </tbody>\n",
       "</table>\n",
       "<p>2 rows × 68 columns</p>\n",
       "</div>"
      ],
      "text/plain": [
       "       reviewerID        asin  \\\n",
       "0  A19JYLHD94K94D  6304239327   \n",
       "1  A144W50UYZG4YX  630339406X   \n",
       "\n",
       "                                          reviewText  overall  good  Comedy  \\\n",
       "0  Jan Svankajer's feature film follow up to his ...      5.0     1       0   \n",
       "1  Big-1988100mins/ColourTom HanksElizabeth Perki...      4.0     1       0   \n",
       "\n",
       "   Art House & International  Drama  Action & Adventure  Horror  ...  \\\n",
       "0                          1      1                   0       0  ...   \n",
       "1                          0      0                   0       0  ...   \n",
       "\n",
       "                                              corpus      noun       adj  \\\n",
       "0  jan svankaj featur film follow masterpiec alic...  0.589624  0.801433   \n",
       "1  big min colourtom hankselizabeth perkinsrobert...  0.923381  1.265269   \n",
       "\n",
       "   verb (simple)  verb (simple past)  verb (past participle)  verb (gerund)  \\\n",
       "0      -1.084828           -0.866063               -1.115746       0.020607   \n",
       "1      -1.372903           -0.648728                0.800474       0.674204   \n",
       "\n",
       "     adverb  preposition  sentiment  \n",
       "0  0.578095     0.141700     0.9904  \n",
       "1 -0.962428     0.004977     0.9934  \n",
       "\n",
       "[2 rows x 68 columns]"
      ]
     },
     "execution_count": 23,
     "metadata": {},
     "output_type": "execute_result"
    }
   ],
   "source": [
    "df.head(2)"
   ]
  },
  {
   "cell_type": "code",
   "execution_count": 24,
   "metadata": {},
   "outputs": [],
   "source": [
    "with open ('df_07_08', 'wb') as fw:\n",
    "    pickle.dump(df, fw)"
   ]
  },
  {
   "cell_type": "markdown",
   "metadata": {},
   "source": [
    "### END of Data Pre-Processing"
   ]
  },
  {
   "cell_type": "markdown",
   "metadata": {},
   "source": [
    "# Analysis"
   ]
  },
  {
   "cell_type": "code",
   "execution_count": 3,
   "metadata": {},
   "outputs": [],
   "source": [
    "with open ('data_26_07_w_corpus', 'rb') as fr:\n",
    "    df = pickle.load(fr)"
   ]
  },
  {
   "cell_type": "code",
   "execution_count": 23,
   "metadata": {},
   "outputs": [
    {
     "data": {
      "text/plain": [
       "Index(['Comedy', 'Art House & International', 'Drama', 'Action & Adventure',\n",
       "       'Horror', 'Science Fiction', 'Animation', 'length', '!', '?', ',', '.',\n",
       "       ' ', 'Extro', 'Agree', 'Neuro', 'Open', 'Consc', 'Extro_Comedy',\n",
       "       'Extro_Art House & International', 'Extro_Drama',\n",
       "       'Extro_Action & Adventure', 'Extro_Horror', 'Extro_Science Fiction',\n",
       "       'Extro_Animation', 'Agree_Comedy', 'Agree_Art House & International',\n",
       "       'Agree_Drama', 'Agree_Action & Adventure', 'Agree_Horror',\n",
       "       'Agree_Science Fiction', 'Agree_Animation', 'Neuro_Comedy',\n",
       "       'Neuro_Art House & International', 'Neuro_Drama',\n",
       "       'Neuro_Action & Adventure', 'Neuro_Horror', 'Neuro_Science Fiction',\n",
       "       'Neuro_Animation', 'Open_Comedy', 'Open_Art House & International',\n",
       "       'Open_Drama', 'Open_Action & Adventure', 'Open_Horror',\n",
       "       'Open_Science Fiction', 'Open_Animation', 'Consc_Comedy',\n",
       "       'Consc_Art House & International', 'Consc_Drama',\n",
       "       'Consc_Action & Adventure', 'Consc_Horror', 'Consc_Science Fiction'],\n",
       "      dtype='object')"
      ]
     },
     "execution_count": 23,
     "metadata": {},
     "output_type": "execute_result"
    }
   ],
   "source": [
    "df.columns[5:57]"
   ]
  },
  {
   "cell_type": "markdown",
   "metadata": {},
   "source": [
    "## Linear Regression"
   ]
  },
  {
   "cell_type": "code",
   "execution_count": 24,
   "metadata": {},
   "outputs": [
    {
     "name": "stdout",
     "output_type": "stream",
     "text": [
      "                            OLS Regression Results                            \n",
      "==============================================================================\n",
      "Dep. Variable:                   good   R-squared:                       0.118\n",
      "Model:                            OLS   Adj. R-squared:                  0.115\n",
      "Method:                 Least Squares   F-statistic:                     48.16\n",
      "Date:                Sun, 28 Jul 2019   Prob (F-statistic):               0.00\n",
      "Time:                        21:26:07   Log-Likelihood:                -12473.\n",
      "No. Observations:               18810   AIC:                         2.505e+04\n",
      "Df Residuals:                   18757   BIC:                         2.547e+04\n",
      "Df Model:                          52                                         \n",
      "Covariance Type:            nonrobust                                         \n",
      "===================================================================================================\n",
      "                                      coef    std err          t      P>|t|      [0.025      0.975]\n",
      "---------------------------------------------------------------------------------------------------\n",
      "const                               0.5324      0.010     51.898      0.000       0.512       0.552\n",
      "Comedy                             -0.0319      0.014     -2.334      0.020      -0.059      -0.005\n",
      "Art House & International           0.0765      0.010      7.802      0.000       0.057       0.096\n",
      "Drama                              -0.0451      0.013     -3.366      0.001      -0.071      -0.019\n",
      "Action & Adventure                 -0.0544      0.014     -3.897      0.000      -0.082      -0.027\n",
      "Horror                             -0.2231      0.014    -15.673      0.000      -0.251      -0.195\n",
      "Science Fiction                    -0.0045      0.012     -0.363      0.717      -0.029       0.020\n",
      "length                              0.0047      0.004      1.296      0.195      -0.002       0.012\n",
      "!                                   0.0211      0.004      5.868      0.000       0.014       0.028\n",
      "?                                  -0.0478      0.003    -13.835      0.000      -0.055      -0.041\n",
      ",                                  -0.0096      0.004     -2.669      0.008      -0.017      -0.003\n",
      ".                                  -0.0111      0.004     -3.099      0.002      -0.018      -0.004\n",
      "                                    0.0031      0.004      0.853      0.393      -0.004       0.010\n",
      "Extro                               0.0142      0.011      1.255      0.209      -0.008       0.036\n",
      "Agree                               0.1150      0.016      7.371      0.000       0.084       0.146\n",
      "Neuro                               0.0834      0.014      6.135      0.000       0.057       0.110\n",
      "Open                               -0.0148      0.009     -1.668      0.095      -0.032       0.003\n",
      "Consc                               0.0032      0.016      0.202      0.840      -0.028       0.034\n",
      "Extro_Comedy                       -0.0175      0.015     -1.159      0.246      -0.047       0.012\n",
      "Extro_Art House & International     0.0055      0.012      0.476      0.634      -0.017       0.028\n",
      "Extro_Drama                         0.0079      0.015      0.512      0.608      -0.022       0.038\n",
      "Extro_Action & Adventure           -0.0151      0.015     -0.981      0.327      -0.045       0.015\n",
      "Extro_Horror                        0.0028      0.016      0.182      0.856      -0.028       0.033\n",
      "Extro_Science Fiction              -0.0180      0.016     -1.113      0.266      -0.050       0.014\n",
      "Extro_Animation                    -0.0024      0.014     -0.170      0.865      -0.030       0.026\n",
      "Agree_Comedy                       -0.0428      0.021     -2.073      0.038      -0.083      -0.002\n",
      "Agree_Art House & International     0.0263      0.016      1.624      0.104      -0.005       0.058\n",
      "Agree_Drama                        -0.0513      0.021     -2.396      0.017      -0.093      -0.009\n",
      "Agree_Action & Adventure           -0.0253      0.023     -1.103      0.270      -0.070       0.020\n",
      "Agree_Horror                       -0.0242      0.022     -1.103      0.270      -0.067       0.019\n",
      "Agree_Science Fiction               0.0043      0.023      0.186      0.852      -0.041       0.050\n",
      "Agree_Animation                     0.0201      0.022      0.933      0.351      -0.022       0.062\n",
      "Neuro_Comedy                       -0.0325      0.016     -1.995      0.046      -0.064      -0.001\n",
      "Neuro_Art House & International     0.0138      0.011      1.230      0.219      -0.008       0.036\n",
      "Neuro_Drama                        -0.0291      0.016     -1.840      0.066      -0.060       0.002\n",
      "Neuro_Action & Adventure           -0.0274      0.017     -1.578      0.115      -0.061       0.007\n",
      "Neuro_Horror                       -0.0784      0.016     -4.995      0.000      -0.109      -0.048\n",
      "Neuro_Science Fiction              -0.0198      0.018     -1.120      0.263      -0.054       0.015\n",
      "Neuro_Animation                     0.0024      0.015      0.158      0.875      -0.027       0.032\n",
      "Open_Comedy                         0.0154      0.013      1.164      0.244      -0.011       0.041\n",
      "Open_Art House & International      0.0201      0.010      1.955      0.051   -5.55e-05       0.040\n",
      "Open_Drama                          0.0114      0.013      0.905      0.365      -0.013       0.036\n",
      "Open_Action & Adventure             0.0159      0.014      1.153      0.249      -0.011       0.043\n",
      "Open_Horror                         0.0502      0.013      3.755      0.000       0.024       0.076\n",
      "Open_Science Fiction                0.0317      0.014      2.217      0.027       0.004       0.060\n",
      "Open_Animation                      0.0014      0.014      0.102      0.919      -0.026       0.029\n",
      "Consc_Comedy                       -0.0168      0.021     -0.812      0.417      -0.057       0.024\n",
      "Consc_Art House & International    -0.0025      0.016     -0.160      0.873      -0.034       0.028\n",
      "Consc_Drama                         0.0458      0.021      2.147      0.032       0.004       0.088\n",
      "Consc_Action & Adventure            0.0359      0.022      1.596      0.111      -0.008       0.080\n",
      "Consc_Horror                        0.0075      0.022      0.340      0.734      -0.036       0.051\n",
      "Consc_Science Fiction              -0.0100      0.023     -0.426      0.670      -0.056       0.036\n",
      "Consc_Animation                    -0.0041      0.022     -0.186      0.853      -0.047       0.039\n",
      "==============================================================================\n",
      "Omnibus:                    97468.491   Durbin-Watson:                   0.197\n",
      "Prob(Omnibus):                  0.000   Jarque-Bera (JB):             1934.434\n",
      "Skew:                           0.012   Prob(JB):                         0.00\n",
      "Kurtosis:                       1.429   Cond. No.                         24.5\n",
      "==============================================================================\n",
      "\n",
      "Warnings:\n",
      "[1] Standard Errors assume that the covariance matrix of the errors is correctly specified.\n"
     ]
    }
   ],
   "source": [
    "from sklearn import  linear_model\n",
    "from sklearn.linear_model import LinearRegression\n",
    "import statsmodels.api as sm\n",
    "from scipy import stats\n",
    "\n",
    "X = df.drop(columns=\"Animation\")\n",
    "X1 = X.iloc[:,5:57]\n",
    "y = df[\"good\"]\n",
    "\n",
    "X2 = sm.add_constant(X1)\n",
    "est = sm.OLS(y, X2)\n",
    "est2 = est.fit()\n",
    "print(est2.summary())\n",
    "\n",
    "\n",
    "#grammar and personality model:\n",
    "#0.087 adj r^2\n",
    "#-12794\n",
    "# 2.561e+04 aic\n",
    "# 2.570e+04 bic\n",
    "\n",
    "#grammar personality and genre:\n",
    "#0.109 adj r^2\n",
    "#-12559\n",
    "# 2.515e+04 aic\n",
    "# 2.530e+04 bic\n",
    "\n",
    "#full model with interactions \n",
    "#5 bis 57:\n",
    "#0.115 adj r^2\n",
    "#-12473\n",
    "# AIC:  2.505e+04\n",
    "# BIC:  2.547e+04"
   ]
  },
  {
   "cell_type": "code",
   "execution_count": 9,
   "metadata": {},
   "outputs": [
    {
     "data": {
      "text/plain": [
       "Index(['Comedy', 'Art House & International', 'Drama', 'Action & Adventure',\n",
       "       'Horror', 'Science Fiction', 'Animation'],\n",
       "      dtype='object')"
      ]
     },
     "execution_count": 9,
     "metadata": {},
     "output_type": "execute_result"
    }
   ],
   "source": [
    "df.columns[5:12]"
   ]
  },
  {
   "cell_type": "code",
   "execution_count": 11,
   "metadata": {},
   "outputs": [
    {
     "data": {
      "text/plain": [
       "0.5"
      ]
     },
     "execution_count": 11,
     "metadata": {},
     "output_type": "execute_result"
    }
   ],
   "source": [
    "df.good.mean()"
   ]
  },
  {
   "cell_type": "code",
   "execution_count": 14,
   "metadata": {},
   "outputs": [
    {
     "name": "stdout",
     "output_type": "stream",
     "text": [
      "                            OLS Regression Results                            \n",
      "==============================================================================\n",
      "Dep. Variable:                   good   R-squared:                       0.047\n",
      "Model:                            OLS   Adj. R-squared:                  0.047\n",
      "Method:                 Least Squares   F-statistic:                     132.2\n",
      "Date:                Fri, 26 Jul 2019   Prob (F-statistic):          9.44e-191\n",
      "Time:                        10:44:41   Log-Likelihood:                -13200.\n",
      "No. Observations:               18810   AIC:                         2.642e+04\n",
      "Df Residuals:                   18802   BIC:                         2.648e+04\n",
      "Df Model:                           7                                         \n",
      "Covariance Type:            nonrobust                                         \n",
      "=============================================================================================\n",
      "                                coef    std err          t      P>|t|      [0.025      0.975]\n",
      "---------------------------------------------------------------------------------------------\n",
      "const                         0.5667      0.010     55.262      0.000       0.547       0.587\n",
      "Comedy                       -0.0633      0.014     -4.560      0.000      -0.091      -0.036\n",
      "Art House & International     0.0790      0.010      7.875      0.000       0.059       0.099\n",
      "Drama                        -0.0766      0.014     -5.639      0.000      -0.103      -0.050\n",
      "Action & Adventure           -0.0874      0.014     -6.191      0.000      -0.115      -0.060\n",
      "Horror                       -0.2875      0.014    -20.733      0.000      -0.315      -0.260\n",
      "Science Fiction              -0.1446      0.015     -9.556      0.000      -0.174      -0.115\n",
      "Animation                     0.1900      0.014     13.270      0.000       0.162       0.218\n",
      "==============================================================================\n",
      "Omnibus:                        1.405   Durbin-Watson:                   0.046\n",
      "Prob(Omnibus):                  0.495   Jarque-Bera (JB):             2588.046\n",
      "Skew:                          -0.021   Prob(JB):                         0.00\n",
      "Kurtosis:                       1.183   Cond. No.                         8.31\n",
      "==============================================================================\n",
      "\n",
      "Warnings:\n",
      "[1] Standard Errors assume that the covariance matrix of the errors is correctly specified.\n"
     ]
    }
   ],
   "source": [
    "X = df.iloc[:,5:12]\n",
    "y = df[\"good\"]\n",
    "\n",
    "X2 = sm.add_constant(X)\n",
    "est = sm.OLS(y, X2)\n",
    "est2 = est.fit()\n",
    "print(est2.summary())"
   ]
  },
  {
   "cell_type": "markdown",
   "metadata": {},
   "source": [
    "### Ridge Classifier"
   ]
  },
  {
   "cell_type": "code",
   "execution_count": 7,
   "metadata": {},
   "outputs": [],
   "source": [
    "X = df.iloc[:,5:]\n",
    "y = df[\"good\"]\n",
    "X_train, X_test, y_train, y_test = train_test_split(X, y, test_size=.25, random_state=123)"
   ]
  },
  {
   "cell_type": "code",
   "execution_count": 8,
   "metadata": {},
   "outputs": [],
   "source": [
    "from sklearn.linear_model import RidgeClassifierCV\n",
    "\n",
    "clf = RidgeClassifierCV(alphas=[1e-7,1e-6,1e-5,1e-4,1e-3, 1e-2, 1e-1, 1]).fit(X_train, y_train)"
   ]
  },
  {
   "cell_type": "code",
   "execution_count": 9,
   "metadata": {},
   "outputs": [
    {
     "data": {
      "text/plain": [
       "0.6445248273594213"
      ]
     },
     "execution_count": 9,
     "metadata": {},
     "output_type": "execute_result"
    }
   ],
   "source": [
    "clf.score(X_test, y_test) "
   ]
  },
  {
   "cell_type": "code",
   "execution_count": 10,
   "metadata": {},
   "outputs": [
    {
     "data": {
      "text/plain": [
       "1.0"
      ]
     },
     "execution_count": 10,
     "metadata": {},
     "output_type": "execute_result"
    }
   ],
   "source": [
    "clf.alpha_"
   ]
  },
  {
   "cell_type": "code",
   "execution_count": 15,
   "metadata": {},
   "outputs": [
    {
     "data": {
      "text/html": [
       "<div>\n",
       "<style scoped>\n",
       "    .dataframe tbody tr th:only-of-type {\n",
       "        vertical-align: middle;\n",
       "    }\n",
       "\n",
       "    .dataframe tbody tr th {\n",
       "        vertical-align: top;\n",
       "    }\n",
       "\n",
       "    .dataframe thead th {\n",
       "        text-align: right;\n",
       "    }\n",
       "</style>\n",
       "<table border=\"1\" class=\"dataframe\">\n",
       "  <thead>\n",
       "    <tr style=\"text-align: right;\">\n",
       "      <th></th>\n",
       "      <th>Variable</th>\n",
       "      <th>Coefficients</th>\n",
       "    </tr>\n",
       "  </thead>\n",
       "  <tbody>\n",
       "    <tr>\n",
       "      <th>1</th>\n",
       "      <td>Documentary</td>\n",
       "      <td>0.433291</td>\n",
       "    </tr>\n",
       "    <tr>\n",
       "      <th>2</th>\n",
       "      <td>Drama</td>\n",
       "      <td>0.111877</td>\n",
       "    </tr>\n",
       "    <tr>\n",
       "      <th>3</th>\n",
       "      <td>Action &amp; Adventure</td>\n",
       "      <td>0.120066</td>\n",
       "    </tr>\n",
       "    <tr>\n",
       "      <th>4</th>\n",
       "      <td>Horror</td>\n",
       "      <td>0.104129</td>\n",
       "    </tr>\n",
       "    <tr>\n",
       "      <th>5</th>\n",
       "      <td>Science Fiction</td>\n",
       "      <td>0.094080</td>\n",
       "    </tr>\n",
       "    <tr>\n",
       "      <th>6</th>\n",
       "      <td>Animation</td>\n",
       "      <td>0.368246</td>\n",
       "    </tr>\n",
       "    <tr>\n",
       "      <th>7</th>\n",
       "      <td>Kids &amp; Family</td>\n",
       "      <td>0.370055</td>\n",
       "    </tr>\n",
       "    <tr>\n",
       "      <th>8</th>\n",
       "      <td>Musicals</td>\n",
       "      <td>0.619277</td>\n",
       "    </tr>\n",
       "    <tr>\n",
       "      <th>9</th>\n",
       "      <td>length</td>\n",
       "      <td>-0.023975</td>\n",
       "    </tr>\n",
       "    <tr>\n",
       "      <th>10</th>\n",
       "      <td>!</td>\n",
       "      <td>0.030370</td>\n",
       "    </tr>\n",
       "    <tr>\n",
       "      <th>11</th>\n",
       "      <td>?</td>\n",
       "      <td>-0.111654</td>\n",
       "    </tr>\n",
       "    <tr>\n",
       "      <th>12</th>\n",
       "      <td>,</td>\n",
       "      <td>-0.014983</td>\n",
       "    </tr>\n",
       "    <tr>\n",
       "      <th>13</th>\n",
       "      <td>.</td>\n",
       "      <td>-0.036857</td>\n",
       "    </tr>\n",
       "    <tr>\n",
       "      <th>14</th>\n",
       "      <td></td>\n",
       "      <td>0.004160</td>\n",
       "    </tr>\n",
       "    <tr>\n",
       "      <th>15</th>\n",
       "      <td>Extro</td>\n",
       "      <td>-0.021910</td>\n",
       "    </tr>\n",
       "    <tr>\n",
       "      <th>16</th>\n",
       "      <td>Agree</td>\n",
       "      <td>0.135749</td>\n",
       "    </tr>\n",
       "    <tr>\n",
       "      <th>17</th>\n",
       "      <td>Neuro</td>\n",
       "      <td>0.234706</td>\n",
       "    </tr>\n",
       "    <tr>\n",
       "      <th>18</th>\n",
       "      <td>Open</td>\n",
       "      <td>0.122726</td>\n",
       "    </tr>\n",
       "    <tr>\n",
       "      <th>19</th>\n",
       "      <td>Consc</td>\n",
       "      <td>0.017577</td>\n",
       "    </tr>\n",
       "    <tr>\n",
       "      <th>20</th>\n",
       "      <td>Extro_Comedy</td>\n",
       "      <td>0.044125</td>\n",
       "    </tr>\n",
       "    <tr>\n",
       "      <th>21</th>\n",
       "      <td>Extro_Documentary</td>\n",
       "      <td>-0.024991</td>\n",
       "    </tr>\n",
       "    <tr>\n",
       "      <th>22</th>\n",
       "      <td>Extro_Drama</td>\n",
       "      <td>0.000339</td>\n",
       "    </tr>\n",
       "    <tr>\n",
       "      <th>23</th>\n",
       "      <td>Extro_Action &amp; Adventure</td>\n",
       "      <td>0.042805</td>\n",
       "    </tr>\n",
       "    <tr>\n",
       "      <th>24</th>\n",
       "      <td>Extro_Horror</td>\n",
       "      <td>0.056567</td>\n",
       "    </tr>\n",
       "    <tr>\n",
       "      <th>25</th>\n",
       "      <td>Extro_Science Fiction</td>\n",
       "      <td>0.049280</td>\n",
       "    </tr>\n",
       "    <tr>\n",
       "      <th>26</th>\n",
       "      <td>Extro_Animation</td>\n",
       "      <td>-0.041528</td>\n",
       "    </tr>\n",
       "    <tr>\n",
       "      <th>27</th>\n",
       "      <td>Extro_Kids &amp; Family</td>\n",
       "      <td>-0.009827</td>\n",
       "    </tr>\n",
       "    <tr>\n",
       "      <th>28</th>\n",
       "      <td>Extro_Musicals</td>\n",
       "      <td>0.001251</td>\n",
       "    </tr>\n",
       "    <tr>\n",
       "      <th>29</th>\n",
       "      <td>Agree_Comedy</td>\n",
       "      <td>0.084885</td>\n",
       "    </tr>\n",
       "    <tr>\n",
       "      <th>30</th>\n",
       "      <td>Agree_Documentary</td>\n",
       "      <td>0.268632</td>\n",
       "    </tr>\n",
       "    <tr>\n",
       "      <th>...</th>\n",
       "      <td>...</td>\n",
       "      <td>...</td>\n",
       "    </tr>\n",
       "    <tr>\n",
       "      <th>35</th>\n",
       "      <td>Agree_Animation</td>\n",
       "      <td>0.014458</td>\n",
       "    </tr>\n",
       "    <tr>\n",
       "      <th>36</th>\n",
       "      <td>Agree_Kids &amp; Family</td>\n",
       "      <td>0.165324</td>\n",
       "    </tr>\n",
       "    <tr>\n",
       "      <th>37</th>\n",
       "      <td>Agree_Musicals</td>\n",
       "      <td>-0.013879</td>\n",
       "    </tr>\n",
       "    <tr>\n",
       "      <th>38</th>\n",
       "      <td>Neuro_Comedy</td>\n",
       "      <td>-0.094090</td>\n",
       "    </tr>\n",
       "    <tr>\n",
       "      <th>39</th>\n",
       "      <td>Neuro_Documentary</td>\n",
       "      <td>-0.122712</td>\n",
       "    </tr>\n",
       "    <tr>\n",
       "      <th>40</th>\n",
       "      <td>Neuro_Drama</td>\n",
       "      <td>-0.153674</td>\n",
       "    </tr>\n",
       "    <tr>\n",
       "      <th>41</th>\n",
       "      <td>Neuro_Action &amp; Adventure</td>\n",
       "      <td>-0.053677</td>\n",
       "    </tr>\n",
       "    <tr>\n",
       "      <th>42</th>\n",
       "      <td>Neuro_Horror</td>\n",
       "      <td>-0.225265</td>\n",
       "    </tr>\n",
       "    <tr>\n",
       "      <th>43</th>\n",
       "      <td>Neuro_Science Fiction</td>\n",
       "      <td>-0.069851</td>\n",
       "    </tr>\n",
       "    <tr>\n",
       "      <th>44</th>\n",
       "      <td>Neuro_Animation</td>\n",
       "      <td>-0.123495</td>\n",
       "    </tr>\n",
       "    <tr>\n",
       "      <th>45</th>\n",
       "      <td>Neuro_Kids &amp; Family</td>\n",
       "      <td>-0.141840</td>\n",
       "    </tr>\n",
       "    <tr>\n",
       "      <th>46</th>\n",
       "      <td>Neuro_Musicals</td>\n",
       "      <td>-0.165821</td>\n",
       "    </tr>\n",
       "    <tr>\n",
       "      <th>47</th>\n",
       "      <td>Open_Comedy</td>\n",
       "      <td>-0.062036</td>\n",
       "    </tr>\n",
       "    <tr>\n",
       "      <th>48</th>\n",
       "      <td>Open_Documentary</td>\n",
       "      <td>-0.037097</td>\n",
       "    </tr>\n",
       "    <tr>\n",
       "      <th>49</th>\n",
       "      <td>Open_Drama</td>\n",
       "      <td>-0.068876</td>\n",
       "    </tr>\n",
       "    <tr>\n",
       "      <th>50</th>\n",
       "      <td>Open_Action &amp; Adventure</td>\n",
       "      <td>-0.131194</td>\n",
       "    </tr>\n",
       "    <tr>\n",
       "      <th>51</th>\n",
       "      <td>Open_Horror</td>\n",
       "      <td>0.012992</td>\n",
       "    </tr>\n",
       "    <tr>\n",
       "      <th>52</th>\n",
       "      <td>Open_Science Fiction</td>\n",
       "      <td>-0.034109</td>\n",
       "    </tr>\n",
       "    <tr>\n",
       "      <th>53</th>\n",
       "      <td>Open_Animation</td>\n",
       "      <td>-0.076499</td>\n",
       "    </tr>\n",
       "    <tr>\n",
       "      <th>54</th>\n",
       "      <td>Open_Kids &amp; Family</td>\n",
       "      <td>-0.027346</td>\n",
       "    </tr>\n",
       "    <tr>\n",
       "      <th>55</th>\n",
       "      <td>Open_Musicals</td>\n",
       "      <td>-0.161757</td>\n",
       "    </tr>\n",
       "    <tr>\n",
       "      <th>56</th>\n",
       "      <td>Consc_Comedy</td>\n",
       "      <td>-0.089364</td>\n",
       "    </tr>\n",
       "    <tr>\n",
       "      <th>57</th>\n",
       "      <td>Consc_Documentary</td>\n",
       "      <td>-0.001138</td>\n",
       "    </tr>\n",
       "    <tr>\n",
       "      <th>58</th>\n",
       "      <td>Consc_Drama</td>\n",
       "      <td>-0.014163</td>\n",
       "    </tr>\n",
       "    <tr>\n",
       "      <th>59</th>\n",
       "      <td>Consc_Action &amp; Adventure</td>\n",
       "      <td>0.037475</td>\n",
       "    </tr>\n",
       "    <tr>\n",
       "      <th>60</th>\n",
       "      <td>Consc_Horror</td>\n",
       "      <td>-0.049945</td>\n",
       "    </tr>\n",
       "    <tr>\n",
       "      <th>61</th>\n",
       "      <td>Consc_Science Fiction</td>\n",
       "      <td>0.009241</td>\n",
       "    </tr>\n",
       "    <tr>\n",
       "      <th>62</th>\n",
       "      <td>Consc_Animation</td>\n",
       "      <td>-0.095010</td>\n",
       "    </tr>\n",
       "    <tr>\n",
       "      <th>63</th>\n",
       "      <td>Consc_Kids &amp; Family</td>\n",
       "      <td>-0.090104</td>\n",
       "    </tr>\n",
       "    <tr>\n",
       "      <th>64</th>\n",
       "      <td>Consc_Musicals</td>\n",
       "      <td>-0.011774</td>\n",
       "    </tr>\n",
       "  </tbody>\n",
       "</table>\n",
       "<p>64 rows × 2 columns</p>\n",
       "</div>"
      ],
      "text/plain": [
       "                    Variable  Coefficients\n",
       "1                Documentary      0.433291\n",
       "2                      Drama      0.111877\n",
       "3         Action & Adventure      0.120066\n",
       "4                     Horror      0.104129\n",
       "5            Science Fiction      0.094080\n",
       "6                  Animation      0.368246\n",
       "7              Kids & Family      0.370055\n",
       "8                   Musicals      0.619277\n",
       "9                     length     -0.023975\n",
       "10                         !      0.030370\n",
       "11                         ?     -0.111654\n",
       "12                         ,     -0.014983\n",
       "13                         .     -0.036857\n",
       "14                                0.004160\n",
       "15                     Extro     -0.021910\n",
       "16                     Agree      0.135749\n",
       "17                     Neuro      0.234706\n",
       "18                      Open      0.122726\n",
       "19                     Consc      0.017577\n",
       "20              Extro_Comedy      0.044125\n",
       "21         Extro_Documentary     -0.024991\n",
       "22               Extro_Drama      0.000339\n",
       "23  Extro_Action & Adventure      0.042805\n",
       "24              Extro_Horror      0.056567\n",
       "25     Extro_Science Fiction      0.049280\n",
       "26           Extro_Animation     -0.041528\n",
       "27       Extro_Kids & Family     -0.009827\n",
       "28            Extro_Musicals      0.001251\n",
       "29              Agree_Comedy      0.084885\n",
       "30         Agree_Documentary      0.268632\n",
       "..                       ...           ...\n",
       "35           Agree_Animation      0.014458\n",
       "36       Agree_Kids & Family      0.165324\n",
       "37            Agree_Musicals     -0.013879\n",
       "38              Neuro_Comedy     -0.094090\n",
       "39         Neuro_Documentary     -0.122712\n",
       "40               Neuro_Drama     -0.153674\n",
       "41  Neuro_Action & Adventure     -0.053677\n",
       "42              Neuro_Horror     -0.225265\n",
       "43     Neuro_Science Fiction     -0.069851\n",
       "44           Neuro_Animation     -0.123495\n",
       "45       Neuro_Kids & Family     -0.141840\n",
       "46            Neuro_Musicals     -0.165821\n",
       "47               Open_Comedy     -0.062036\n",
       "48          Open_Documentary     -0.037097\n",
       "49                Open_Drama     -0.068876\n",
       "50   Open_Action & Adventure     -0.131194\n",
       "51               Open_Horror      0.012992\n",
       "52      Open_Science Fiction     -0.034109\n",
       "53            Open_Animation     -0.076499\n",
       "54        Open_Kids & Family     -0.027346\n",
       "55             Open_Musicals     -0.161757\n",
       "56              Consc_Comedy     -0.089364\n",
       "57         Consc_Documentary     -0.001138\n",
       "58               Consc_Drama     -0.014163\n",
       "59  Consc_Action & Adventure      0.037475\n",
       "60              Consc_Horror     -0.049945\n",
       "61     Consc_Science Fiction      0.009241\n",
       "62           Consc_Animation     -0.095010\n",
       "63       Consc_Kids & Family     -0.090104\n",
       "64            Consc_Musicals     -0.011774\n",
       "\n",
       "[64 rows x 2 columns]"
      ]
     },
     "execution_count": 15,
     "metadata": {},
     "output_type": "execute_result"
    }
   ],
   "source": [
    "d= {\"Variable\" : list(df.columns[5:]),\"Coefficients\":list(clf.coef_[0])}\n",
    "results=pd.DataFrame(data=d)\n",
    "results[1:]"
   ]
  },
  {
   "cell_type": "code",
   "execution_count": 12,
   "metadata": {},
   "outputs": [],
   "source": [
    "log = LogisticRegression(solver='liblinear')#regularization is applied by default\n",
    "log.fit(X_train, y_train)\n",
    "accuracy=log.score(X_test,y_test)"
   ]
  },
  {
   "cell_type": "code",
   "execution_count": 13,
   "metadata": {},
   "outputs": [
    {
     "data": {
      "text/plain": [
       "0.657185136468267"
      ]
     },
     "execution_count": 13,
     "metadata": {},
     "output_type": "execute_result"
    }
   ],
   "source": [
    "accuracy"
   ]
  },
  {
   "cell_type": "markdown",
   "metadata": {},
   "source": [
    "# Neural Nets"
   ]
  },
  {
   "cell_type": "code",
   "execution_count": 165,
   "metadata": {},
   "outputs": [],
   "source": [
    "from sklearn.neural_network import MLPClassifier"
   ]
  },
  {
   "cell_type": "code",
   "execution_count": 195,
   "metadata": {},
   "outputs": [
    {
     "data": {
      "text/plain": [
       "0.6762578099309438"
      ]
     },
     "execution_count": 195,
     "metadata": {},
     "output_type": "execute_result"
    }
   ],
   "source": [
    "X = df.iloc[:,5:]\n",
    "y = df[\"good\"]\n",
    "mlp = MLPClassifier(alpha=0.9,random_state=123)\n",
    "mlp.fit(X_train, y_train)\n",
    "score = mlp.score(X_test, y_test)\n",
    "score"
   ]
  },
  {
   "cell_type": "markdown",
   "metadata": {},
   "source": [
    "# Comparison with other methods"
   ]
  },
  {
   "cell_type": "markdown",
   "metadata": {},
   "source": [
    "## VADER"
   ]
  },
  {
   "cell_type": "code",
   "execution_count": 182,
   "metadata": {},
   "outputs": [],
   "source": [
    "from vaderSentiment.vaderSentiment import SentimentIntensityAnalyzer\n",
    "\n",
    "analyser = SentimentIntensityAnalyzer()"
   ]
  },
  {
   "cell_type": "code",
   "execution_count": 183,
   "metadata": {
    "scrolled": true
   },
   "outputs": [],
   "source": [
    "df[\"sentiment\"]=df[\"reviewText\"].map(lambda x :analyser.polarity_scores(x)[\"compound\"])"
   ]
  },
  {
   "cell_type": "code",
   "execution_count": 184,
   "metadata": {},
   "outputs": [],
   "source": [
    "df[\"sentiment_binary\"]=df[\"sentiment\"]>0"
   ]
  },
  {
   "cell_type": "code",
   "execution_count": 187,
   "metadata": {},
   "outputs": [
    {
     "data": {
      "text/html": [
       "<div>\n",
       "<style scoped>\n",
       "    .dataframe tbody tr th:only-of-type {\n",
       "        vertical-align: middle;\n",
       "    }\n",
       "\n",
       "    .dataframe tbody tr th {\n",
       "        vertical-align: top;\n",
       "    }\n",
       "\n",
       "    .dataframe thead th {\n",
       "        text-align: right;\n",
       "    }\n",
       "</style>\n",
       "<table border=\"1\" class=\"dataframe\">\n",
       "  <thead>\n",
       "    <tr style=\"text-align: right;\">\n",
       "      <th>good</th>\n",
       "      <th>0</th>\n",
       "      <th>1</th>\n",
       "    </tr>\n",
       "    <tr>\n",
       "      <th>sentiment_binary</th>\n",
       "      <th></th>\n",
       "      <th></th>\n",
       "    </tr>\n",
       "  </thead>\n",
       "  <tbody>\n",
       "    <tr>\n",
       "      <th>False</th>\n",
       "      <td>5820</td>\n",
       "      <td>1460</td>\n",
       "    </tr>\n",
       "    <tr>\n",
       "      <th>True</th>\n",
       "      <td>6344</td>\n",
       "      <td>10704</td>\n",
       "    </tr>\n",
       "  </tbody>\n",
       "</table>\n",
       "</div>"
      ],
      "text/plain": [
       "good                 0      1\n",
       "sentiment_binary             \n",
       "False             5820   1460\n",
       "True              6344  10704"
      ]
     },
     "execution_count": 187,
     "metadata": {},
     "output_type": "execute_result"
    }
   ],
   "source": [
    "pd.crosstab(df[\"sentiment_binary\"],df[\"good\"])"
   ]
  },
  {
   "cell_type": "code",
   "execution_count": 188,
   "metadata": {},
   "outputs": [
    {
     "data": {
      "text/plain": [
       "array([[ 5820,  1460],\n",
       "       [ 6344, 10704]], dtype=int64)"
      ]
     },
     "execution_count": 188,
     "metadata": {},
     "output_type": "execute_result"
    }
   ],
   "source": [
    "from sklearn.metrics import confusion_matrix\n",
    "confusion_matrix(df[\"sentiment_binary\"],df[\"good\"])"
   ]
  },
  {
   "cell_type": "code",
   "execution_count": 189,
   "metadata": {},
   "outputs": [
    {
     "data": {
      "text/plain": [
       "0.679217362709635"
      ]
     },
     "execution_count": 189,
     "metadata": {},
     "output_type": "execute_result"
    }
   ],
   "source": [
    "from sklearn.metrics import accuracy_score\n",
    "accuracy_score(df[\"sentiment_binary\"],df[\"good\"])"
   ]
  },
  {
   "cell_type": "code",
   "execution_count": null,
   "metadata": {},
   "outputs": [],
   "source": [
    "het=pd.plotting.scatter_matrix(df[big5], c=df[\"overall\"], figsize=(15, 15), marker='o',\n",
    "                                 hist_kwds={'bins': 70}, s=60, alpha=.5)\n"
   ]
  },
  {
   "cell_type": "markdown",
   "metadata": {},
   "source": [
    "### Creating User-Relative features "
   ]
  },
  {
   "cell_type": "code",
   "execution_count": 44,
   "metadata": {},
   "outputs": [],
   "source": [
    "df_m_index=df_m.reset_index()\n",
    "df_h_index=df_h.reset_index()\n",
    "df_a_index=df_a.reset_index()"
   ]
  },
  {
   "cell_type": "code",
   "execution_count": 8,
   "metadata": {},
   "outputs": [
    {
     "data": {
      "text/plain": [
       "(1000, 25)"
      ]
     },
     "execution_count": 8,
     "metadata": {},
     "output_type": "execute_result"
    }
   ],
   "source": [
    "users_mean_df_m=df_m.groupby([\"reviewerID\"],as_index=False).mean()\n",
    "users_mean_df_m.shape"
   ]
  },
  {
   "cell_type": "code",
   "execution_count": 9,
   "metadata": {},
   "outputs": [
    {
     "data": {
      "text/plain": [
       "((1000, 25), (1000, 25))"
      ]
     },
     "execution_count": 9,
     "metadata": {},
     "output_type": "execute_result"
    }
   ],
   "source": [
    "users_mean_df_h=df_h.groupby([\"reviewerID\"],as_index=False).mean()\n",
    "users_mean_df_a=df_a.groupby([\"reviewerID\"],as_index=False).mean()\n",
    "users_mean_df_h.shape,users_mean_df_a.shape"
   ]
  },
  {
   "cell_type": "code",
   "execution_count": 49,
   "metadata": {},
   "outputs": [],
   "source": [
    "columns = big5\n",
    "for column in columns:\n",
    "        df_m_index[column+\"_dm\"]=df_m_index[\"good\"]\n",
    "        for user in unique_reviewer_IDs_m:\n",
    "            indices = df_m_index.index[df_m_index['reviewerID'] == user].tolist()\n",
    "            for index in indices:\n",
    "                df_m_index.iloc[[index],df_m_index.columns.get_loc(column+\"_dm\")]=df_m_index.iloc[[index],df_m_index.columns.get_loc(column)]-(list(users_mean_df_m[users_mean_df_m[\"reviewerID\"] == user][column])[0])"
   ]
  },
  {
   "cell_type": "code",
   "execution_count": 51,
   "metadata": {},
   "outputs": [],
   "source": [
    "for column in columns:\n",
    "    df_h_index[column+\"_dm\"]=df_m_index[\"good\"]\n",
    "    for user in unique_reviewer_IDs_h:\n",
    "        indices = df_h_index.index[df_h_index['reviewerID'] == user].tolist()\n",
    "        for index in indices:\n",
    "            df_h_index.iloc[[index],df_h_index.columns.get_loc(column+\"_dm\")]=df_h_index.iloc[[index],df_h_index.columns.get_loc(column)]-(list(users_mean_df_h[users_mean_df_h[\"reviewerID\"] == user][column])[0])\n",
    "                \n",
    "for column in columns:\n",
    "    df_a_index[column+\"_dm\"]=df_m_index[\"good\"]\n",
    "    for user in unique_reviewer_IDs_a:\n",
    "        indices = df_a_index.index[df_a_index['reviewerID'] == user].tolist()\n",
    "        for index in indices:\n",
    "            df_a_index.iloc[[index],df_a_index.columns.get_loc(column+\"_dm\")]=df_a_index.iloc[[index],df_a_index.columns.get_loc(column)]-(list(users_mean_df_a[users_mean_df_a[\"reviewerID\"] == user][column])[0])"
   ]
  },
  {
   "cell_type": "code",
   "execution_count": 16,
   "metadata": {
    "scrolled": true
   },
   "outputs": [],
   "source": [
    "# Creating relative frequencies regarding each person\n",
    "# by Substraction through personal mean\n",
    "word_types=[\"noun\", \"adj\", \"verb (simple)\",\"verb (simple past)\", \"verb (past participle)\", \"verb (gerund)\", \"adverb\", \"preposition\"]\n",
    "punc_marks = [\"!\",\"?\",\",\",\".\",\" \"]\n",
    "columns= word_types+punc_marks\n",
    "columns= columns+[\"length\"]\n",
    "df_index = [df_m_index,df_h_index,df_a_index]\n",
    "df_mean = [users_mean_df_m, users_mean_df_h, users_mean_df_a]\n",
    "unique_reviewer_IDs = [unique_reviewer_IDs_m,unique_reviewer_IDs_h,unique_reviewer_IDs_a]"
   ]
  },
  {
   "cell_type": "code",
   "execution_count": 17,
   "metadata": {},
   "outputs": [],
   "source": [
    "for i in range(3):\n",
    "    for column in columns:\n",
    "        df_index[i][column+\"_rel_sub\"]=df_index[i][\"good\"]\n",
    "        for user in unique_reviewer_IDs[i]:\n",
    "            indices = df_index[i].index[df_index[i]['reviewerID'] == user].tolist()\n",
    "            for index in indices:\n",
    "                df_index[i].iloc[[index],df_index[i].columns.get_loc(column+\"_rel_sub\")]=df_index[i].iloc[[index],df_index[i].columns.get_loc(column)]-(list(df_mean[i][df_mean[i][\"reviewerID\"] == user][column])[0])"
   ]
  },
  {
   "cell_type": "markdown",
   "metadata": {},
   "source": [
    "# Comparison with Bag-of-Words"
   ]
  },
  {
   "cell_type": "code",
   "execution_count": 3,
   "metadata": {},
   "outputs": [],
   "source": [
    "with open ('genre_personality_24_07_P', 'rb') as fr:\n",
    "    df = pickle.load(fr)"
   ]
  },
  {
   "cell_type": "code",
   "execution_count": 4,
   "metadata": {},
   "outputs": [
    {
     "data": {
      "text/html": [
       "<div>\n",
       "<style scoped>\n",
       "    .dataframe tbody tr th:only-of-type {\n",
       "        vertical-align: middle;\n",
       "    }\n",
       "\n",
       "    .dataframe tbody tr th {\n",
       "        vertical-align: top;\n",
       "    }\n",
       "\n",
       "    .dataframe thead th {\n",
       "        text-align: right;\n",
       "    }\n",
       "</style>\n",
       "<table border=\"1\" class=\"dataframe\">\n",
       "  <thead>\n",
       "    <tr style=\"text-align: right;\">\n",
       "      <th></th>\n",
       "      <th>reviewerID</th>\n",
       "      <th>asin</th>\n",
       "      <th>reviewText</th>\n",
       "      <th>overall</th>\n",
       "      <th>good</th>\n",
       "      <th>Comedy</th>\n",
       "      <th>Documentary</th>\n",
       "      <th>Drama</th>\n",
       "      <th>Action &amp; Adventure</th>\n",
       "      <th>Horror</th>\n",
       "      <th>...</th>\n",
       "      <th>Open_Musicals</th>\n",
       "      <th>Consc_Comedy</th>\n",
       "      <th>Consc_Documentary</th>\n",
       "      <th>Consc_Drama</th>\n",
       "      <th>Consc_Action &amp; Adventure</th>\n",
       "      <th>Consc_Horror</th>\n",
       "      <th>Consc_Science Fiction</th>\n",
       "      <th>Consc_Animation</th>\n",
       "      <th>Consc_Kids &amp; Family</th>\n",
       "      <th>Consc_Musicals</th>\n",
       "    </tr>\n",
       "  </thead>\n",
       "  <tbody>\n",
       "    <tr>\n",
       "      <th>0</th>\n",
       "      <td>A3FMXA3WZ5STN7</td>\n",
       "      <td>6304117752</td>\n",
       "      <td>This movie is classical and wonderful. It's fu...</td>\n",
       "      <td>5.0</td>\n",
       "      <td>1</td>\n",
       "      <td>0</td>\n",
       "      <td>0</td>\n",
       "      <td>0</td>\n",
       "      <td>0</td>\n",
       "      <td>0</td>\n",
       "      <td>...</td>\n",
       "      <td>0.65407</td>\n",
       "      <td>0.0</td>\n",
       "      <td>0.0</td>\n",
       "      <td>0.0</td>\n",
       "      <td>0.0</td>\n",
       "      <td>0.000000</td>\n",
       "      <td>0.0</td>\n",
       "      <td>0.0</td>\n",
       "      <td>0.0</td>\n",
       "      <td>3.427246</td>\n",
       "    </tr>\n",
       "    <tr>\n",
       "      <th>1</th>\n",
       "      <td>AULWICH7QPKOJ</td>\n",
       "      <td>6304288433</td>\n",
       "      <td>The transfer on this is pretty good.  I believ...</td>\n",
       "      <td>4.0</td>\n",
       "      <td>1</td>\n",
       "      <td>0</td>\n",
       "      <td>0</td>\n",
       "      <td>0</td>\n",
       "      <td>0</td>\n",
       "      <td>1</td>\n",
       "      <td>...</td>\n",
       "      <td>0.00000</td>\n",
       "      <td>-0.0</td>\n",
       "      <td>-0.0</td>\n",
       "      <td>-0.0</td>\n",
       "      <td>-0.0</td>\n",
       "      <td>-0.008881</td>\n",
       "      <td>-0.0</td>\n",
       "      <td>-0.0</td>\n",
       "      <td>-0.0</td>\n",
       "      <td>-0.000000</td>\n",
       "    </tr>\n",
       "  </tbody>\n",
       "</table>\n",
       "<p>2 rows × 70 columns</p>\n",
       "</div>"
      ],
      "text/plain": [
       "       reviewerID        asin  \\\n",
       "0  A3FMXA3WZ5STN7  6304117752   \n",
       "1   AULWICH7QPKOJ  6304288433   \n",
       "\n",
       "                                          reviewText  overall  good  Comedy  \\\n",
       "0  This movie is classical and wonderful. It's fu...      5.0     1       0   \n",
       "1  The transfer on this is pretty good.  I believ...      4.0     1       0   \n",
       "\n",
       "   Documentary  Drama  Action & Adventure  Horror       ...        \\\n",
       "0            0      0                   0       0       ...         \n",
       "1            0      0                   0       1       ...         \n",
       "\n",
       "   Open_Musicals  Consc_Comedy  Consc_Documentary  Consc_Drama  \\\n",
       "0        0.65407           0.0                0.0          0.0   \n",
       "1        0.00000          -0.0               -0.0         -0.0   \n",
       "\n",
       "   Consc_Action & Adventure  Consc_Horror  Consc_Science Fiction  \\\n",
       "0                       0.0      0.000000                    0.0   \n",
       "1                      -0.0     -0.008881                   -0.0   \n",
       "\n",
       "   Consc_Animation  Consc_Kids & Family  Consc_Musicals  \n",
       "0              0.0                  0.0        3.427246  \n",
       "1             -0.0                 -0.0       -0.000000  \n",
       "\n",
       "[2 rows x 70 columns]"
      ]
     },
     "execution_count": 4,
     "metadata": {},
     "output_type": "execute_result"
    }
   ],
   "source": [
    "df.head(2)"
   ]
  },
  {
   "cell_type": "code",
   "execution_count": 20,
   "metadata": {},
   "outputs": [],
   "source": [
    "df[\"corpus\"] = df['reviewText'].map(lambda x: re.sub('[^a-zA-Z]', ' ', x))\n",
    "#Making everything lowercase\n",
    "df[\"corpus\"] = df[\"corpus\"].map(lambda x: x.lower())\n",
    "#splitting the sentence into words\n",
    "df[\"corpus\"] = df[\"corpus\"].map(lambda x: x.split())\n",
    "ps = PorterStemmer()\n",
    "# delete stop words and stemming the remaining words\n",
    "df[\"corpus\"] = df[\"corpus\"].map(lambda x:[ps.stem(word) for word in x if not word in set(stopwords.words('english'))])\n",
    "df[\"corpus\"] = df[\"corpus\"].map(lambda x: ' '.join(x))"
   ]
  },
  {
   "cell_type": "code",
   "execution_count": null,
   "metadata": {},
   "outputs": [],
   "source": [
    "#with open ('data_26_07_w_corpus', 'wb') as fw:\n",
    "#    pickle.dump(df, fw)"
   ]
  },
  {
   "cell_type": "code",
   "execution_count": 8,
   "metadata": {},
   "outputs": [],
   "source": [
    "with open ('data_26_07_w_corpus', 'rb') as fr:\n",
    "    df = pickle.load(fr)"
   ]
  },
  {
   "cell_type": "code",
   "execution_count": 9,
   "metadata": {},
   "outputs": [],
   "source": [
    "median_O = df.loc[:,\"Open\"].median()\n",
    "median_N = df.loc[:,\"Neuro\"].median()\n",
    "median_A = df.loc[:,\"Agree\"].median()\n",
    "\n",
    "# dataframe with high openness\n",
    "df_H_O = df[df.Open >= median_O]\n",
    "# df with low openness\n",
    "df_L_O = df[df.Open < median_O]\n",
    "# dataframe with high openness\n",
    "df_H_N = df[df.Neuro >= median_N]\n",
    "# df with low openness\n",
    "df_L_N = df[df.Neuro < median_N]\n",
    "\n",
    "# dataframe with high Agreeableness\n",
    "df_H_A = df[df.Agree >= median_A]\n",
    "# df with low Agreeableness\n",
    "df_L_A = df[df.Agree < median_A]"
   ]
  },
  {
   "cell_type": "code",
   "execution_count": 19,
   "metadata": {},
   "outputs": [
    {
     "data": {
      "text/plain": [
       "(-0.21503994493254414, 0.3723573823917685, -0.13265988405009393)"
      ]
     },
     "execution_count": 19,
     "metadata": {},
     "output_type": "execute_result"
    }
   ],
   "source": [
    "median_A, median_N, median_O"
   ]
  },
  {
   "cell_type": "code",
   "execution_count": 10,
   "metadata": {},
   "outputs": [],
   "source": [
    "import math\n",
    "# df with random split\n",
    "# reshuffle first\n",
    "df = df.sample(frac=1).reset_index(drop=True)\n",
    "half = math.ceil(len(df)/2)\n",
    "df1 = df.iloc[:half,:]\n",
    "df2 = df.iloc[half:,]"
   ]
  },
  {
   "cell_type": "code",
   "execution_count": 17,
   "metadata": {},
   "outputs": [
    {
     "name": "stdout",
     "output_type": "stream",
     "text": [
      "df1 (9405, 59)\n",
      "df2 (9405, 59)\n",
      "df_H_O (9405, 59)\n",
      "df_L_O (9405, 59)\n",
      "df_H_N (12248, 59)\n",
      "df_L_N (6562, 59)\n",
      "df_H_A (14964, 59)\n",
      "df_L_A (3846, 59)\n"
     ]
    }
   ],
   "source": [
    "dataframes = [df1,df2,df_H_O,df_L_O,df_H_N,df_L_N,df_H_A,df_L_A]\n",
    "dataframes_names = [\"df1\",\"df2\",\"df_H_O\",\"df_L_O\",\"df_H_N\",\"df_L_N\",\"df_H_A\",\"df_L_A\"]\n",
    "for dfx, name in zip(dataframes,dataframes_names):\n",
    "    print (name, dfx.shape)"
   ]
  },
  {
   "cell_type": "code",
   "execution_count": 12,
   "metadata": {},
   "outputs": [],
   "source": [
    "from sklearn.feature_extraction.text import CountVectorizer\n",
    "from sklearn.linear_model import LogisticRegression"
   ]
  },
  {
   "cell_type": "markdown",
   "metadata": {},
   "source": [
    "# RELEVANT PART"
   ]
  },
  {
   "cell_type": "code",
   "execution_count": 15,
   "metadata": {},
   "outputs": [],
   "source": [
    "# df1 and df2 are random splits and df_H_O means High Openness, \n",
    "# df_L_O means low opennes etc, I split my median\n",
    "dataframes = [df1,df2,df_H_O,df_L_O,df_H_N,df_L_N,df_H_A,df_L_A]\n",
    "dataframes_names = [\"df1\",\"df2\",\"df_H_O\",\"df_L_O\",\"df_H_N\",\"df_L_N\",\"df_H_A\",\"df_L_A\"]"
   ]
  },
  {
   "cell_type": "code",
   "execution_count": 20,
   "metadata": {},
   "outputs": [
    {
     "name": "stdout",
     "output_type": "stream",
     "text": [
      "df1   0.8127692743764169 9405\n",
      "df2   0.8189058956916099 9405\n",
      "df_H_O   0.813421201814059 9405\n",
      "df_L_O   0.818792517006803 9405\n",
      "df_H_N   0.8175919878075331 12248\n",
      "df_L_N   0.8214503351614868 6562\n",
      "df_H_A   0.8185957408892452 14964\n",
      "df_L_A   0.7974012474012474 3846\n"
     ]
    }
   ],
   "source": [
    "for dfx, name in zip(dataframes,dataframes_names):\n",
    "    cv = CountVectorizer(max_features = 500, ngram_range=(1,2))\n",
    "    XX = cv.fit_transform(dfx[\"corpus\"]).toarray()\n",
    "    # using relative word counts instead of absolute ones\n",
    "    tfidf_transformer = TfidfTransformer()\n",
    "    tfidf = tfidf_transformer.fit_transform(XX).toarray()\n",
    "    X = tfidf\n",
    "    y=dfx[\"good\"]\n",
    "    acc=[]\n",
    "    for seed in range(30):\n",
    "        X_train, X_test, y_train, y_test = train_test_split(X, y, test_size = 0.25, random_state = seed)\n",
    "        log = LogisticRegression(solver='liblinear')#regularization is applied by default\n",
    "        log.fit(X_train, y_train)\n",
    "        accuracy=log.score(X_test,y_test)\n",
    "        acc.append(accuracy)\n",
    "    print(name,\" \",sum(acc)/len(acc), len(dfx))"
   ]
  },
  {
   "cell_type": "markdown",
   "metadata": {},
   "source": [
    "# END"
   ]
  },
  {
   "cell_type": "code",
   "execution_count": 14,
   "metadata": {},
   "outputs": [
    {
     "data": {
      "text/plain": [
       "0.8313054916146004"
      ]
     },
     "execution_count": 14,
     "metadata": {},
     "output_type": "execute_result"
    }
   ],
   "source": [
    "from sklearn.linear_model import RidgeClassifierCV\n",
    "#X = df.iloc[:,5:]\n",
    "#y = df[\"good\"]\n",
    "clf = RidgeClassifierCV(alphas=[1e-7,1e-6,1e-5,1e-4,1e-3, 1e-2, 1e-1, 1]).fit(X_train, y_train)\n",
    "clf.score(X_test, y_test) "
   ]
  },
  {
   "cell_type": "code",
   "execution_count": 16,
   "metadata": {},
   "outputs": [],
   "source": [
    "from sklearn.neural_network import MLPClassifier"
   ]
  },
  {
   "cell_type": "code",
   "execution_count": 17,
   "metadata": {},
   "outputs": [
    {
     "data": {
      "text/plain": [
       "0.8313054916146004"
      ]
     },
     "execution_count": 17,
     "metadata": {},
     "output_type": "execute_result"
    }
   ],
   "source": [
    "#X = df.iloc[:,5:]\n",
    "#y = df[\"good\"]\n",
    "mlp = MLPClassifier(alpha=0.9,random_state=123)\n",
    "mlp.fit(X_train, y_train)\n",
    "score = mlp.score(X_test, y_test)\n",
    "score"
   ]
  },
  {
   "cell_type": "code",
   "execution_count": null,
   "metadata": {},
   "outputs": [],
   "source": []
  }
 ],
 "metadata": {
  "kernelspec": {
   "display_name": "Python 3",
   "language": "python",
   "name": "python3"
  },
  "language_info": {
   "codemirror_mode": {
    "name": "ipython",
    "version": 3
   },
   "file_extension": ".py",
   "mimetype": "text/x-python",
   "name": "python",
   "nbconvert_exporter": "python",
   "pygments_lexer": "ipython3",
   "version": "3.7.3"
  }
 },
 "nbformat": 4,
 "nbformat_minor": 2
}
