{
 "cells": [
  {
   "cell_type": "markdown",
   "metadata": {},
   "source": [
    "# Navigation\n",
    "\n",
    "1. Delete all unnecessary columns\n",
    "\n",
    "2. Delete all entries with a neutral rating (overall = 3)\n",
    "\n",
    "3. Binary Class \"good\" for \"Positive\" and \"Negative\" sentiment\n",
    "\n",
    "4. Resample to obtain balanced dataset\n",
    "\n",
    "5. Data Merging for Genre Attributes (dummy variables)\n",
    "\n",
    "6. Add Personality & Grammar Features\n",
    "\n",
    "7. Normalizing numerical features\n",
    "\n",
    "8. Create interaction terms between movie genre and personality\n",
    "\n",
    "9. Show descriptive statistics for variables\n",
    "\n",
    "10. Use all features for a prediction model (Ridge Classifier, Neural Net)"
   ]
  },
  {
   "cell_type": "code",
   "execution_count": null,
   "metadata": {},
   "outputs": [],
   "source": [
    "import pandas as pd\n",
    "import os as os\n",
    "import json as js\n",
    "import gzip\n",
    "import numpy as np\n",
    "import matplotlib.pyplot as plt\n",
    "import pickle\n",
    "\n",
    "#importing libraries for NLP\n",
    "import re\n",
    "import nltk\n",
    "nltk.download('stopwords')\n",
    "from nltk.corpus import stopwords\n",
    "from nltk.stem.porter import PorterStemmer\n",
    "from collections import Counter\n",
    "\n",
    "#Text Classification Material\n",
    "from sklearn.feature_extraction.text import CountVectorizer\n",
    "from sklearn.feature_extraction.text import TfidfTransformer\n",
    "from sklearn.pipeline import Pipeline\n",
    "from sklearn.model_selection import train_test_split\n",
    "from sklearn.metrics import accuracy_score\n",
    "from sklearn.naive_bayes import GaussianNB\n",
    "from sklearn.naive_bayes import MultinomialNB\n",
    "from sklearn.naive_bayes import BernoulliNB\n",
    "from sklearn.metrics import confusion_matrix"
   ]
  },
  {
   "cell_type": "code",
   "execution_count": null,
   "metadata": {},
   "outputs": [],
   "source": [
    "os.chdir(\"C:/Users/MAHAM/Desktop/Studium/Capstone Project/master__thesis\")\n",
    "os.getcwd()"
   ]
  },
  {
   "cell_type": "markdown",
   "metadata": {},
   "source": [
    "# Data Preparation\n",
    "### Merging Genre Data with Review Data"
   ]
  },
  {
   "cell_type": "markdown",
   "metadata": {},
   "source": [
    "#### Review Data"
   ]
  },
  {
   "cell_type": "code",
   "execution_count": null,
   "metadata": {},
   "outputs": [],
   "source": [
    "with open ('movies_data', 'rb') as fr:\n",
    "    full_df = pickle.load(fr)"
   ]
  },
  {
   "cell_type": "code",
   "execution_count": null,
   "metadata": {},
   "outputs": [],
   "source": [
    "full_df.shape"
   ]
  },
  {
   "cell_type": "markdown",
   "metadata": {},
   "source": [
    "#### Genre Labels Data"
   ]
  },
  {
   "cell_type": "code",
   "execution_count": null,
   "metadata": {},
   "outputs": [],
   "source": [
    "dfg = pd.DataFrame.from_csv(\"labels.csv\",index_col=None)"
   ]
  },
  {
   "cell_type": "code",
   "execution_count": null,
   "metadata": {},
   "outputs": [],
   "source": [
    "dfg = pd.DataFrame(dfg)"
   ]
  },
  {
   "cell_type": "code",
   "execution_count": null,
   "metadata": {},
   "outputs": [],
   "source": [
    "dfg.head()"
   ]
  },
  {
   "cell_type": "code",
   "execution_count": null,
   "metadata": {},
   "outputs": [],
   "source": [
    "dfg.shape"
   ]
  },
  {
   "cell_type": "markdown",
   "metadata": {},
   "source": [
    "##### Deleting all rows where \"Categories\" is empty"
   ]
  },
  {
   "cell_type": "code",
   "execution_count": null,
   "metadata": {},
   "outputs": [],
   "source": [
    "dfg = dfg[dfg[\"Categories\"].map(len)!=2]"
   ]
  },
  {
   "cell_type": "code",
   "execution_count": null,
   "metadata": {},
   "outputs": [],
   "source": [
    "dfg.shape"
   ]
  },
  {
   "cell_type": "markdown",
   "metadata": {},
   "source": [
    "##### Keeping all Movies with the following ten Genres\n",
    "- Comedy\n",
    "- Art house and international\n",
    "- Documentary\n",
    "- Drama\n",
    "- Action & Adventure\n",
    "- Horror\n",
    "- Science Fiction\n",
    "- Animation\n",
    "- Kids & Family\n",
    "- Musicals"
   ]
  },
  {
   "cell_type": "code",
   "execution_count": null,
   "metadata": {},
   "outputs": [],
   "source": [
    "dfg=dfg[dfg['Categories'].str.contains(\"Comedy|Art House and International|Documentary|Drama|Action & Adventure|Horror|Science Fiction|Animation|Kids & Family|Musicals\")]"
   ]
  },
  {
   "cell_type": "code",
   "execution_count": null,
   "metadata": {},
   "outputs": [],
   "source": [
    "dfg.head()"
   ]
  },
  {
   "cell_type": "markdown",
   "metadata": {},
   "source": [
    "### Balancing the Genres by Undersampling"
   ]
  },
  {
   "cell_type": "code",
   "execution_count": null,
   "metadata": {},
   "outputs": [],
   "source": [
    "genres=[\"Comedy\",\"Art House & International\",\"Documentary\",\"Drama\",\"Action & Adventure\",\"Horror\",\"Science Fiction\",\"Animation\",\"Kids & Family\",\"Musicals\"]\n",
    "for genre in genres:\n",
    "    count=len(dfg[dfg['Categories'].str.contains(genre)])\n",
    "    print(genre,str(count))"
   ]
  },
  {
   "cell_type": "markdown",
   "metadata": {},
   "source": [
    "##### As we can see, the rarest category here is Art House & International"
   ]
  },
  {
   "cell_type": "code",
   "execution_count": null,
   "metadata": {},
   "outputs": [],
   "source": [
    "smallest_count=len(dfg[dfg['Categories'].str.contains(\"Art House & International\")])\n",
    "smallest_count"
   ]
  },
  {
   "cell_type": "code",
   "execution_count": null,
   "metadata": {},
   "outputs": [],
   "source": [
    "genres_wo_art = [\"Comedy\",\"Documentary\",\"Drama\",\"Action & Adventure\",\"Horror\",\"Science Fiction\",\"Animation\",\"Kids & Family\",\"Musicals\"]\n"
   ]
  },
  {
   "cell_type": "code",
   "execution_count": null,
   "metadata": {},
   "outputs": [],
   "source": [
    "# Divide by class\n",
    "dfg_art = dfg[dfg['Categories'].str.contains(\"Art House & International\")]\n",
    "n=0\n",
    "for genre in genres_wo_art:\n",
    "    df_class_pos = dfg[dfg['Categories'].str.contains(genre)]\n",
    "    df_class_pos_under = df_class_pos.sample(smallest_count, random_state=123)\n",
    "    if n==0:\n",
    "        df2= pd.concat([df_class_pos_under, dfg_art], axis=0)\n",
    "    else:\n",
    "        df2= pd.concat([df_class_pos_under, df2], axis=0)\n",
    "    n+=1"
   ]
  },
  {
   "cell_type": "markdown",
   "metadata": {},
   "source": [
    "#### Approximately equally large groups"
   ]
  },
  {
   "cell_type": "code",
   "execution_count": null,
   "metadata": {},
   "outputs": [],
   "source": [
    "for genre in genres:\n",
    "    count=len(df2[df2['Categories'].str.contains(genre)])\n",
    "    print(genre,str(count))"
   ]
  },
  {
   "cell_type": "code",
   "execution_count": null,
   "metadata": {},
   "outputs": [],
   "source": [
    "df2.head(3)"
   ]
  },
  {
   "cell_type": "code",
   "execution_count": null,
   "metadata": {},
   "outputs": [],
   "source": [
    "df2.shape"
   ]
  },
  {
   "cell_type": "markdown",
   "metadata": {},
   "source": [
    "##### Create list of 14360 selected movies "
   ]
  },
  {
   "cell_type": "code",
   "execution_count": null,
   "metadata": {},
   "outputs": [],
   "source": [
    "selected_movies=df2[\"ASIN\"].values\n",
    "len(selected_movies)"
   ]
  },
  {
   "cell_type": "markdown",
   "metadata": {},
   "source": [
    "##### Reduces the number of entries from 1.7 million to around 78,000 "
   ]
  },
  {
   "cell_type": "code",
   "execution_count": null,
   "metadata": {},
   "outputs": [],
   "source": [
    "full_df.shape"
   ]
  },
  {
   "cell_type": "code",
   "execution_count": null,
   "metadata": {},
   "outputs": [],
   "source": [
    "df=full_df[full_df[\"asin\"].isin(selected_movies)]\n",
    "df.shape"
   ]
  },
  {
   "cell_type": "markdown",
   "metadata": {},
   "source": [
    "#### Delete unused columns"
   ]
  },
  {
   "cell_type": "code",
   "execution_count": null,
   "metadata": {},
   "outputs": [],
   "source": [
    "df.head(1)"
   ]
  },
  {
   "cell_type": "code",
   "execution_count": null,
   "metadata": {},
   "outputs": [],
   "source": [
    "drop_columns=[\"reviewerName\",\"helpful\",\"summary\",\"unixReviewTime\",\"reviewTime\"]\n",
    "df = df.drop(columns=drop_columns)\n",
    "df.head(1)"
   ]
  },
  {
   "cell_type": "markdown",
   "metadata": {},
   "source": [
    "#### Balanced Dataset"
   ]
  },
  {
   "cell_type": "markdown",
   "metadata": {},
   "source": [
    "##### Delete neutral reviews"
   ]
  },
  {
   "cell_type": "code",
   "execution_count": null,
   "metadata": {},
   "outputs": [],
   "source": [
    "df.shape"
   ]
  },
  {
   "cell_type": "code",
   "execution_count": null,
   "metadata": {},
   "outputs": [],
   "source": [
    "df = df[df.overall != 3]"
   ]
  },
  {
   "cell_type": "code",
   "execution_count": null,
   "metadata": {},
   "outputs": [],
   "source": [
    "df.shape"
   ]
  },
  {
   "cell_type": "code",
   "execution_count": null,
   "metadata": {},
   "outputs": [],
   "source": [
    "df = df.reset_index()\n",
    "df = df.drop(columns=\"index\")\n",
    "df.shape"
   ]
  },
  {
   "cell_type": "markdown",
   "metadata": {},
   "source": [
    "##### Create Binary Target Variable"
   ]
  },
  {
   "cell_type": "code",
   "execution_count": null,
   "metadata": {},
   "outputs": [],
   "source": [
    "df[\"good\"]=[1 if df.loc[i,\"overall\"]>=4 else 0 for i in range(len(df))]"
   ]
  },
  {
   "cell_type": "markdown",
   "metadata": {},
   "source": [
    "##### Resample using **Undersampling**"
   ]
  },
  {
   "cell_type": "code",
   "execution_count": null,
   "metadata": {},
   "outputs": [],
   "source": [
    "# without resampling 87% of the reviews are positive\n",
    "df.good.mean()"
   ]
  },
  {
   "cell_type": "code",
   "execution_count": null,
   "metadata": {},
   "outputs": [],
   "source": [
    "# Class count\n",
    "count_pos, count_neg = df.good.value_counts()\n",
    "count_pos,count_neg"
   ]
  },
  {
   "cell_type": "code",
   "execution_count": null,
   "metadata": {},
   "outputs": [],
   "source": [
    "# Divide by class\n",
    "df_class_pos = df[df['good'] == 1]\n",
    "df_class_neg = df[df['good'] == 0]\n",
    "\n",
    "df_class_pos_under = df_class_pos.sample(count_neg, random_state=123)\n",
    "df= pd.concat([df_class_pos_under, df_class_neg], axis=0)"
   ]
  },
  {
   "cell_type": "code",
   "execution_count": null,
   "metadata": {},
   "outputs": [],
   "source": [
    "# Balanced data set\n",
    "df.good.value_counts().plot(kind='bar', title='Count (target)');"
   ]
  },
  {
   "cell_type": "code",
   "execution_count": null,
   "metadata": {},
   "outputs": [],
   "source": [
    "df.good.mean(), df.shape"
   ]
  },
  {
   "cell_type": "markdown",
   "metadata": {},
   "source": [
    "## Add Genre features to selected movies"
   ]
  },
  {
   "cell_type": "code",
   "execution_count": null,
   "metadata": {},
   "outputs": [],
   "source": [
    "dfg=dfg.set_index(\"ASIN\")\n",
    "df = df.reset_index()\n",
    "df = df.drop(columns=\"index\")"
   ]
  },
  {
   "cell_type": "code",
   "execution_count": null,
   "metadata": {},
   "outputs": [],
   "source": [
    "len(genres), genres"
   ]
  },
  {
   "cell_type": "markdown",
   "metadata": {},
   "source": [
    "##### Produce ten dummy variables for each genre"
   ]
  },
  {
   "cell_type": "code",
   "execution_count": null,
   "metadata": {},
   "outputs": [],
   "source": [
    "for genre in genres:\n",
    "    df[genre]=0\n",
    "    for row in range(len(df)):\n",
    "        movie_id = df.loc[row,\"asin\"]\n",
    "        if genre in dfg.loc[movie_id,\"Categories\"]:\n",
    "            df.loc[row,genre]=1"
   ]
  },
  {
   "cell_type": "code",
   "execution_count": null,
   "metadata": {},
   "outputs": [],
   "source": [
    "df.head()"
   ]
  },
  {
   "cell_type": "markdown",
   "metadata": {},
   "source": [
    "### Genre Descriptions"
   ]
  },
  {
   "cell_type": "code",
   "execution_count": null,
   "metadata": {},
   "outputs": [],
   "source": [
    "for genre in genres:\n",
    "    count=df[genre].mean()\n",
    "    print(genre,str(count))"
   ]
  },
  {
   "cell_type": "code",
   "execution_count": null,
   "metadata": {},
   "outputs": [],
   "source": [
    "col_drop = [\"Documentary\",\"Musicals\", \"Kids & Family\"]\n",
    "df = df.drop(columns=col_drop)"
   ]
  },
  {
   "cell_type": "code",
   "execution_count": null,
   "metadata": {},
   "outputs": [],
   "source": [
    "df.columns, df.good.mean()"
   ]
  },
  {
   "cell_type": "markdown",
   "metadata": {},
   "source": [
    "### Add features\n",
    "#### Grammar"
   ]
  },
  {
   "cell_type": "code",
   "execution_count": null,
   "metadata": {},
   "outputs": [],
   "source": [
    "def feature_creator(feature, df):\n",
    "    df[feature] = [df.loc[i, \"reviewText\"].count(feature)/((len(df.loc[i, \"reviewText\"]))+0.0001) for i in range(len(df))]"
   ]
  },
  {
   "cell_type": "code",
   "execution_count": null,
   "metadata": {},
   "outputs": [],
   "source": [
    "dataframes=[df]\n",
    "punc_marks = (\"!\",\"?\",\",\",\".\",\" \")\n",
    "for df in dataframes:\n",
    "    # ADD FEATURE 1: Length of comment\n",
    "    df[\"length\"] = [len(df.loc[i, \"reviewText\"]) for i in range(len(df))]\n",
    "    for f in punc_marks:\n",
    "        # ADD FEATURE 2,3,4: Punctuation marks, and average word length (represented by whitespace/length)\n",
    "        feature_creator(f, df)"
   ]
  },
  {
   "cell_type": "code",
   "execution_count": null,
   "metadata": {},
   "outputs": [],
   "source": [
    "df.columns"
   ]
  },
  {
   "cell_type": "code",
   "execution_count": null,
   "metadata": {},
   "outputs": [],
   "source": [
    "#import nltk\n",
    "#nltk.download('punkt')\n",
    "#nltk.download('averaged_perceptron_tagger')"
   ]
  },
  {
   "cell_type": "code",
   "execution_count": null,
   "metadata": {},
   "outputs": [],
   "source": [
    "# Add feature of Relative amount of word types\n",
    "word_types=[\"noun\", \"adj\", \"verb (simple)\",\"verb (simple past)\", \"verb (past participle)\", \"verb (gerund)\", \"adverb\", \"preposition\"]\n",
    "word_types_abb=[\"NN\", \"JJ\",\"VB\",\"VBD\", \"VBN\", \"VBG\", \"RB\", \"IN\"]\n",
    "word_types_dictionary={\"noun\":\"NN\", \"adj\":\"JJ\", \"verb (simple)\":\"VB\",\"verb (simple past)\":\"VBD\", \"verb (past participle)\":\"VBN\", \"verb (gerund)\":\"VBG\", \"adverb\":\"RB\", \"preposition\":\"IN\"}\n",
    "for wt in word_types:\n",
    "    df[wt]=df[\"good\"]\n",
    "for i in range(len(df)):\n",
    "    text = df.loc[i, \"reviewText\"]\n",
    "    tokens = nltk.word_tokenize(text.lower())\n",
    "    text = nltk.Text(tokens)\n",
    "    tags = nltk.pos_tag(text)\n",
    "    counts = Counter(tag for word,tag in tags)\n",
    "    total = sum(counts.values())\n",
    "    count_dic = dict((word, float(count)/total) for word,count in counts.items())\n",
    "    for wt, abb in word_types_dictionary.items():\n",
    "        if abb in count_dic:\n",
    "            df.iloc[i, df.columns.get_loc(wt)] = count_dic[abb]\n",
    "        else:\n",
    "            df.iloc[i, df.columns.get_loc(wt)] = 0 "
   ]
  },
  {
   "cell_type": "code",
   "execution_count": null,
   "metadata": {},
   "outputs": [],
   "source": [
    "# normalizing the values\n",
    "for col in word_types:\n",
    "    df[col]=(df[col]-df[col].mean())/df[col].std()"
   ]
  },
  {
   "cell_type": "markdown",
   "metadata": {},
   "source": [
    "#### Personality"
   ]
  },
  {
   "cell_type": "code",
   "execution_count": null,
   "metadata": {},
   "outputs": [],
   "source": [
    "# Create column with text without puctuation for personality\n",
    "df[\"text_plain\"] = df['reviewText'].map(lambda x: re.sub('[^a-zA-Z]', ' ', x))"
   ]
  },
  {
   "cell_type": "code",
   "execution_count": null,
   "metadata": {},
   "outputs": [],
   "source": [
    "import csv\n",
    "letters = [\"E\", \"A\", \"N\", \"O\", \"C\"]\n",
    "big5 = [\"Extro\", \"Agree\", \"Neuro\", \"Open\", \"Consc\"]\n",
    "for df in dataframes:\n",
    "    for column in big5:\n",
    "        df[column]=df[\"overall\"]\n",
    "    for j,letter in enumerate(letters):\n",
    "        reader = csv.reader(open('%s.top100.1to3grams.gender_age_controlled.rmatrix.csv'%(letter), 'r'))\n",
    "        dic = {}\n",
    "        for row in reader:\n",
    "            k, v, z= row\n",
    "            dic[k] = v\n",
    "        dic.pop(\"\")\n",
    "        for i in range(len(df)):\n",
    "            text = df.iloc[i, df.columns.get_loc(\"text_plain\")]\n",
    "            tokens = nltk.word_tokenize(text.lower())\n",
    "            text = nltk.Text(tokens)\n",
    "            word_value = 0\n",
    "            for word, value in dic.items():\n",
    "                counter = text.count(word)\n",
    "                word_value = word_value+(counter*float(value))\n",
    "            #current_length = len(df.columns)\n",
    "            personality_number = word_value/((df.iloc[i,df.columns.get_loc(\"length\")])+0.0001)\n",
    "            df.iloc[i, df.columns.get_loc(big5[j])] = personality_number"
   ]
  },
  {
   "cell_type": "code",
   "execution_count": null,
   "metadata": {},
   "outputs": [],
   "source": [
    "df = df.drop(columns=\"text_plain\")"
   ]
  },
  {
   "cell_type": "code",
   "execution_count": null,
   "metadata": {},
   "outputs": [],
   "source": [
    "fig, axs = plt.subplots(2,3, figsize=(15,6))\n",
    "for i in range(3):\n",
    "    axs[0,i].hist(df[big5[i]], bins=100)\n",
    "    axs[0,i].set_title(big5[i])\n",
    "for i in range(3,5):\n",
    "    axs[1,i-3].hist(df[big5[i]], bins=100)\n",
    "    axs[1,i-3].set_title(big5[i])"
   ]
  },
  {
   "cell_type": "code",
   "execution_count": null,
   "metadata": {},
   "outputs": [],
   "source": [
    "big5 = [\"Extro\", \"Agree\", \"Neuro\", \"Open\", \"Consc\"]\n",
    "het=pd.plotting.scatter_matrix(df[big5], c=df[\"overall\"], figsize=(15, 15), marker='o',\n",
    "                                 hist_kwds={'bins': 70}, s=60, alpha=.5)"
   ]
  },
  {
   "cell_type": "code",
   "execution_count": null,
   "metadata": {},
   "outputs": [],
   "source": [
    "df.columns"
   ]
  },
  {
   "cell_type": "code",
   "execution_count": null,
   "metadata": {},
   "outputs": [],
   "source": [
    "# Check how many users review more than once in this dataset\n",
    "df.shape[0], len(set(df.reviewerID)),len(set(df.asin))"
   ]
  },
  {
   "cell_type": "markdown",
   "metadata": {},
   "source": [
    "### Normalization"
   ]
  },
  {
   "cell_type": "code",
   "execution_count": null,
   "metadata": {},
   "outputs": [],
   "source": [
    "# word types were already normalized above\n",
    "numeric = ['Extro', 'Agree', 'Neuro', 'Open', 'Consc', 'length', '!', '?', ',','.', ' ']"
   ]
  },
  {
   "cell_type": "code",
   "execution_count": null,
   "metadata": {},
   "outputs": [],
   "source": [
    "for col in numeric:\n",
    "    df[col]=(df[col]-df[col].mean())/df[col].std()"
   ]
  },
  {
   "cell_type": "markdown",
   "metadata": {},
   "source": [
    "## Interaction terms"
   ]
  },
  {
   "cell_type": "code",
   "execution_count": null,
   "metadata": {},
   "outputs": [],
   "source": [
    "big5 = [\"Extro\", \"Agree\", \"Neuro\", \"Open\", \"Consc\"]\n",
    "genres=[\"Comedy\",\"Art House & International\",\"Drama\",\"Action & Adventure\",\"Horror\",\"Science Fiction\",\"Animation\"]\n",
    "def create_interaction_terms(df):\n",
    "    for personality in big5:\n",
    "        for genre in genres:\n",
    "            df[personality+\"_\"+genre]=df.apply(lambda x: x[personality]*x[genre], axis=1)"
   ]
  },
  {
   "cell_type": "code",
   "execution_count": null,
   "metadata": {},
   "outputs": [],
   "source": [
    "create_interaction_terms(df)"
   ]
  },
  {
   "cell_type": "code",
   "execution_count": null,
   "metadata": {},
   "outputs": [],
   "source": [
    "df.shape"
   ]
  },
  {
   "cell_type": "code",
   "execution_count": null,
   "metadata": {},
   "outputs": [],
   "source": [
    "with open ('data_25_07', 'wb') as fw:\n",
    "    pickle.dump(df, fw)"
   ]
  },
  {
   "cell_type": "markdown",
   "metadata": {},
   "source": [
    "### Pre-Trained Sentiment Analyser"
   ]
  },
  {
   "cell_type": "code",
   "execution_count": null,
   "metadata": {},
   "outputs": [],
   "source": [
    "df.columns"
   ]
  },
  {
   "cell_type": "code",
   "execution_count": null,
   "metadata": {},
   "outputs": [],
   "source": [
    "import vaderSentiment\n",
    "from vaderSentiment.vaderSentiment import SentimentIntensityAnalyzer\n",
    "\n",
    "analyser = SentimentIntensityAnalyzer()"
   ]
  },
  {
   "cell_type": "code",
   "execution_count": null,
   "metadata": {},
   "outputs": [],
   "source": [
    "df[\"sentiment\"]=df[\"reviewText\"].map(lambda x :analyser.polarity_scores(x)[\"compound\"])"
   ]
  },
  {
   "cell_type": "code",
   "execution_count": null,
   "metadata": {},
   "outputs": [],
   "source": [
    "df.head(2)"
   ]
  },
  {
   "cell_type": "code",
   "execution_count": null,
   "metadata": {},
   "outputs": [],
   "source": [
    "with open ('df_07_08', 'wb') as fw:\n",
    "    pickle.dump(df, fw)"
   ]
  },
  {
   "cell_type": "markdown",
   "metadata": {},
   "source": [
    "### END of Data Pre-Processing"
   ]
  },
  {
   "cell_type": "markdown",
   "metadata": {},
   "source": [
    "# Feature Description"
   ]
  },
  {
   "cell_type": "markdown",
   "metadata": {},
   "source": [
    "## Personality"
   ]
  },
  {
   "cell_type": "code",
   "execution_count": 2,
   "metadata": {},
   "outputs": [],
   "source": [
    "with open ('df_07_08', 'rb') as fr:\n",
    "    df = pickle.load(fr)"
   ]
  },
  {
   "cell_type": "code",
   "execution_count": null,
   "metadata": {
    "scrolled": true
   },
   "outputs": [],
   "source": [
    "personality = [\"Extro\", \"Agree\", \"Neuro\", \"Open\", \"Consc\"]\n",
    "for pers in personality:\n",
    "    print(pers)\n",
    "    print(df[\"reviewText\"].loc[df[pers].idxmax()])\n",
    "    print(df[\"reviewText\"].loc[df[pers].idxmin()],\"\\n\")"
   ]
  },
  {
   "cell_type": "code",
   "execution_count": null,
   "metadata": {},
   "outputs": [],
   "source": [
    "big5 = [\"Extro\", \"Agree\", \"Neuro\", \"Open\", \"Consc\"]\n",
    "fig, axs = plt.subplots(2,3, figsize=(15,8))\n",
    "fig.suptitle('Movie and TV Show Reviews')\n",
    "for i in range(3):\n",
    "    axs[0,i].hist(df[big5[i]], bins=100, color=\"maroon\")\n",
    "    axs[0,i].set_title(big5[i])\n",
    "    axs[0,i].set_xlim(-10,10)\n",
    "for i in range(3,5):\n",
    "    axs[1,i-3].hist(df[big5[i]], bins=100, color=\"maroon\")\n",
    "    axs[1,i-3].set_title(big5[i])\n",
    "    axs[1,i-3].set_xlim(-10,10)"
   ]
  },
  {
   "cell_type": "code",
   "execution_count": null,
   "metadata": {},
   "outputs": [],
   "source": [
    "import seaborn as sns\n",
    "sns.set(style=\"ticks\", color_codes=True)\n",
    "%matplotlib inline\n",
    "used_col=personality+[\"good\"]\n",
    "df2=df[used_col]\n",
    "sns.pairplot(df2, hue=\"good\")"
   ]
  },
  {
   "cell_type": "code",
   "execution_count": 4,
   "metadata": {},
   "outputs": [
    {
     "data": {
      "image/png": "[encoded data removed]",
      "text/plain": [
       "<Figure size 1080x1080 with 25 Axes>"
      ]
     },
     "metadata": {
      "needs_background": "light"
     },
     "output_type": "display_data"
    }
   ],
   "source": [
    "personality = [\"Extro\", \"Agree\", \"Neuro\", \"Open\", \"Consc\"]\n",
    "colors = df['good'].replace({1:'mediumseagreen', 0: 'lightcoral'})   \n",
    "het=pd.plotting.scatter_matrix(df[personality], c=colors, figsize=(15, 15), marker='o',\n",
    "                                diagonal = 'kde',s=10, alpha=.4)"
   ]
  },
  {
   "cell_type": "code",
   "execution_count": 5,
   "metadata": {},
   "outputs": [],
   "source": [
    "movies_2=df.copy(deep=False)\n",
    "median_O = movies_2.loc[:,\"Open\"].median()\n",
    "median_N = movies_2.loc[:,\"Neuro\"].median()"
   ]
  },
  {
   "cell_type": "code",
   "execution_count": 6,
   "metadata": {},
   "outputs": [],
   "source": [
    "movies_2[\"high_O\"] = [1 if movies_2.loc[i, \"Open\"]>=median_O else 0 for i in range(len(movies_2))]\n",
    "\n",
    "unique_movies= movies_2.groupby([\"asin\"],as_index=False).mean()\n",
    "movies_2=movies_2.reset_index()"
   ]
  },
  {
   "cell_type": "code",
   "execution_count": 9,
   "metadata": {},
   "outputs": [],
   "source": [
    "import random\n",
    "random.seed(\"Capstone\")\n",
    "movies_id = list(set(movies_2[\"asin\"]))\n",
    "#reviewers_Health = list(set(health_data[\"reviewerID\"]))\n",
    "#reviewers_Apps = list(set(apps_data[\"reviewerID\"]))\n",
    "movies_1000 = random.sample(movies_id, 1000)"
   ]
  },
  {
   "cell_type": "code",
   "execution_count": 11,
   "metadata": {},
   "outputs": [
    {
     "data": {
      "text/html": [
       "<div>\n",
       "<style scoped>\n",
       "    .dataframe tbody tr th:only-of-type {\n",
       "        vertical-align: middle;\n",
       "    }\n",
       "\n",
       "    .dataframe tbody tr th {\n",
       "        vertical-align: top;\n",
       "    }\n",
       "\n",
       "    .dataframe thead th {\n",
       "        text-align: right;\n",
       "    }\n",
       "</style>\n",
       "<table border=\"1\" class=\"dataframe\">\n",
       "  <thead>\n",
       "    <tr style=\"text-align: right;\">\n",
       "      <th></th>\n",
       "      <th>Movie Title</th>\n",
       "      <th>Rating_H_O</th>\n",
       "      <th>Rating_L_O</th>\n",
       "    </tr>\n",
       "  </thead>\n",
       "  <tbody>\n",
       "    <tr>\n",
       "      <th>0</th>\n",
       "      <td>B0000AKCLL</td>\n",
       "      <td>NaN</td>\n",
       "      <td>NaN</td>\n",
       "    </tr>\n",
       "    <tr>\n",
       "      <th>1</th>\n",
       "      <td>B001FOPOD8</td>\n",
       "      <td>NaN</td>\n",
       "      <td>NaN</td>\n",
       "    </tr>\n",
       "    <tr>\n",
       "      <th>2</th>\n",
       "      <td>6301968018</td>\n",
       "      <td>NaN</td>\n",
       "      <td>NaN</td>\n",
       "    </tr>\n",
       "    <tr>\n",
       "      <th>3</th>\n",
       "      <td>1559409061</td>\n",
       "      <td>NaN</td>\n",
       "      <td>NaN</td>\n",
       "    </tr>\n",
       "    <tr>\n",
       "      <th>4</th>\n",
       "      <td>6300215350</td>\n",
       "      <td>NaN</td>\n",
       "      <td>NaN</td>\n",
       "    </tr>\n",
       "  </tbody>\n",
       "</table>\n",
       "</div>"
      ],
      "text/plain": [
       "  Movie Title Rating_H_O Rating_L_O\n",
       "0  B0000AKCLL        NaN        NaN\n",
       "1  B001FOPOD8        NaN        NaN\n",
       "2  6301968018        NaN        NaN\n",
       "3  1559409061        NaN        NaN\n",
       "4  6300215350        NaN        NaN"
      ]
     },
     "execution_count": 11,
     "metadata": {},
     "output_type": "execute_result"
    }
   ],
   "source": [
    "d = {\"Movie Title\":movies_1000}\n",
    "columns=[\"Movie Title\",\n",
    "         \"Rating_H_O\",\"Rating_L_O\"]\n",
    "unique = pd.DataFrame(data=d, index=range(1000),columns=columns)\n",
    "unique.head()"
   ]
  },
  {
   "cell_type": "code",
   "execution_count": 12,
   "metadata": {},
   "outputs": [],
   "source": [
    "#movies_2[\"rating_low_open\"] \n",
    "for title in movies_1000:\n",
    "    for letter in [\"O\"]:\n",
    "        unique.loc[unique[\"Movie Title\"]==title,\"Rating_H_\"+letter] = movies_2.loc[(movies_2.asin == title) & (movies_2[\"high_\"+letter]==1),\"overall\"].mean()\n",
    "        unique.loc[unique[\"Movie Title\"]==title,\"Rating_L_\"+letter] = movies_2.loc[(movies_2.asin == title) & (movies_2[\"high_\"+letter]==0),\"overall\"].mean()\n",
    "        unique.loc[unique[\"Movie Title\"]==title,\"Number_H_\"+letter] = movies_2[(movies_2[\"high_\"+letter] == 1) & (movies_2.asin == title)].count()[\"index\"]\n",
    "        unique.loc[unique[\"Movie Title\"]==title,\"Number_L_\"+letter] = movies_2[(movies_2[\"high_\"+letter] == 0) & (movies_2.asin == title)].count()[\"index\"]\n",
    "\n",
    "for letter in [\"O\"]:\n",
    "    unique[\"diff_\"+letter]=unique[\"Rating_H_\"+letter]-unique[\"Rating_L_\"+letter]"
   ]
  },
  {
   "cell_type": "code",
   "execution_count": 14,
   "metadata": {},
   "outputs": [],
   "source": [
    "#movies_2[\"rating_low_open\"] \n",
    "for title in movies_1000:\n",
    "    for letter in [\"O\"]:\n",
    "        unique.loc[unique[\"Movie Title\"]==title,\"Rating_H_\"+letter] = movies_2.loc[(movies_2.asin == title) & (movies_2[\"high_\"+letter]==1),\"overall\"].mean()\n",
    "        unique.loc[unique[\"Movie Title\"]==title,\"Rating_L_\"+letter] = movies_2.loc[(movies_2.asin == title) & (movies_2[\"high_\"+letter]==0),\"overall\"].mean()\n",
    "        unique.loc[unique[\"Movie Title\"]==title,\"Number_H_\"+letter] = movies_2[(movies_2[\"high_\"+letter] == 1) & (movies_2.asin == title)].count()[\"index\"]\n",
    "        unique.loc[unique[\"Movie Title\"]==title,\"Number_L_\"+letter] = movies_2[(movies_2[\"high_\"+letter] == 0) & (movies_2.asin == title)].count()[\"index\"]\n",
    "\n",
    "for letter in [\"O\"]:\n",
    "    unique[\"diff_\"+letter]=unique[\"Rating_H_\"+letter]-unique[\"Rating_L_\"+letter]"
   ]
  },
  {
   "cell_type": "code",
   "execution_count": 16,
   "metadata": {},
   "outputs": [
    {
     "data": {
      "text/html": [
       "<div>\n",
       "<style scoped>\n",
       "    .dataframe tbody tr th:only-of-type {\n",
       "        vertical-align: middle;\n",
       "    }\n",
       "\n",
       "    .dataframe tbody tr th {\n",
       "        vertical-align: top;\n",
       "    }\n",
       "\n",
       "    .dataframe thead th {\n",
       "        text-align: right;\n",
       "    }\n",
       "</style>\n",
       "<table border=\"1\" class=\"dataframe\">\n",
       "  <thead>\n",
       "    <tr style=\"text-align: right;\">\n",
       "      <th></th>\n",
       "      <th>Movie Title</th>\n",
       "      <th>Rating_H_O</th>\n",
       "      <th>Rating_L_O</th>\n",
       "      <th>Number_H_O</th>\n",
       "      <th>Number_L_O</th>\n",
       "      <th>diff_O</th>\n",
       "    </tr>\n",
       "  </thead>\n",
       "  <tbody>\n",
       "  </tbody>\n",
       "</table>\n",
       "</div>"
      ],
      "text/plain": [
       "Empty DataFrame\n",
       "Columns: [Movie Title, Rating_H_O, Rating_L_O, Number_H_O, Number_L_O, diff_O]\n",
       "Index: []"
      ]
     },
     "execution_count": 16,
     "metadata": {},
     "output_type": "execute_result"
    }
   ],
   "source": [
    "unique[\"diff_O\"]=unique[\"diff_O\"].astype('float64')\n",
    "unique_enough = unique[(unique[\"Number_H_O\"]>30)&(unique[\"Number_L_O\"]>30)&(unique[\"diff_O\"]>1)]\n",
    "unique_enough.head(20)\n",
    "unique_enough.nlargest(5,\"diff_O\")"
   ]
  },
  {
   "cell_type": "markdown",
   "metadata": {},
   "source": [
    "# Analysis"
   ]
  },
  {
   "cell_type": "code",
   "execution_count": null,
   "metadata": {},
   "outputs": [],
   "source": [
    "with open ('data_26_07_w_corpus', 'rb') as fr:\n",
    "    df = pickle.load(fr)"
   ]
  },
  {
   "cell_type": "code",
   "execution_count": null,
   "metadata": {},
   "outputs": [],
   "source": [
    "df.columns[5:57]"
   ]
  },
  {
   "cell_type": "markdown",
   "metadata": {},
   "source": [
    "## Linear Regression"
   ]
  },
  {
   "cell_type": "code",
   "execution_count": null,
   "metadata": {},
   "outputs": [],
   "source": [
    "from sklearn import  linear_model\n",
    "from sklearn.linear_model import LinearRegression\n",
    "import statsmodels.api as sm\n",
    "from scipy import stats\n",
    "\n",
    "X = df.drop(columns=\"Animation\")\n",
    "X1 = X.iloc[:,5:57]\n",
    "y = df[\"good\"]\n",
    "\n",
    "X2 = sm.add_constant(X1)\n",
    "est = sm.OLS(y, X2)\n",
    "est2 = est.fit()\n",
    "print(est2.summary())\n",
    "\n",
    "\n",
    "#grammar and personality model:\n",
    "#0.087 adj r^2\n",
    "#-12794\n",
    "# 2.561e+04 aic\n",
    "# 2.570e+04 bic\n",
    "\n",
    "#grammar personality and genre:\n",
    "#0.109 adj r^2\n",
    "#-12559\n",
    "# 2.515e+04 aic\n",
    "# 2.530e+04 bic\n",
    "\n",
    "#full model with interactions \n",
    "#5 bis 57:\n",
    "#0.115 adj r^2\n",
    "#-12473\n",
    "# AIC:  2.505e+04\n",
    "# BIC:  2.547e+04"
   ]
  },
  {
   "cell_type": "code",
   "execution_count": null,
   "metadata": {},
   "outputs": [],
   "source": [
    "df.columns[5:12]"
   ]
  },
  {
   "cell_type": "code",
   "execution_count": null,
   "metadata": {},
   "outputs": [],
   "source": [
    "df.good.mean()"
   ]
  },
  {
   "cell_type": "code",
   "execution_count": null,
   "metadata": {},
   "outputs": [],
   "source": [
    "X = df.iloc[:,5:12]\n",
    "y = df[\"good\"]\n",
    "\n",
    "X2 = sm.add_constant(X)\n",
    "est = sm.OLS(y, X2)\n",
    "est2 = est.fit()\n",
    "print(est2.summary())"
   ]
  },
  {
   "cell_type": "markdown",
   "metadata": {},
   "source": [
    "### Ridge Classifier"
   ]
  },
  {
   "cell_type": "code",
   "execution_count": null,
   "metadata": {},
   "outputs": [],
   "source": [
    "X = df.iloc[:,5:]\n",
    "y = df[\"good\"]\n",
    "X_train, X_test, y_train, y_test = train_test_split(X, y, test_size=.25, random_state=123)"
   ]
  },
  {
   "cell_type": "code",
   "execution_count": null,
   "metadata": {},
   "outputs": [],
   "source": [
    "from sklearn.linear_model import RidgeClassifierCV\n",
    "\n",
    "clf = RidgeClassifierCV(alphas=[1e-7,1e-6,1e-5,1e-4,1e-3, 1e-2, 1e-1, 1]).fit(X_train, y_train)"
   ]
  },
  {
   "cell_type": "code",
   "execution_count": null,
   "metadata": {},
   "outputs": [],
   "source": [
    "clf.score(X_test, y_test) "
   ]
  },
  {
   "cell_type": "code",
   "execution_count": null,
   "metadata": {},
   "outputs": [],
   "source": [
    "clf.alpha_"
   ]
  },
  {
   "cell_type": "code",
   "execution_count": null,
   "metadata": {},
   "outputs": [],
   "source": [
    "d= {\"Variable\" : list(df.columns[5:]),\"Coefficients\":list(clf.coef_[0])}\n",
    "results=pd.DataFrame(data=d)\n",
    "results[1:]"
   ]
  },
  {
   "cell_type": "code",
   "execution_count": null,
   "metadata": {},
   "outputs": [],
   "source": [
    "log = LogisticRegression(solver='liblinear')#regularization is applied by default\n",
    "log.fit(X_train, y_train)\n",
    "accuracy=log.score(X_test,y_test)"
   ]
  },
  {
   "cell_type": "code",
   "execution_count": null,
   "metadata": {},
   "outputs": [],
   "source": [
    "accuracy"
   ]
  },
  {
   "cell_type": "markdown",
   "metadata": {},
   "source": [
    "# Neural Nets"
   ]
  },
  {
   "cell_type": "code",
   "execution_count": null,
   "metadata": {},
   "outputs": [],
   "source": [
    "from sklearn.neural_network import MLPClassifier"
   ]
  },
  {
   "cell_type": "code",
   "execution_count": null,
   "metadata": {},
   "outputs": [],
   "source": [
    "X = df.iloc[:,5:]\n",
    "y = df[\"good\"]\n",
    "mlp = MLPClassifier(alpha=0.9,random_state=123)\n",
    "mlp.fit(X_train, y_train)\n",
    "score = mlp.score(X_test, y_test)\n",
    "score"
   ]
  },
  {
   "cell_type": "markdown",
   "metadata": {},
   "source": [
    "# Comparison with other methods"
   ]
  },
  {
   "cell_type": "markdown",
   "metadata": {},
   "source": [
    "## VADER"
   ]
  },
  {
   "cell_type": "code",
   "execution_count": null,
   "metadata": {},
   "outputs": [],
   "source": [
    "from vaderSentiment.vaderSentiment import SentimentIntensityAnalyzer\n",
    "\n",
    "analyser = SentimentIntensityAnalyzer()"
   ]
  },
  {
   "cell_type": "code",
   "execution_count": null,
   "metadata": {
    "scrolled": true
   },
   "outputs": [],
   "source": [
    "df[\"sentiment\"]=df[\"reviewText\"].map(lambda x :analyser.polarity_scores(x)[\"compound\"])"
   ]
  },
  {
   "cell_type": "code",
   "execution_count": null,
   "metadata": {},
   "outputs": [],
   "source": [
    "df[\"sentiment_binary\"]=df[\"sentiment\"]>0"
   ]
  },
  {
   "cell_type": "code",
   "execution_count": null,
   "metadata": {},
   "outputs": [],
   "source": [
    "pd.crosstab(df[\"sentiment_binary\"],df[\"good\"])"
   ]
  },
  {
   "cell_type": "code",
   "execution_count": null,
   "metadata": {},
   "outputs": [],
   "source": [
    "from sklearn.metrics import confusion_matrix\n",
    "confusion_matrix(df[\"sentiment_binary\"],df[\"good\"])"
   ]
  },
  {
   "cell_type": "code",
   "execution_count": null,
   "metadata": {},
   "outputs": [],
   "source": [
    "from sklearn.metrics import accuracy_score\n",
    "accuracy_score(df[\"sentiment_binary\"],df[\"good\"])"
   ]
  },
  {
   "cell_type": "code",
   "execution_count": null,
   "metadata": {},
   "outputs": [],
   "source": [
    "het=pd.plotting.scatter_matrix(df[big5], c=df[\"overall\"], figsize=(15, 15), marker='o',\n",
    "                                 hist_kwds={'bins': 70}, s=60, alpha=.5)\n"
   ]
  },
  {
   "cell_type": "markdown",
   "metadata": {},
   "source": [
    "### Creating User-Relative features "
   ]
  },
  {
   "cell_type": "code",
   "execution_count": null,
   "metadata": {},
   "outputs": [],
   "source": [
    "df_m_index=df_m.reset_index()\n",
    "df_h_index=df_h.reset_index()\n",
    "df_a_index=df_a.reset_index()"
   ]
  },
  {
   "cell_type": "code",
   "execution_count": null,
   "metadata": {},
   "outputs": [],
   "source": [
    "users_mean_df_m=df_m.groupby([\"reviewerID\"],as_index=False).mean()\n",
    "users_mean_df_m.shape"
   ]
  },
  {
   "cell_type": "code",
   "execution_count": null,
   "metadata": {},
   "outputs": [],
   "source": [
    "users_mean_df_h=df_h.groupby([\"reviewerID\"],as_index=False).mean()\n",
    "users_mean_df_a=df_a.groupby([\"reviewerID\"],as_index=False).mean()\n",
    "users_mean_df_h.shape,users_mean_df_a.shape"
   ]
  },
  {
   "cell_type": "code",
   "execution_count": null,
   "metadata": {},
   "outputs": [],
   "source": [
    "columns = big5\n",
    "for column in columns:\n",
    "        df_m_index[column+\"_dm\"]=df_m_index[\"good\"]\n",
    "        for user in unique_reviewer_IDs_m:\n",
    "            indices = df_m_index.index[df_m_index['reviewerID'] == user].tolist()\n",
    "            for index in indices:\n",
    "                df_m_index.iloc[[index],df_m_index.columns.get_loc(column+\"_dm\")]=df_m_index.iloc[[index],df_m_index.columns.get_loc(column)]-(list(users_mean_df_m[users_mean_df_m[\"reviewerID\"] == user][column])[0])"
   ]
  },
  {
   "cell_type": "code",
   "execution_count": null,
   "metadata": {},
   "outputs": [],
   "source": [
    "for column in columns:\n",
    "    df_h_index[column+\"_dm\"]=df_m_index[\"good\"]\n",
    "    for user in unique_reviewer_IDs_h:\n",
    "        indices = df_h_index.index[df_h_index['reviewerID'] == user].tolist()\n",
    "        for index in indices:\n",
    "            df_h_index.iloc[[index],df_h_index.columns.get_loc(column+\"_dm\")]=df_h_index.iloc[[index],df_h_index.columns.get_loc(column)]-(list(users_mean_df_h[users_mean_df_h[\"reviewerID\"] == user][column])[0])\n",
    "                \n",
    "for column in columns:\n",
    "    df_a_index[column+\"_dm\"]=df_m_index[\"good\"]\n",
    "    for user in unique_reviewer_IDs_a:\n",
    "        indices = df_a_index.index[df_a_index['reviewerID'] == user].tolist()\n",
    "        for index in indices:\n",
    "            df_a_index.iloc[[index],df_a_index.columns.get_loc(column+\"_dm\")]=df_a_index.iloc[[index],df_a_index.columns.get_loc(column)]-(list(users_mean_df_a[users_mean_df_a[\"reviewerID\"] == user][column])[0])"
   ]
  },
  {
   "cell_type": "code",
   "execution_count": null,
   "metadata": {
    "scrolled": true
   },
   "outputs": [],
   "source": [
    "# Creating relative frequencies regarding each person\n",
    "# by Substraction through personal mean\n",
    "word_types=[\"noun\", \"adj\", \"verb (simple)\",\"verb (simple past)\", \"verb (past participle)\", \"verb (gerund)\", \"adverb\", \"preposition\"]\n",
    "punc_marks = [\"!\",\"?\",\",\",\".\",\" \"]\n",
    "columns= word_types+punc_marks\n",
    "columns= columns+[\"length\"]\n",
    "df_index = [df_m_index,df_h_index,df_a_index]\n",
    "df_mean = [users_mean_df_m, users_mean_df_h, users_mean_df_a]\n",
    "unique_reviewer_IDs = [unique_reviewer_IDs_m,unique_reviewer_IDs_h,unique_reviewer_IDs_a]"
   ]
  },
  {
   "cell_type": "code",
   "execution_count": null,
   "metadata": {},
   "outputs": [],
   "source": [
    "for i in range(3):\n",
    "    for column in columns:\n",
    "        df_index[i][column+\"_rel_sub\"]=df_index[i][\"good\"]\n",
    "        for user in unique_reviewer_IDs[i]:\n",
    "            indices = df_index[i].index[df_index[i]['reviewerID'] == user].tolist()\n",
    "            for index in indices:\n",
    "                df_index[i].iloc[[index],df_index[i].columns.get_loc(column+\"_rel_sub\")]=df_index[i].iloc[[index],df_index[i].columns.get_loc(column)]-(list(df_mean[i][df_mean[i][\"reviewerID\"] == user][column])[0])"
   ]
  },
  {
   "cell_type": "markdown",
   "metadata": {},
   "source": [
    "# Comparison with Bag-of-Words"
   ]
  },
  {
   "cell_type": "code",
   "execution_count": null,
   "metadata": {},
   "outputs": [],
   "source": [
    "with open ('genre_personality_24_07_P', 'rb') as fr:\n",
    "    df = pickle.load(fr)"
   ]
  },
  {
   "cell_type": "code",
   "execution_count": null,
   "metadata": {},
   "outputs": [],
   "source": [
    "df.head(2)"
   ]
  },
  {
   "cell_type": "code",
   "execution_count": null,
   "metadata": {},
   "outputs": [],
   "source": [
    "df[\"corpus\"] = df['reviewText'].map(lambda x: re.sub('[^a-zA-Z]', ' ', x))\n",
    "#Making everything lowercase\n",
    "df[\"corpus\"] = df[\"corpus\"].map(lambda x: x.lower())\n",
    "#splitting the sentence into words\n",
    "df[\"corpus\"] = df[\"corpus\"].map(lambda x: x.split())\n",
    "ps = PorterStemmer()\n",
    "# delete stop words and stemming the remaining words\n",
    "df[\"corpus\"] = df[\"corpus\"].map(lambda x:[ps.stem(word) for word in x if not word in set(stopwords.words('english'))])\n",
    "df[\"corpus\"] = df[\"corpus\"].map(lambda x: ' '.join(x))"
   ]
  },
  {
   "cell_type": "code",
   "execution_count": null,
   "metadata": {},
   "outputs": [],
   "source": [
    "#with open ('data_26_07_w_corpus', 'wb') as fw:\n",
    "#    pickle.dump(df, fw)"
   ]
  },
  {
   "cell_type": "code",
   "execution_count": null,
   "metadata": {},
   "outputs": [],
   "source": [
    "with open ('data_26_07_w_corpus', 'rb') as fr:\n",
    "    df = pickle.load(fr)"
   ]
  },
  {
   "cell_type": "code",
   "execution_count": null,
   "metadata": {},
   "outputs": [],
   "source": [
    "median_O = df.loc[:,\"Open\"].median()\n",
    "median_N = df.loc[:,\"Neuro\"].median()\n",
    "median_A = df.loc[:,\"Agree\"].median()\n",
    "\n",
    "# dataframe with high openness\n",
    "df_H_O = df[df.Open >= median_O]\n",
    "# df with low openness\n",
    "df_L_O = df[df.Open < median_O]\n",
    "# dataframe with high openness\n",
    "df_H_N = df[df.Neuro >= median_N]\n",
    "# df with low openness\n",
    "df_L_N = df[df.Neuro < median_N]\n",
    "\n",
    "# dataframe with high Agreeableness\n",
    "df_H_A = df[df.Agree >= median_A]\n",
    "# df with low Agreeableness\n",
    "df_L_A = df[df.Agree < median_A]"
   ]
  },
  {
   "cell_type": "code",
   "execution_count": null,
   "metadata": {},
   "outputs": [],
   "source": [
    "median_A, median_N, median_O"
   ]
  },
  {
   "cell_type": "code",
   "execution_count": null,
   "metadata": {},
   "outputs": [],
   "source": [
    "import math\n",
    "# df with random split\n",
    "# reshuffle first\n",
    "df = df.sample(frac=1).reset_index(drop=True)\n",
    "half = math.ceil(len(df)/2)\n",
    "df1 = df.iloc[:half,:]\n",
    "df2 = df.iloc[half:,]"
   ]
  },
  {
   "cell_type": "code",
   "execution_count": null,
   "metadata": {},
   "outputs": [],
   "source": [
    "dataframes = [df1,df2,df_H_O,df_L_O,df_H_N,df_L_N,df_H_A,df_L_A]\n",
    "dataframes_names = [\"df1\",\"df2\",\"df_H_O\",\"df_L_O\",\"df_H_N\",\"df_L_N\",\"df_H_A\",\"df_L_A\"]\n",
    "for dfx, name in zip(dataframes,dataframes_names):\n",
    "    print (name, dfx.shape)"
   ]
  },
  {
   "cell_type": "code",
   "execution_count": null,
   "metadata": {},
   "outputs": [],
   "source": [
    "from sklearn.feature_extraction.text import CountVectorizer\n",
    "from sklearn.linear_model import LogisticRegression"
   ]
  },
  {
   "cell_type": "markdown",
   "metadata": {},
   "source": [
    "# RELEVANT PART"
   ]
  },
  {
   "cell_type": "code",
   "execution_count": null,
   "metadata": {},
   "outputs": [],
   "source": [
    "# df1 and df2 are random splits and df_H_O means High Openness, \n",
    "# df_L_O means low opennes etc, I split my median\n",
    "dataframes = [df1,df2,df_H_O,df_L_O,df_H_N,df_L_N,df_H_A,df_L_A]\n",
    "dataframes_names = [\"df1\",\"df2\",\"df_H_O\",\"df_L_O\",\"df_H_N\",\"df_L_N\",\"df_H_A\",\"df_L_A\"]"
   ]
  },
  {
   "cell_type": "code",
   "execution_count": null,
   "metadata": {},
   "outputs": [],
   "source": [
    "for dfx, name in zip(dataframes,dataframes_names):\n",
    "    cv = CountVectorizer(max_features = 500, ngram_range=(1,2))\n",
    "    XX = cv.fit_transform(dfx[\"corpus\"]).toarray()\n",
    "    # using relative word counts instead of absolute ones\n",
    "    tfidf_transformer = TfidfTransformer()\n",
    "    tfidf = tfidf_transformer.fit_transform(XX).toarray()\n",
    "    X = tfidf\n",
    "    y=dfx[\"good\"]\n",
    "    acc=[]\n",
    "    for seed in range(30):\n",
    "        X_train, X_test, y_train, y_test = train_test_split(X, y, test_size = 0.25, random_state = seed)\n",
    "        log = LogisticRegression(solver='liblinear')#regularization is applied by default\n",
    "        log.fit(X_train, y_train)\n",
    "        accuracy=log.score(X_test,y_test)\n",
    "        acc.append(accuracy)\n",
    "    print(name,\" \",sum(acc)/len(acc), len(dfx))"
   ]
  },
  {
   "cell_type": "markdown",
   "metadata": {},
   "source": [
    "# END"
   ]
  },
  {
   "cell_type": "code",
   "execution_count": null,
   "metadata": {},
   "outputs": [],
   "source": [
    "from sklearn.linear_model import RidgeClassifierCV\n",
    "#X = df.iloc[:,5:]\n",
    "#y = df[\"good\"]\n",
    "clf = RidgeClassifierCV(alphas=[1e-7,1e-6,1e-5,1e-4,1e-3, 1e-2, 1e-1, 1]).fit(X_train, y_train)\n",
    "clf.score(X_test, y_test) "
   ]
  },
  {
   "cell_type": "code",
   "execution_count": null,
   "metadata": {},
   "outputs": [],
   "source": [
    "from sklearn.neural_network import MLPClassifier"
   ]
  },
  {
   "cell_type": "code",
   "execution_count": null,
   "metadata": {},
   "outputs": [],
   "source": [
    "#X = df.iloc[:,5:]\n",
    "#y = df[\"good\"]\n",
    "mlp = MLPClassifier(alpha=0.9,random_state=123)\n",
    "mlp.fit(X_train, y_train)\n",
    "score = mlp.score(X_test, y_test)\n",
    "score"
   ]
  },
  {
   "cell_type": "code",
   "execution_count": null,
   "metadata": {},
   "outputs": [],
   "source": []
  }
 ],
 "metadata": {
  "kernelspec": {
   "display_name": "Python 3",
   "language": "python",
   "name": "python3"
  },
  "language_info": {
   "codemirror_mode": {
    "name": "ipython",
    "version": 3
   },
   "file_extension": ".py",
   "mimetype": "text/x-python",
   "name": "python",
   "nbconvert_exporter": "python",
   "pygments_lexer": "ipython3",
   "version": "3.7.3"
  }
 },
 "nbformat": 4,
 "nbformat_minor": 2
}
