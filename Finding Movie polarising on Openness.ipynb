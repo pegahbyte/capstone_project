{
 "cells": [
  {
   "cell_type": "code",
   "execution_count": 2,
   "metadata": {},
   "outputs": [],
   "source": [
    "import pandas as pd\n",
    "import os as os\n",
    "import json as js\n",
    "import gzip\n",
    "import numpy as np\n",
    "import matplotlib.pyplot as plt\n",
    "import pickle\n",
    "\n",
    "#Text Classification Material\n",
    "\n",
    "from sklearn.feature_extraction.text import CountVectorizer\n",
    "from sklearn.feature_extraction.text import TfidfTransformer\n",
    "from sklearn.pipeline import Pipeline"
   ]
  },
  {
   "cell_type": "markdown",
   "metadata": {},
   "source": [
    "### Original dataset too large to upload \n",
    "Skip to \"Start Analysis from here\" for running the analysis on pre-processed and pickled subset"
   ]
  },
  {
   "cell_type": "code",
   "execution_count": 2,
   "metadata": {},
   "outputs": [
    {
     "data": {
      "text/plain": [
       "'C:\\\\Users\\\\MAHAM\\\\Desktop\\\\Studium\\\\Capstone Project\\\\master__thesis'"
      ]
     },
     "execution_count": 2,
     "metadata": {},
     "output_type": "execute_result"
    }
   ],
   "source": [
    "os.chdir(\"C:/Users/MAHAM/Desktop/Studium/Capstone Project/master__thesis\")\n",
    "os.getcwd()"
   ]
  },
  {
   "cell_type": "code",
   "execution_count": 13,
   "metadata": {},
   "outputs": [],
   "source": [
    "with open ('movies_data', 'rb') as fr:\n",
    "    movies = pickle.load(fr)"
   ]
  },
  {
   "cell_type": "code",
   "execution_count": 14,
   "metadata": {},
   "outputs": [
    {
     "data": {
      "text/plain": [
       "(1697533, 9)"
      ]
     },
     "execution_count": 14,
     "metadata": {},
     "output_type": "execute_result"
    }
   ],
   "source": [
    "movies.shape"
   ]
  },
  {
   "cell_type": "code",
   "execution_count": 15,
   "metadata": {},
   "outputs": [
    {
     "data": {
      "text/plain": [
       "Index(['reviewerID', 'asin', 'reviewerName', 'helpful', 'reviewText',\n",
       "       'overall', 'summary', 'unixReviewTime', 'reviewTime'],\n",
       "      dtype='object')"
      ]
     },
     "execution_count": 15,
     "metadata": {},
     "output_type": "execute_result"
    }
   ],
   "source": [
    "movies.columns"
   ]
  },
  {
   "cell_type": "markdown",
   "metadata": {},
   "source": [
    "#### Select 1000 random movies"
   ]
  },
  {
   "cell_type": "code",
   "execution_count": 19,
   "metadata": {},
   "outputs": [
    {
     "data": {
      "text/plain": [
       "['6304771088',\n",
       " 'B0007R4TQM',\n",
       " 'B0012Z363A',\n",
       " 'B001993YB8',\n",
       " 'B00005OW00',\n",
       " 'B000AYELC4',\n",
       " 'B0009S4J1E',\n",
       " 'B003ZXNCA4',\n",
       " '079283755X',\n",
       " 'B00006ADES']"
      ]
     },
     "execution_count": 19,
     "metadata": {},
     "output_type": "execute_result"
    }
   ],
   "source": [
    "import random\n",
    "random.seed(\"Capstone\")\n",
    "movies_id = list(set(movies[\"asin\"]))\n",
    "movies_1000 = random.sample(movies_id, 1000)\n",
    "movies_1000[:10]"
   ]
  },
  {
   "cell_type": "code",
   "execution_count": 24,
   "metadata": {},
   "outputs": [],
   "source": [
    "movies_sdf2=[movies.iloc[i] for i in range(len(movies)) if movies.iloc[i][1] in movies_1000]\n",
    "movies_sdf2=pd.DataFrame(movies_sdf2)"
   ]
  },
  {
   "cell_type": "code",
   "execution_count": 25,
   "metadata": {},
   "outputs": [],
   "source": [
    "# Pickle\n",
    "with open ('movies_sdf2', 'wb') as fw:\n",
    "    pickle.dump(movies_sdf2, fw)"
   ]
  },
  {
   "cell_type": "code",
   "execution_count": 3,
   "metadata": {},
   "outputs": [],
   "source": [
    "# Unpickle\n",
    "with open ('movies_sdf2', 'rb') as fr:\n",
    "    movies_sdf2 = pickle.load(fr)"
   ]
  },
  {
   "cell_type": "code",
   "execution_count": 4,
   "metadata": {},
   "outputs": [
    {
     "data": {
      "text/plain": [
       "Index(['reviewerID', 'asin', 'reviewerName', 'helpful', 'reviewText',\n",
       "       'overall', 'summary', 'unixReviewTime', 'reviewTime'],\n",
       "      dtype='object')"
      ]
     },
     "execution_count": 4,
     "metadata": {},
     "output_type": "execute_result"
    }
   ],
   "source": [
    "movies_sdf2.columns"
   ]
  },
  {
   "cell_type": "code",
   "execution_count": 5,
   "metadata": {},
   "outputs": [
    {
     "data": {
      "text/plain": [
       "(1000, 32991)"
      ]
     },
     "execution_count": 5,
     "metadata": {},
     "output_type": "execute_result"
    }
   ],
   "source": [
    "len(set(movies_sdf2.asin)), len((movies_sdf2.asin)) "
   ]
  },
  {
   "cell_type": "code",
   "execution_count": 33,
   "metadata": {},
   "outputs": [
    {
     "name": "stderr",
     "output_type": "stream",
     "text": [
      "[nltk_data] Downloading package stopwords to\n",
      "[nltk_data]     C:\\Users\\Pegah\\AppData\\Roaming\\nltk_data...\n",
      "[nltk_data]   Package stopwords is already up-to-date!\n"
     ]
    }
   ],
   "source": [
    "import csv\n",
    "import re\n",
    "import nltk\n",
    "nltk.download('stopwords')\n",
    "from nltk.corpus import stopwords\n",
    "from nltk.stem.porter import PorterStemmer\n",
    "from collections import Counter"
   ]
  },
  {
   "cell_type": "code",
   "execution_count": 34,
   "metadata": {},
   "outputs": [],
   "source": [
    "# Adding personality features (compare with data preparation file)\n",
    "dataframes = [movies_sdf2]\n",
    "letters = [\"E\", \"A\", \"N\", \"O\", \"C\"]\n",
    "big5 = [\"Extro\", \"Agree\", \"Neuro\", \"Open\", \"Consc\"]\n",
    "for df in dataframes:\n",
    "    for column in big5:\n",
    "        df[column]=df[\"overall\"]\n",
    "    for j,letter in enumerate(letters):\n",
    "        reader = csv.reader(open('%s.top100.1to3grams.gender_age_controlled.rmatrix.csv'%(letter), 'r'))\n",
    "        dic = {}\n",
    "        for row in reader:\n",
    "            k, v, z= row\n",
    "            dic[k] = v\n",
    "        dic.pop(\"\")\n",
    "        for i in range(len(df)):\n",
    "            text = df.iloc[i, df.columns.get_loc(\"reviewText\")]\n",
    "            tokens = nltk.word_tokenize(text.lower())\n",
    "            text = nltk.Text(tokens)\n",
    "            word_value = 0\n",
    "            for word, value in dic.items():\n",
    "                counter = text.count(word)\n",
    "                word_value = word_value+(counter*float(value))\n",
    "            #current_length = len(df.columns)\n",
    "            personality_number = word_value#/((df.iloc[i,df.columns.get_loc(\"length\")])+0.0001)\n",
    "            df.iloc[i, df.columns.get_loc(big5[j])] = personality_number"
   ]
  },
  {
   "cell_type": "code",
   "execution_count": 6,
   "metadata": {},
   "outputs": [],
   "source": [
    "# Pickle\n",
    "movies_2 = movies_sdf2\n",
    "with open ('movies_2', 'wb') as fw:\n",
    "    pickle.dump(movies_2, fw)"
   ]
  },
  {
   "cell_type": "markdown",
   "metadata": {},
   "source": [
    "## Start Analysis from here"
   ]
  },
  {
   "cell_type": "code",
   "execution_count": 8,
   "metadata": {},
   "outputs": [],
   "source": [
    "# Unpickle\n",
    "with open ('movies_2', 'rb') as fr:\n",
    "    movies_2 = pickle.load(fr)"
   ]
  },
  {
   "cell_type": "code",
   "execution_count": 9,
   "metadata": {},
   "outputs": [
    {
     "data": {
      "text/plain": [
       "<matplotlib.axes._subplots.AxesSubplot at 0x25691a51fd0>"
      ]
     },
     "execution_count": 9,
     "metadata": {},
     "output_type": "execute_result"
    },
    {
     "data": {
      "image/png": "[encoded data removed]",
      "text/plain": [
       "<Figure size 432x288 with 1 Axes>"
      ]
     },
     "metadata": {
      "needs_background": "light"
     },
     "output_type": "display_data"
    }
   ],
   "source": [
    "median_O = movies_2.loc[:,\"Open\"].median()\n",
    "median_N = movies_2.loc[:,\"Neuro\"].median()\n",
    "movies_2.loc[:,\"Open\"].plot(\"kde\")"
   ]
  },
  {
   "cell_type": "code",
   "execution_count": 10,
   "metadata": {},
   "outputs": [
    {
     "data": {
      "image/png": "[encoded data removed]",
      "text/plain": [
       "<Figure size 432x288 with 1 Axes>"
      ]
     },
     "metadata": {
      "needs_background": "light"
     },
     "output_type": "display_data"
    }
   ],
   "source": [
    "movies_2.loc[:,\"Neuro\"].plot(\"kde\");"
   ]
  },
  {
   "cell_type": "code",
   "execution_count": 27,
   "metadata": {},
   "outputs": [
    {
     "data": {
      "text/plain": [
       "-0.173409051188685"
      ]
     },
     "execution_count": 27,
     "metadata": {},
     "output_type": "execute_result"
    }
   ],
   "source": [
    "unique_movies= movies_2.groupby([\"asin\"],as_index=False).mean()\n",
    "unique_movies[\"overall\"].corr(unique_movies[\"Open\"])\n",
    "#unique_movies.shape"
   ]
  },
  {
   "cell_type": "code",
   "execution_count": 15,
   "metadata": {},
   "outputs": [
    {
     "data": {
      "text/html": [
       "<div>\n",
       "<style scoped>\n",
       "    .dataframe tbody tr th:only-of-type {\n",
       "        vertical-align: middle;\n",
       "    }\n",
       "\n",
       "    .dataframe tbody tr th {\n",
       "        vertical-align: top;\n",
       "    }\n",
       "\n",
       "    .dataframe thead th {\n",
       "        text-align: right;\n",
       "    }\n",
       "</style>\n",
       "<table border=\"1\" class=\"dataframe\">\n",
       "  <thead>\n",
       "    <tr style=\"text-align: right;\">\n",
       "      <th></th>\n",
       "      <th>level_0</th>\n",
       "      <th>index</th>\n",
       "      <th>reviewerID</th>\n",
       "      <th>asin</th>\n",
       "      <th>reviewerName</th>\n",
       "      <th>helpful</th>\n",
       "      <th>reviewText</th>\n",
       "      <th>overall</th>\n",
       "      <th>summary</th>\n",
       "      <th>unixReviewTime</th>\n",
       "      <th>reviewTime</th>\n",
       "      <th>Extro</th>\n",
       "      <th>Agree</th>\n",
       "      <th>Neuro</th>\n",
       "      <th>Open</th>\n",
       "      <th>Consc</th>\n",
       "      <th>high_O</th>\n",
       "      <th>high_N</th>\n",
       "    </tr>\n",
       "  </thead>\n",
       "  <tbody>\n",
       "    <tr>\n",
       "      <th>0</th>\n",
       "      <td>0</td>\n",
       "      <td>109</td>\n",
       "      <td>AJSYTZQVJJOYW</td>\n",
       "      <td>0005119367</td>\n",
       "      <td>A. Abela</td>\n",
       "      <td>[1, 1]</td>\n",
       "      <td>A truly wonderfully made film, mostly accurate...</td>\n",
       "      <td>4.0</td>\n",
       "      <td>Wonderful!!!</td>\n",
       "      <td>1152144000</td>\n",
       "      <td>07 6, 2006</td>\n",
       "      <td>-0.118680</td>\n",
       "      <td>0.000000</td>\n",
       "      <td>0.0</td>\n",
       "      <td>0.245088</td>\n",
       "      <td>-0.042668</td>\n",
       "      <td>0</td>\n",
       "      <td>1</td>\n",
       "    </tr>\n",
       "    <tr>\n",
       "      <th>1</th>\n",
       "      <td>1</td>\n",
       "      <td>110</td>\n",
       "      <td>A1QNGKV688Q8TE</td>\n",
       "      <td>0005119367</td>\n",
       "      <td>Aaron D. Koehler</td>\n",
       "      <td>[1, 1]</td>\n",
       "      <td>Joseph is amazing story to read and watch.  A ...</td>\n",
       "      <td>5.0</td>\n",
       "      <td>Joseph</td>\n",
       "      <td>1272672000</td>\n",
       "      <td>05 1, 2010</td>\n",
       "      <td>-0.104591</td>\n",
       "      <td>0.056682</td>\n",
       "      <td>0.0</td>\n",
       "      <td>0.413850</td>\n",
       "      <td>0.000000</td>\n",
       "      <td>0</td>\n",
       "      <td>1</td>\n",
       "    </tr>\n",
       "  </tbody>\n",
       "</table>\n",
       "</div>"
      ],
      "text/plain": [
       "   level_0  index      reviewerID        asin      reviewerName helpful  \\\n",
       "0        0    109   AJSYTZQVJJOYW  0005119367          A. Abela  [1, 1]   \n",
       "1        1    110  A1QNGKV688Q8TE  0005119367  Aaron D. Koehler  [1, 1]   \n",
       "\n",
       "                                          reviewText  overall       summary  \\\n",
       "0  A truly wonderfully made film, mostly accurate...      4.0  Wonderful!!!   \n",
       "1  Joseph is amazing story to read and watch.  A ...      5.0        Joseph   \n",
       "\n",
       "   unixReviewTime  reviewTime     Extro     Agree  Neuro      Open     Consc  \\\n",
       "0      1152144000  07 6, 2006 -0.118680  0.000000    0.0  0.245088 -0.042668   \n",
       "1      1272672000  05 1, 2010 -0.104591  0.056682    0.0  0.413850  0.000000   \n",
       "\n",
       "   high_O  high_N  \n",
       "0       0       1  \n",
       "1       0       1  "
      ]
     },
     "execution_count": 15,
     "metadata": {},
     "output_type": "execute_result"
    }
   ],
   "source": [
    "movies_2=movies_2.reset_index()\n",
    "movies_2.head(2)"
   ]
  },
  {
   "cell_type": "markdown",
   "metadata": {},
   "source": [
    "### Create additional dummy variable for above median openness"
   ]
  },
  {
   "cell_type": "code",
   "execution_count": 26,
   "metadata": {},
   "outputs": [],
   "source": [
    "movies_2[\"high_O\"] = [1 if movies_2.loc[i, \"Open\"]>=median_O else 0 for i in range(len(movies_2))]"
   ]
  },
  {
   "cell_type": "code",
   "execution_count": 17,
   "metadata": {},
   "outputs": [
    {
     "data": {
      "text/plain": [
       "1000"
      ]
     },
     "execution_count": 17,
     "metadata": {},
     "output_type": "execute_result"
    }
   ],
   "source": [
    "len(unique_movies)"
   ]
  },
  {
   "cell_type": "markdown",
   "metadata": {},
   "source": [
    "### Add variables for the number and average values of ratings for above and below median openness"
   ]
  },
  {
   "cell_type": "code",
   "execution_count": 23,
   "metadata": {},
   "outputs": [
    {
     "data": {
      "text/plain": [
       "['630284357X',\n",
       " 'B00006LPG9',\n",
       " 'B0003JAOPO',\n",
       " 'B001R0AYI0',\n",
       " 'B002WY65V0',\n",
       " '6302725798',\n",
       " '6304331908',\n",
       " 'B000XUF6MY',\n",
       " '6303093493',\n",
       " 'B00006JDSW']"
      ]
     },
     "execution_count": 23,
     "metadata": {},
     "output_type": "execute_result"
    }
   ],
   "source": [
    "movies_1000 = list(set(movies_2.asin))\n",
    "movies_1000[:10]"
   ]
  },
  {
   "cell_type": "code",
   "execution_count": 28,
   "metadata": {},
   "outputs": [
    {
     "data": {
      "text/html": [
       "<div>\n",
       "<style scoped>\n",
       "    .dataframe tbody tr th:only-of-type {\n",
       "        vertical-align: middle;\n",
       "    }\n",
       "\n",
       "    .dataframe tbody tr th {\n",
       "        vertical-align: top;\n",
       "    }\n",
       "\n",
       "    .dataframe thead th {\n",
       "        text-align: right;\n",
       "    }\n",
       "</style>\n",
       "<table border=\"1\" class=\"dataframe\">\n",
       "  <thead>\n",
       "    <tr style=\"text-align: right;\">\n",
       "      <th></th>\n",
       "      <th>Movie Title</th>\n",
       "      <th>Rating_H_O</th>\n",
       "      <th>Rating_L_O</th>\n",
       "      <th>Number_H_O</th>\n",
       "      <th>Number_L_O</th>\n",
       "    </tr>\n",
       "  </thead>\n",
       "  <tbody>\n",
       "    <tr>\n",
       "      <th>0</th>\n",
       "      <td>630284357X</td>\n",
       "      <td>NaN</td>\n",
       "      <td>NaN</td>\n",
       "      <td>NaN</td>\n",
       "      <td>NaN</td>\n",
       "    </tr>\n",
       "    <tr>\n",
       "      <th>1</th>\n",
       "      <td>B00006LPG9</td>\n",
       "      <td>NaN</td>\n",
       "      <td>NaN</td>\n",
       "      <td>NaN</td>\n",
       "      <td>NaN</td>\n",
       "    </tr>\n",
       "    <tr>\n",
       "      <th>2</th>\n",
       "      <td>B0003JAOPO</td>\n",
       "      <td>NaN</td>\n",
       "      <td>NaN</td>\n",
       "      <td>NaN</td>\n",
       "      <td>NaN</td>\n",
       "    </tr>\n",
       "    <tr>\n",
       "      <th>3</th>\n",
       "      <td>B001R0AYI0</td>\n",
       "      <td>NaN</td>\n",
       "      <td>NaN</td>\n",
       "      <td>NaN</td>\n",
       "      <td>NaN</td>\n",
       "    </tr>\n",
       "    <tr>\n",
       "      <th>4</th>\n",
       "      <td>B002WY65V0</td>\n",
       "      <td>NaN</td>\n",
       "      <td>NaN</td>\n",
       "      <td>NaN</td>\n",
       "      <td>NaN</td>\n",
       "    </tr>\n",
       "  </tbody>\n",
       "</table>\n",
       "</div>"
      ],
      "text/plain": [
       "  Movie Title Rating_H_O Rating_L_O Number_H_O Number_L_O\n",
       "0  630284357X        NaN        NaN        NaN        NaN\n",
       "1  B00006LPG9        NaN        NaN        NaN        NaN\n",
       "2  B0003JAOPO        NaN        NaN        NaN        NaN\n",
       "3  B001R0AYI0        NaN        NaN        NaN        NaN\n",
       "4  B002WY65V0        NaN        NaN        NaN        NaN"
      ]
     },
     "execution_count": 28,
     "metadata": {},
     "output_type": "execute_result"
    }
   ],
   "source": [
    "d = {\"Movie Title\":movies_1000}\n",
    "columns=[\"Movie Title\",\n",
    "         \"Rating_H_O\",\"Rating_L_O\",\n",
    "         \"Number_H_O\",\"Number_L_O\"]\n",
    "unique = pd.DataFrame(data=d, index=range(1000),columns=columns)\n",
    "unique.head()"
   ]
  },
  {
   "cell_type": "code",
   "execution_count": 29,
   "metadata": {},
   "outputs": [
    {
     "data": {
      "text/html": [
       "<div>\n",
       "<style scoped>\n",
       "    .dataframe tbody tr th:only-of-type {\n",
       "        vertical-align: middle;\n",
       "    }\n",
       "\n",
       "    .dataframe tbody tr th {\n",
       "        vertical-align: top;\n",
       "    }\n",
       "\n",
       "    .dataframe thead th {\n",
       "        text-align: right;\n",
       "    }\n",
       "</style>\n",
       "<table border=\"1\" class=\"dataframe\">\n",
       "  <thead>\n",
       "    <tr style=\"text-align: right;\">\n",
       "      <th></th>\n",
       "      <th>Movie Title</th>\n",
       "      <th>Rating_H_O</th>\n",
       "      <th>Rating_L_O</th>\n",
       "      <th>Number_H_O</th>\n",
       "      <th>Number_L_O</th>\n",
       "    </tr>\n",
       "  </thead>\n",
       "  <tbody>\n",
       "    <tr>\n",
       "      <th>0</th>\n",
       "      <td>630284357X</td>\n",
       "      <td>NaN</td>\n",
       "      <td>NaN</td>\n",
       "      <td>NaN</td>\n",
       "      <td>NaN</td>\n",
       "    </tr>\n",
       "    <tr>\n",
       "      <th>1</th>\n",
       "      <td>B00006LPG9</td>\n",
       "      <td>NaN</td>\n",
       "      <td>NaN</td>\n",
       "      <td>NaN</td>\n",
       "      <td>NaN</td>\n",
       "    </tr>\n",
       "    <tr>\n",
       "      <th>2</th>\n",
       "      <td>B0003JAOPO</td>\n",
       "      <td>NaN</td>\n",
       "      <td>NaN</td>\n",
       "      <td>NaN</td>\n",
       "      <td>NaN</td>\n",
       "    </tr>\n",
       "    <tr>\n",
       "      <th>3</th>\n",
       "      <td>B001R0AYI0</td>\n",
       "      <td>NaN</td>\n",
       "      <td>NaN</td>\n",
       "      <td>NaN</td>\n",
       "      <td>NaN</td>\n",
       "    </tr>\n",
       "    <tr>\n",
       "      <th>4</th>\n",
       "      <td>B002WY65V0</td>\n",
       "      <td>NaN</td>\n",
       "      <td>NaN</td>\n",
       "      <td>NaN</td>\n",
       "      <td>NaN</td>\n",
       "    </tr>\n",
       "  </tbody>\n",
       "</table>\n",
       "</div>"
      ],
      "text/plain": [
       "  Movie Title Rating_H_O Rating_L_O Number_H_O Number_L_O\n",
       "0  630284357X        NaN        NaN        NaN        NaN\n",
       "1  B00006LPG9        NaN        NaN        NaN        NaN\n",
       "2  B0003JAOPO        NaN        NaN        NaN        NaN\n",
       "3  B001R0AYI0        NaN        NaN        NaN        NaN\n",
       "4  B002WY65V0        NaN        NaN        NaN        NaN"
      ]
     },
     "execution_count": 29,
     "metadata": {},
     "output_type": "execute_result"
    }
   ],
   "source": [
    "unique.head()"
   ]
  },
  {
   "cell_type": "code",
   "execution_count": 30,
   "metadata": {},
   "outputs": [],
   "source": [
    "# Add variables for the number and values of ratings for above and below median openness\n",
    "for title in movies_1000:\n",
    "    for letter in [\"O\"]:\n",
    "        unique.loc[unique[\"Movie Title\"]==title,\"Rating_H_\"+letter] = movies_2.loc[(movies_2.asin == title) & (movies_2[\"high_\"+letter]==1),\"overall\"].mean()\n",
    "        unique.loc[unique[\"Movie Title\"]==title,\"Rating_L_\"+letter] = movies_2.loc[(movies_2.asin == title) & (movies_2[\"high_\"+letter]==0),\"overall\"].mean()\n",
    "        unique.loc[unique[\"Movie Title\"]==title,\"Number_H_\"+letter] = movies_2[(movies_2[\"high_\"+letter] == 1) & (movies_2.asin == title)].count()[\"index\"]\n",
    "        unique.loc[unique[\"Movie Title\"]==title,\"Number_L_\"+letter] = movies_2[(movies_2[\"high_\"+letter] == 0) & (movies_2.asin == title)].count()[\"index\"]"
   ]
  },
  {
   "cell_type": "code",
   "execution_count": 31,
   "metadata": {},
   "outputs": [],
   "source": [
    "#Calculate the difference in rating\n",
    "for letter in [\"O\"]:\n",
    "    unique[\"diff_\"+letter]=unique[\"Rating_H_\"+letter]-unique[\"Rating_L_\"+letter]"
   ]
  },
  {
   "cell_type": "code",
   "execution_count": 33,
   "metadata": {},
   "outputs": [
    {
     "data": {
      "text/plain": [
       "float"
      ]
     },
     "execution_count": 33,
     "metadata": {},
     "output_type": "execute_result"
    }
   ],
   "source": [
    "type(unique.loc[1,\"Rating_H_O\"])"
   ]
  },
  {
   "cell_type": "code",
   "execution_count": 34,
   "metadata": {},
   "outputs": [
    {
     "data": {
      "text/plain": [
       "count     1000\n",
       "unique     101\n",
       "top          3\n",
       "freq       114\n",
       "Name: Number_L_O, dtype: int64"
      ]
     },
     "execution_count": 34,
     "metadata": {},
     "output_type": "execute_result"
    }
   ],
   "source": [
    "unique[\"Number_L_O\"].describe()"
   ]
  },
  {
   "cell_type": "markdown",
   "metadata": {},
   "source": [
    "### Select only those movies with at least 30 reviews from both groups and a difference of at least 0.5"
   ]
  },
  {
   "cell_type": "code",
   "execution_count": 45,
   "metadata": {},
   "outputs": [
    {
     "data": {
      "text/html": [
       "<div>\n",
       "<style scoped>\n",
       "    .dataframe tbody tr th:only-of-type {\n",
       "        vertical-align: middle;\n",
       "    }\n",
       "\n",
       "    .dataframe tbody tr th {\n",
       "        vertical-align: top;\n",
       "    }\n",
       "\n",
       "    .dataframe thead th {\n",
       "        text-align: right;\n",
       "    }\n",
       "</style>\n",
       "<table border=\"1\" class=\"dataframe\">\n",
       "  <thead>\n",
       "    <tr style=\"text-align: right;\">\n",
       "      <th></th>\n",
       "      <th>Movie Title</th>\n",
       "      <th>Rating_H_O</th>\n",
       "      <th>Rating_L_O</th>\n",
       "      <th>Number_H_O</th>\n",
       "      <th>Number_L_O</th>\n",
       "      <th>diff_O</th>\n",
       "    </tr>\n",
       "  </thead>\n",
       "  <tbody>\n",
       "    <tr>\n",
       "      <th>37</th>\n",
       "      <td>6304100507</td>\n",
       "      <td>3.97561</td>\n",
       "      <td>4.66176</td>\n",
       "      <td>41</td>\n",
       "      <td>68</td>\n",
       "      <td>-0.686155</td>\n",
       "    </tr>\n",
       "    <tr>\n",
       "      <th>149</th>\n",
       "      <td>B001PUTN3Y</td>\n",
       "      <td>3.725</td>\n",
       "      <td>4.36111</td>\n",
       "      <td>40</td>\n",
       "      <td>36</td>\n",
       "      <td>-0.636111</td>\n",
       "    </tr>\n",
       "    <tr>\n",
       "      <th>159</th>\n",
       "      <td>B00005JPFX</td>\n",
       "      <td>3.47917</td>\n",
       "      <td>4.26562</td>\n",
       "      <td>192</td>\n",
       "      <td>192</td>\n",
       "      <td>-0.786458</td>\n",
       "    </tr>\n",
       "    <tr>\n",
       "      <th>247</th>\n",
       "      <td>6305892806</td>\n",
       "      <td>3.63333</td>\n",
       "      <td>4.21642</td>\n",
       "      <td>120</td>\n",
       "      <td>134</td>\n",
       "      <td>-0.583085</td>\n",
       "    </tr>\n",
       "    <tr>\n",
       "      <th>471</th>\n",
       "      <td>B008JFUPPI</td>\n",
       "      <td>3.03419</td>\n",
       "      <td>3.59877</td>\n",
       "      <td>117</td>\n",
       "      <td>324</td>\n",
       "      <td>-0.564577</td>\n",
       "    </tr>\n",
       "    <tr>\n",
       "      <th>474</th>\n",
       "      <td>B00H9LHVHI</td>\n",
       "      <td>3.64151</td>\n",
       "      <td>4.26126</td>\n",
       "      <td>53</td>\n",
       "      <td>111</td>\n",
       "      <td>-0.619752</td>\n",
       "    </tr>\n",
       "    <tr>\n",
       "      <th>550</th>\n",
       "      <td>B00005QW5Y</td>\n",
       "      <td>3.4878</td>\n",
       "      <td>4.25532</td>\n",
       "      <td>82</td>\n",
       "      <td>47</td>\n",
       "      <td>-0.767514</td>\n",
       "    </tr>\n",
       "    <tr>\n",
       "      <th>600</th>\n",
       "      <td>6300216381</td>\n",
       "      <td>3.97143</td>\n",
       "      <td>4.66</td>\n",
       "      <td>35</td>\n",
       "      <td>50</td>\n",
       "      <td>-0.688571</td>\n",
       "    </tr>\n",
       "    <tr>\n",
       "      <th>662</th>\n",
       "      <td>B00005JPH2</td>\n",
       "      <td>3.73718</td>\n",
       "      <td>4.41406</td>\n",
       "      <td>156</td>\n",
       "      <td>128</td>\n",
       "      <td>-0.676883</td>\n",
       "    </tr>\n",
       "    <tr>\n",
       "      <th>721</th>\n",
       "      <td>B00003CXTL</td>\n",
       "      <td>2.76923</td>\n",
       "      <td>3.45238</td>\n",
       "      <td>52</td>\n",
       "      <td>42</td>\n",
       "      <td>-0.683150</td>\n",
       "    </tr>\n",
       "    <tr>\n",
       "      <th>834</th>\n",
       "      <td>0780621964</td>\n",
       "      <td>2.04762</td>\n",
       "      <td>3.02083</td>\n",
       "      <td>63</td>\n",
       "      <td>48</td>\n",
       "      <td>-0.973214</td>\n",
       "    </tr>\n",
       "    <tr>\n",
       "      <th>913</th>\n",
       "      <td>B007K3JCAE</td>\n",
       "      <td>3.71329</td>\n",
       "      <td>4.34459</td>\n",
       "      <td>143</td>\n",
       "      <td>444</td>\n",
       "      <td>-0.631308</td>\n",
       "    </tr>\n",
       "    <tr>\n",
       "      <th>915</th>\n",
       "      <td>6302206294</td>\n",
       "      <td>3.43651</td>\n",
       "      <td>4.33043</td>\n",
       "      <td>126</td>\n",
       "      <td>115</td>\n",
       "      <td>-0.893927</td>\n",
       "    </tr>\n",
       "  </tbody>\n",
       "</table>\n",
       "</div>"
      ],
      "text/plain": [
       "    Movie Title Rating_H_O Rating_L_O Number_H_O Number_L_O    diff_O\n",
       "37   6304100507    3.97561    4.66176         41         68 -0.686155\n",
       "149  B001PUTN3Y      3.725    4.36111         40         36 -0.636111\n",
       "159  B00005JPFX    3.47917    4.26562        192        192 -0.786458\n",
       "247  6305892806    3.63333    4.21642        120        134 -0.583085\n",
       "471  B008JFUPPI    3.03419    3.59877        117        324 -0.564577\n",
       "474  B00H9LHVHI    3.64151    4.26126         53        111 -0.619752\n",
       "550  B00005QW5Y     3.4878    4.25532         82         47 -0.767514\n",
       "600  6300216381    3.97143       4.66         35         50 -0.688571\n",
       "662  B00005JPH2    3.73718    4.41406        156        128 -0.676883\n",
       "721  B00003CXTL    2.76923    3.45238         52         42 -0.683150\n",
       "834  0780621964    2.04762    3.02083         63         48 -0.973214\n",
       "913  B007K3JCAE    3.71329    4.34459        143        444 -0.631308\n",
       "915  6302206294    3.43651    4.33043        126        115 -0.893927"
      ]
     },
     "execution_count": 45,
     "metadata": {},
     "output_type": "execute_result"
    }
   ],
   "source": [
    "# Returns a list with movies that fulfil the conditions.\n",
    "# The same can be done with a positive difference\n",
    "unique_enough = unique[(unique[\"Number_H_O\"]>30)&(unique[\"Number_L_O\"]>30)&(unique[\"diff_O\"]<-0.5)]\n",
    "unique_enough.head(20)"
   ]
  },
  {
   "cell_type": "markdown",
   "metadata": {},
   "source": [
    "## As we can see \"Mortal Kombat II\" (corresponding ASIN 0780621964) has a difference of almost -1 (third last row in table above).\n"
   ]
  }
 ],
 "metadata": {
  "kernelspec": {
   "display_name": "Python 3",
   "language": "python",
   "name": "python3"
  },
  "language_info": {
   "codemirror_mode": {
    "name": "ipython",
    "version": 3
   },
   "file_extension": ".py",
   "mimetype": "text/x-python",
   "name": "python",
   "nbconvert_exporter": "python",
   "pygments_lexer": "ipython3",
   "version": "3.7.3"
  }
 },
 "nbformat": 4,
 "nbformat_minor": 2
}
