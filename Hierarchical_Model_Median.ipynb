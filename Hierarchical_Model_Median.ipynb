{
 "cells": [
  {
   "cell_type": "markdown",
   "metadata": {},
   "source": [
    "# Navigation\n",
    "\n",
    "Splitting the dataset into above and below median for several personality traits and building BoW models seperately on each of them."
   ]
  },
  {
   "cell_type": "code",
   "execution_count": 16,
   "metadata": {},
   "outputs": [
    {
     "name": "stderr",
     "output_type": "stream",
     "text": [
      "[nltk_data] Downloading package stopwords to\n",
      "[nltk_data]     C:\\Users\\MAHAM\\AppData\\Roaming\\nltk_data...\n",
      "[nltk_data]   Package stopwords is already up-to-date!\n"
     ]
    }
   ],
   "source": [
    "import pandas as pd\n",
    "import os as os\n",
    "import json as js\n",
    "import gzip\n",
    "import numpy as np\n",
    "import matplotlib.pyplot as plt\n",
    "import pickle\n",
    "\n",
    "#importing libraries for NLP\n",
    "import re\n",
    "import nltk\n",
    "nltk.download('stopwords')\n",
    "from nltk.corpus import stopwords\n",
    "from nltk.stem.porter import PorterStemmer\n",
    "from collections import Counter\n",
    "\n",
    "#Text Classification Material\n",
    "from sklearn.feature_extraction.text import CountVectorizer\n",
    "from sklearn.linear_model import LogisticRegression\n",
    "from sklearn.feature_extraction.text import TfidfTransformer\n",
    "from sklearn.pipeline import Pipeline\n",
    "from sklearn.model_selection import train_test_split\n",
    "from sklearn.metrics import accuracy_score\n",
    "from sklearn.naive_bayes import GaussianNB\n",
    "from sklearn.naive_bayes import MultinomialNB\n",
    "from sklearn.naive_bayes import BernoulliNB\n",
    "from sklearn.metrics import confusion_matrix\n",
    "\n",
    "from sklearn import  linear_model\n",
    "from sklearn.linear_model import LinearRegression\n",
    "import statsmodels.api as sm\n",
    "from scipy import stats"
   ]
  },
  {
   "cell_type": "markdown",
   "metadata": {},
   "source": [
    "# Analysis"
   ]
  },
  {
   "cell_type": "code",
   "execution_count": 8,
   "metadata": {},
   "outputs": [],
   "source": [
    "with open ('df_07_08', 'rb') as fr:\n",
    "    df = pickle.load(fr)"
   ]
  },
  {
   "cell_type": "code",
   "execution_count": 12,
   "metadata": {},
   "outputs": [
    {
     "data": {
      "text/plain": [
       "Index(['length', '!', '?', ',', '.', ' ', 'Extro', 'Agree', 'Neuro', 'Open',\n",
       "       'Consc', 'Extro_Comedy', 'Extro_Art House & International',\n",
       "       'Extro_Drama', 'Extro_Action & Adventure', 'Extro_Horror',\n",
       "       'Extro_Science Fiction', 'Extro_Animation', 'Agree_Comedy',\n",
       "       'Agree_Art House & International', 'Agree_Drama',\n",
       "       'Agree_Action & Adventure', 'Agree_Horror', 'Agree_Science Fiction',\n",
       "       'Agree_Animation', 'Neuro_Comedy', 'Neuro_Art House & International',\n",
       "       'Neuro_Drama', 'Neuro_Action & Adventure', 'Neuro_Horror',\n",
       "       'Neuro_Science Fiction', 'Neuro_Animation', 'Open_Comedy',\n",
       "       'Open_Art House & International', 'Open_Drama',\n",
       "       'Open_Action & Adventure', 'Open_Horror', 'Open_Science Fiction',\n",
       "       'Open_Animation', 'Consc_Comedy', 'Consc_Art House & International',\n",
       "       'Consc_Drama', 'Consc_Action & Adventure', 'Consc_Horror',\n",
       "       'Consc_Science Fiction', 'Consc_Animation', 'corpus', 'noun', 'adj',\n",
       "       'verb (simple)', 'verb (simple past)', 'verb (past participle)',\n",
       "       'verb (gerund)', 'adverb', 'preposition'],\n",
       "      dtype='object')"
      ]
     },
     "execution_count": 12,
     "metadata": {},
     "output_type": "execute_result"
    }
   ],
   "source": [
    "df.columns[12:67]\n",
    "#len(df.columns)"
   ]
  },
  {
   "cell_type": "markdown",
   "metadata": {},
   "source": [
    "## Linear Regression"
   ]
  },
  {
   "cell_type": "code",
   "execution_count": 17,
   "metadata": {},
   "outputs": [
    {
     "name": "stdout",
     "output_type": "stream",
     "text": [
      "                            OLS Regression Results                            \n",
      "==============================================================================\n",
      "Dep. Variable:                   good   R-squared:                       0.126\n",
      "Model:                            OLS   Adj. R-squared:                  0.125\n",
      "Method:                 Least Squares   F-statistic:                     142.2\n",
      "Date:                Sat, 10 Aug 2019   Prob (F-statistic):               0.00\n",
      "Time:                        12:22:31   Log-Likelihood:                -12388.\n",
      "No. Observations:               18810   AIC:                         2.482e+04\n",
      "Df Residuals:                   18790   BIC:                         2.497e+04\n",
      "Df Model:                          19                                         \n",
      "Covariance Type:            nonrobust                                         \n",
      "==========================================================================================\n",
      "                             coef    std err          t      P>|t|      [0.025      0.975]\n",
      "------------------------------------------------------------------------------------------\n",
      "const                      0.5000      0.003    146.602      0.000       0.493       0.507\n",
      "length                    -0.0070      0.004     -1.891      0.059      -0.014       0.000\n",
      "!                          0.0118      0.004      3.291      0.001       0.005       0.019\n",
      "?                         -0.0515      0.003    -14.920      0.000      -0.058      -0.045\n",
      ",                         -0.0214      0.004     -5.832      0.000      -0.029      -0.014\n",
      ".                         -0.0110      0.004     -3.020      0.003      -0.018      -0.004\n",
      "                           0.0201      0.004      5.024      0.000       0.012       0.028\n",
      "Extro                     -0.0032      0.004     -0.900      0.368      -0.010       0.004\n",
      "Agree                      0.0976      0.005     18.185      0.000       0.087       0.108\n",
      "Neuro                      0.0546      0.004     15.276      0.000       0.048       0.062\n",
      "Open                       0.0063      0.003      1.804      0.071      -0.001       0.013\n",
      "Consc                      0.0068      0.005      1.281      0.200      -0.004       0.017\n",
      "noun                      -0.0143      0.004     -3.596      0.000      -0.022      -0.006\n",
      "adj                       -0.0195      0.004     -4.904      0.000      -0.027      -0.012\n",
      "verb (simple)             -0.0597      0.004    -15.350      0.000      -0.067      -0.052\n",
      "verb (simple past)        -0.0546      0.004    -15.004      0.000      -0.062      -0.047\n",
      "verb (past participle)    -0.0111      0.004     -3.138      0.002      -0.018      -0.004\n",
      "verb (gerund)             -0.0298      0.004     -8.433      0.000      -0.037      -0.023\n",
      "adverb                    -0.0644      0.004    -17.085      0.000      -0.072      -0.057\n",
      "preposition               -0.0266      0.004     -6.895      0.000      -0.034      -0.019\n",
      "==============================================================================\n",
      "Omnibus:                     5042.123   Durbin-Watson:                   2.006\n",
      "Prob(Omnibus):                  0.000   Jarque-Bera (JB):              829.994\n",
      "Skew:                          -0.016   Prob(JB):                    5.88e-181\n",
      "Kurtosis:                       1.971   Cond. No.                         3.02\n",
      "==============================================================================\n",
      "\n",
      "Warnings:\n",
      "[1] Standard Errors assume that the covariance matrix of the errors is correctly specified.\n"
     ]
    },
    {
     "name": "stderr",
     "output_type": "stream",
     "text": [
      "C:\\Users\\MAHAM\\AppData\\Local\\Continuum\\anaconda3\\lib\\site-packages\\numpy\\core\\fromnumeric.py:2389: FutureWarning: Method .ptp is deprecated and will be removed in a future version. Use numpy.ptp instead.\n",
      "  return ptp(axis=axis, out=out, **kwargs)\n"
     ]
    }
   ],
   "source": [
    "X = df.drop(columns=[\"corpus\",'Extro_Comedy', 'Extro_Art House & International',\n",
    "       'Extro_Drama', 'Extro_Action & Adventure', 'Extro_Horror',\n",
    "       'Extro_Science Fiction', 'Extro_Animation', 'Agree_Comedy',\n",
    "       'Agree_Art House & International', 'Agree_Drama',\n",
    "       'Agree_Action & Adventure', 'Agree_Horror', 'Agree_Science Fiction',\n",
    "       'Agree_Animation', 'Neuro_Comedy', 'Neuro_Art House & International',\n",
    "       'Neuro_Drama', 'Neuro_Action & Adventure', 'Neuro_Horror',\n",
    "       'Neuro_Science Fiction', 'Neuro_Animation', 'Open_Comedy',\n",
    "       'Open_Art House & International', 'Open_Drama',\n",
    "       'Open_Action & Adventure', 'Open_Horror', 'Open_Science Fiction',\n",
    "       'Open_Animation', 'Consc_Comedy', 'Consc_Art House & International',\n",
    "       'Consc_Drama', 'Consc_Action & Adventure', 'Consc_Horror',\n",
    "       'Consc_Science Fiction', 'Consc_Animation',\"sentiment\"])\n",
    "X1 = X.iloc[:,12:66]\n",
    "y = df[\"good\"]\n",
    "\n",
    "X2 = sm.add_constant(X1)\n",
    "est = sm.OLS(y, X2).fit()\n",
    "print(est.summary())\n",
    "\n",
    "#result = pd.concat((est.params, est.pvalues), axis=1)\n",
    "#result.rename(columns={0: 'beta', 1: 't'}).to_excel('linear_regression.xls', 'sheet1')\n",
    "\n",
    "# FULL: adjusted r squaed 0.133\n",
    "# Without interaction terms: 0.125"
   ]
  },
  {
   "cell_type": "markdown",
   "metadata": {},
   "source": [
    "## Hierarchical Model"
   ]
  },
  {
   "cell_type": "code",
   "execution_count": 2,
   "metadata": {},
   "outputs": [],
   "source": [
    "with open ('df_07_08', 'rb') as fr:\n",
    "    df = pickle.load(fr)"
   ]
  },
  {
   "cell_type": "code",
   "execution_count": 6,
   "metadata": {},
   "outputs": [
    {
     "data": {
      "text/plain": [
       "(18810, 68)"
      ]
     },
     "execution_count": 6,
     "metadata": {},
     "output_type": "execute_result"
    }
   ],
   "source": [
    "df.shape"
   ]
  },
  {
   "cell_type": "code",
   "execution_count": 5,
   "metadata": {},
   "outputs": [
    {
     "data": {
      "text/plain": [
       "(18810, 59)"
      ]
     },
     "execution_count": 5,
     "metadata": {},
     "output_type": "execute_result"
    }
   ],
   "source": [
    "with open ('data_26_07_w_corpus', 'rb') as fr:\n",
    "    df2 = pickle.load(fr)\n",
    "df2.shape"
   ]
  },
  {
   "cell_type": "code",
   "execution_count": 7,
   "metadata": {},
   "outputs": [],
   "source": [
    "median_O = df.loc[:,\"Open\"].median()\n",
    "median_N = df.loc[:,\"Neuro\"].median()\n",
    "median_A = df.loc[:,\"Agree\"].median()\n",
    "\n",
    "# dataframe with high openness\n",
    "df_H_O = df[df.Open >= median_O]\n",
    "# df with low openness\n",
    "df_L_O = df[df.Open < median_O]\n",
    "# dataframe with high openness\n",
    "df_H_N = df[df.Neuro >= median_N]\n",
    "# df with low openness\n",
    "df_L_N = df[df.Neuro < median_N]\n",
    "\n",
    "# dataframe with high Agreeableness\n",
    "df_H_A = df[df.Agree >= median_A]\n",
    "# df with low Agreeableness\n",
    "df_L_A = df[df.Agree < median_A]"
   ]
  },
  {
   "cell_type": "code",
   "execution_count": 8,
   "metadata": {},
   "outputs": [
    {
     "data": {
      "text/plain": [
       "(-0.21503994493254414, 0.3723573823917685, -0.13265988405009393)"
      ]
     },
     "execution_count": 8,
     "metadata": {},
     "output_type": "execute_result"
    }
   ],
   "source": [
    "median_A, median_N, median_O"
   ]
  },
  {
   "cell_type": "code",
   "execution_count": 9,
   "metadata": {},
   "outputs": [],
   "source": [
    "import math\n",
    "# df with random split\n",
    "# reshuffle first\n",
    "df = df.sample(frac=1).reset_index(drop=True)\n",
    "half = math.ceil(len(df)/2)\n",
    "df1 = df.iloc[:half,:]\n",
    "df2 = df.iloc[half:,]"
   ]
  },
  {
   "cell_type": "code",
   "execution_count": 10,
   "metadata": {},
   "outputs": [
    {
     "name": "stdout",
     "output_type": "stream",
     "text": [
      "df1 (9405, 68)\n",
      "df2 (9405, 68)\n",
      "df_H_O (9405, 68)\n",
      "df_L_O (9405, 68)\n",
      "df_H_N (12248, 68)\n",
      "df_L_N (6562, 68)\n",
      "df_H_A (14964, 68)\n",
      "df_L_A (3846, 68)\n"
     ]
    }
   ],
   "source": [
    "dataframes = [df1,df2,df_H_O,df_L_O,df_H_N,df_L_N,df_H_A,df_L_A]\n",
    "dataframes_names = [\"df1\",\"df2\",\"df_H_O\",\"df_L_O\",\"df_H_N\",\"df_L_N\",\"df_H_A\",\"df_L_A\"]\n",
    "for dfx, name in zip(dataframes,dataframes_names):\n",
    "    print (name, dfx.shape)"
   ]
  },
  {
   "cell_type": "markdown",
   "metadata": {},
   "source": [
    "# RELEVANT PART"
   ]
  },
  {
   "cell_type": "code",
   "execution_count": 12,
   "metadata": {},
   "outputs": [],
   "source": [
    "# df1 and df2 are random splits and df_H_O means High Openness, \n",
    "# df_L_O means low opennes etc, I split my median\n",
    "dataframes = [df1,df2,df_H_O,df_L_O,df_H_N,df_L_N,df_H_A,df_L_A]\n",
    "dataframes_names = [\"df1\",\"df2\",\"df_H_O\",\"df_L_O\",\"df_H_N\",\"df_L_N\",\"df_H_A\",\"df_L_A\"]"
   ]
  },
  {
   "cell_type": "code",
   "execution_count": 13,
   "metadata": {},
   "outputs": [
    {
     "name": "stdout",
     "output_type": "stream",
     "text": [
      "df1   0.8186366213151925 9405\n",
      "df2   0.8144274376417233 9405\n",
      "df_H_O   0.813421201814059 9405\n",
      "df_L_O   0.818792517006803 9405\n",
      "df_H_N   0.8175919878075331 12248\n",
      "df_L_N   0.8214503351614868 6562\n",
      "df_H_A   0.8185957408892452 14964\n",
      "df_L_A   0.7974012474012474 3846\n"
     ]
    }
   ],
   "source": [
    "for dfx, name in zip(dataframes,dataframes_names):\n",
    "    cv = CountVectorizer(max_features = 500, ngram_range=(1,2))\n",
    "    XX = cv.fit_transform(dfx[\"corpus\"]).toarray()\n",
    "    # using relative word counts instead of absolute ones\n",
    "    tfidf_transformer = TfidfTransformer()\n",
    "    tfidf = tfidf_transformer.fit_transform(XX).toarray()\n",
    "    X = tfidf\n",
    "    y=dfx[\"good\"]\n",
    "    acc=[]\n",
    "    for seed in range(30):\n",
    "        X_train, X_test, y_train, y_test = train_test_split(X, y, test_size = 0.25, random_state = seed)\n",
    "        log = LogisticRegression(solver='liblinear')#regularization is applied by default\n",
    "        log.fit(X_train, y_train)\n",
    "        accuracy=log.score(X_test,y_test)\n",
    "        acc.append(accuracy)\n",
    "    print(name,\" \",sum(acc)/len(acc), len(dfx))"
   ]
  },
  {
   "cell_type": "markdown",
   "metadata": {},
   "source": [
    "# END"
   ]
  },
  {
   "cell_type": "code",
   "execution_count": null,
   "metadata": {},
   "outputs": [],
   "source": [
    "from sklearn.linear_model import RidgeClassifierCV\n",
    "#X = df.iloc[:,5:]\n",
    "#y = df[\"good\"]\n",
    "clf = RidgeClassifierCV(alphas=[1e-7,1e-6,1e-5,1e-4,1e-3, 1e-2, 1e-1, 1]).fit(X_train, y_train)\n",
    "clf.score(X_test, y_test) "
   ]
  },
  {
   "cell_type": "code",
   "execution_count": null,
   "metadata": {},
   "outputs": [],
   "source": [
    "from sklearn.neural_network import MLPClassifier"
   ]
  },
  {
   "cell_type": "code",
   "execution_count": null,
   "metadata": {},
   "outputs": [],
   "source": [
    "#X = df.iloc[:,5:]\n",
    "#y = df[\"good\"]\n",
    "mlp = MLPClassifier(alpha=0.9,random_state=123)\n",
    "mlp.fit(X_train, y_train)\n",
    "score = mlp.score(X_test, y_test)\n",
    "score"
   ]
  },
  {
   "cell_type": "code",
   "execution_count": null,
   "metadata": {},
   "outputs": [],
   "source": []
  }
 ],
 "metadata": {
  "kernelspec": {
   "display_name": "Python 3",
   "language": "python",
   "name": "python3"
  },
  "language_info": {
   "codemirror_mode": {
    "name": "ipython",
    "version": 3
   },
   "file_extension": ".py",
   "mimetype": "text/x-python",
   "name": "python",
   "nbconvert_exporter": "python",
   "pygments_lexer": "ipython3",
   "version": "3.7.3"
  }
 },
 "nbformat": 4,
 "nbformat_minor": 2
}
