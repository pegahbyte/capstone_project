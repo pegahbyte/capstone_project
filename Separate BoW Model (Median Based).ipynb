{
 "cells": [
  {
   "cell_type": "markdown",
   "metadata": {},
   "source": [
    "# Navigation\n",
    "\n",
    "Splitting the dataset into above and below median for several personality traits and building BoW models seperately on each of them."
   ]
  },
  {
   "cell_type": "code",
   "execution_count": 16,
   "metadata": {},
   "outputs": [
    {
     "name": "stderr",
     "output_type": "stream",
     "text": [
      "[nltk_data] Downloading package stopwords to\n",
      "[nltk_data]     C:\\Users\\MAHAM\\AppData\\Roaming\\nltk_data...\n",
      "[nltk_data]   Package stopwords is already up-to-date!\n"
     ]
    }
   ],
   "source": [
    "import pandas as pd\n",
    "import os as os\n",
    "import json as js\n",
    "import gzip\n",
    "import numpy as np\n",
    "import matplotlib.pyplot as plt\n",
    "import pickle\n",
    "\n",
    "#importing libraries for NLP\n",
    "import re\n",
    "import nltk\n",
    "nltk.download('stopwords')\n",
    "from nltk.corpus import stopwords\n",
    "from nltk.stem.porter import PorterStemmer\n",
    "from collections import Counter\n",
    "\n",
    "#Text Classification Material\n",
    "from sklearn.feature_extraction.text import CountVectorizer\n",
    "from sklearn.linear_model import LogisticRegression\n",
    "from sklearn.feature_extraction.text import TfidfTransformer\n",
    "from sklearn.pipeline import Pipeline\n",
    "from sklearn.model_selection import train_test_split\n",
    "from sklearn.metrics import accuracy_score\n",
    "from sklearn.naive_bayes import GaussianNB\n",
    "from sklearn.naive_bayes import MultinomialNB\n",
    "from sklearn.naive_bayes import BernoulliNB\n",
    "from sklearn.metrics import confusion_matrix\n",
    "\n",
    "from sklearn import  linear_model\n",
    "from sklearn.linear_model import LinearRegression\n",
    "import statsmodels.api as sm\n",
    "from scipy import stats"
   ]
  },
  {
   "cell_type": "markdown",
   "metadata": {},
   "source": [
    "## Hierarchical Model"
   ]
  },
  {
   "cell_type": "markdown",
   "metadata": {},
   "source": [
    "# Exploration"
   ]
  },
  {
   "cell_type": "code",
   "execution_count": 2,
   "metadata": {},
   "outputs": [],
   "source": [
    "with open ('df_07_08', 'rb') as fr:\n",
    "    df = pickle.load(fr)"
   ]
  },
  {
   "cell_type": "code",
   "execution_count": 6,
   "metadata": {},
   "outputs": [
    {
     "data": {
      "text/plain": [
       "(18810, 68)"
      ]
     },
     "execution_count": 6,
     "metadata": {},
     "output_type": "execute_result"
    }
   ],
   "source": [
    "df.shape"
   ]
  },
  {
   "cell_type": "code",
   "execution_count": 5,
   "metadata": {},
   "outputs": [
    {
     "data": {
      "text/plain": [
       "(18810, 59)"
      ]
     },
     "execution_count": 5,
     "metadata": {},
     "output_type": "execute_result"
    }
   ],
   "source": [
    "with open ('data_26_07_w_corpus', 'rb') as fr:\n",
    "    df2 = pickle.load(fr)\n",
    "df2.shape"
   ]
  },
  {
   "cell_type": "code",
   "execution_count": 7,
   "metadata": {},
   "outputs": [],
   "source": [
    "#Calculating the medians\n",
    "median_O = df.loc[:,\"Open\"].median()\n",
    "median_N = df.loc[:,\"Neuro\"].median()\n",
    "median_A = df.loc[:,\"Agree\"].median()\n",
    "\n",
    "# dataframe with high openness\n",
    "df_H_O = df[df.Open >= median_O]\n",
    "# df with low openness\n",
    "df_L_O = df[df.Open < median_O]\n",
    "# dataframe with high openness\n",
    "df_H_N = df[df.Neuro >= median_N]\n",
    "# df with low openness\n",
    "df_L_N = df[df.Neuro < median_N]\n",
    "\n",
    "# dataframe with high Agreeableness\n",
    "df_H_A = df[df.Agree >= median_A]\n",
    "# df with low Agreeableness\n",
    "df_L_A = df[df.Agree < median_A]"
   ]
  },
  {
   "cell_type": "code",
   "execution_count": 8,
   "metadata": {},
   "outputs": [
    {
     "data": {
      "text/plain": [
       "(-0.21503994493254414, 0.3723573823917685, -0.13265988405009393)"
      ]
     },
     "execution_count": 8,
     "metadata": {},
     "output_type": "execute_result"
    }
   ],
   "source": [
    "median_A, median_N, median_O"
   ]
  },
  {
   "cell_type": "code",
   "execution_count": 9,
   "metadata": {},
   "outputs": [],
   "source": [
    "import math\n",
    "# df with random split\n",
    "# reshuffle first\n",
    "df = df.sample(frac=1).reset_index(drop=True)\n",
    "half = math.ceil(len(df)/2)\n",
    "df1 = df.iloc[:half,:]\n",
    "df2 = df.iloc[half:,]"
   ]
  },
  {
   "cell_type": "code",
   "execution_count": 10,
   "metadata": {},
   "outputs": [
    {
     "name": "stdout",
     "output_type": "stream",
     "text": [
      "df1 (9405, 68)\n",
      "df2 (9405, 68)\n",
      "df_H_O (9405, 68)\n",
      "df_L_O (9405, 68)\n",
      "df_H_N (12248, 68)\n",
      "df_L_N (6562, 68)\n",
      "df_H_A (14964, 68)\n",
      "df_L_A (3846, 68)\n"
     ]
    }
   ],
   "source": [
    "dataframes = [df1,df2,df_H_O,df_L_O,df_H_N,df_L_N,df_H_A,df_L_A]\n",
    "dataframes_names = [\"df1\",\"df2\",\"df_H_O\",\"df_L_O\",\"df_H_N\",\"df_L_N\",\"df_H_A\",\"df_L_A\"]\n",
    "for dfx, name in zip(dataframes,dataframes_names):\n",
    "    print (name, dfx.shape)"
   ]
  },
  {
   "cell_type": "markdown",
   "metadata": {},
   "source": [
    "# Generate Results "
   ]
  },
  {
   "cell_type": "code",
   "execution_count": 12,
   "metadata": {},
   "outputs": [],
   "source": [
    "# df1 and df2 are random splits and df_H_O means High Openness, \n",
    "# df_L_O means low opennes etc, I split my median\n",
    "dataframes = [df1,df2,df_H_O,df_L_O,df_H_N,df_L_N,df_H_A,df_L_A]\n",
    "dataframes_names = [\"df1\",\"df2\",\"df_H_O\",\"df_L_O\",\"df_H_N\",\"df_L_N\",\"df_H_A\",\"df_L_A\"]"
   ]
  },
  {
   "cell_type": "code",
   "execution_count": 13,
   "metadata": {},
   "outputs": [
    {
     "name": "stdout",
     "output_type": "stream",
     "text": [
      "df1   0.8186366213151925 9405\n",
      "df2   0.8144274376417233 9405\n",
      "df_H_O   0.813421201814059 9405\n",
      "df_L_O   0.818792517006803 9405\n",
      "df_H_N   0.8175919878075331 12248\n",
      "df_L_N   0.8214503351614868 6562\n",
      "df_H_A   0.8185957408892452 14964\n",
      "df_L_A   0.7974012474012474 3846\n"
     ]
    }
   ],
   "source": [
    "for dfx, name in zip(dataframes,dataframes_names):\n",
    "    # pre processing for BoW model\n",
    "    cv = CountVectorizer(max_features = 500, ngram_range=(1,2))\n",
    "    XX = cv.fit_transform(dfx[\"corpus\"]).toarray()\n",
    "    # using relative word counts instead of absolute ones\n",
    "    tfidf_transformer = TfidfTransformer()\n",
    "    tfidf = tfidf_transformer.fit_transform(XX).toarray()\n",
    "    X = tfidf\n",
    "    y=dfx[\"good\"]\n",
    "    acc=[]\n",
    "    # Running multiple runs to obtain an average\n",
    "    for seed in range(30):\n",
    "        X_train, X_test, y_train, y_test = train_test_split(X, y, test_size = 0.25, random_state = seed)\n",
    "        log = LogisticRegression(solver='liblinear')#regularization is applied by default\n",
    "        log.fit(X_train, y_train)\n",
    "        accuracy=log.score(X_test,y_test)\n",
    "        acc.append(accuracy)\n",
    "    # printing the name of the dataset, the average accuracy and the size of the dataset\n",
    "    print(name,\" \",sum(acc)/len(acc), len(dfx))"
   ]
  }
 ],
 "metadata": {
  "kernelspec": {
   "display_name": "Python 3",
   "language": "python",
   "name": "python3"
  },
  "language_info": {
   "codemirror_mode": {
    "name": "ipython",
    "version": 3
   },
   "file_extension": ".py",
   "mimetype": "text/x-python",
   "name": "python",
   "nbconvert_exporter": "python",
   "pygments_lexer": "ipython3",
   "version": "3.7.3"
  }
 },
 "nbformat": 4,
 "nbformat_minor": 2
}
